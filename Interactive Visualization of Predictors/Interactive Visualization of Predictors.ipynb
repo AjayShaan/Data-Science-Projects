{
 "cells": [
  {
   "cell_type": "markdown",
   "metadata": {},
   "source": [
    "# Interactive Visualizations of Predictors"
   ]
  },
  {
   "cell_type": "code",
   "execution_count": 1,
   "metadata": {},
   "outputs": [
    {
     "ename": "ImportError",
     "evalue": "Missing required dependencies ['numpy']",
     "output_type": "error",
     "traceback": [
      "\u001b[1;31m---------------------------------------------------------------------------\u001b[0m",
      "\u001b[1;31mImportError\u001b[0m                               Traceback (most recent call last)",
      "\u001b[1;32m<ipython-input-1-a6c1437ba501>\u001b[0m in \u001b[0;36m<module>\u001b[1;34m()\u001b[0m\n\u001b[1;32m----> 1\u001b[1;33m \u001b[1;32mimport\u001b[0m \u001b[0mpandas\u001b[0m \u001b[1;32mas\u001b[0m \u001b[0mpd\u001b[0m\u001b[1;33m\u001b[0m\u001b[0m\n\u001b[0m\u001b[0;32m      2\u001b[0m \u001b[1;32mfrom\u001b[0m \u001b[0mbokeh\u001b[0m\u001b[1;33m.\u001b[0m\u001b[0mio\u001b[0m \u001b[1;32mimport\u001b[0m \u001b[0moutput_notebook\u001b[0m\u001b[1;33m,\u001b[0m \u001b[0mshow\u001b[0m\u001b[1;33m\u001b[0m\u001b[0m\n\u001b[0;32m      3\u001b[0m \u001b[1;32mfrom\u001b[0m \u001b[0mbokeh\u001b[0m\u001b[1;33m.\u001b[0m\u001b[0mplotting\u001b[0m \u001b[1;32mimport\u001b[0m \u001b[0mfigure\u001b[0m\u001b[1;33m,\u001b[0m \u001b[0moutput_file\u001b[0m\u001b[1;33m,\u001b[0m \u001b[0mshow\u001b[0m\u001b[1;33m\u001b[0m\u001b[0m\n\u001b[0;32m      4\u001b[0m \u001b[1;32mimport\u001b[0m \u001b[0mpandas\u001b[0m \u001b[1;32mas\u001b[0m \u001b[0mpd\u001b[0m\u001b[1;33m\u001b[0m\u001b[0m\n\u001b[0;32m      5\u001b[0m \u001b[1;32mimport\u001b[0m \u001b[0mnumpy\u001b[0m \u001b[1;32mas\u001b[0m \u001b[0mnp\u001b[0m\u001b[1;33m\u001b[0m\u001b[0m\n",
      "\u001b[1;32mD:\\Anaconda\\lib\\site-packages\\pandas\\__init__.py\u001b[0m in \u001b[0;36m<module>\u001b[1;34m()\u001b[0m\n\u001b[0;32m     17\u001b[0m \u001b[1;32mif\u001b[0m \u001b[0mmissing_dependencies\u001b[0m\u001b[1;33m:\u001b[0m\u001b[1;33m\u001b[0m\u001b[0m\n\u001b[0;32m     18\u001b[0m     raise ImportError(\n\u001b[1;32m---> 19\u001b[1;33m         \"Missing required dependencies {0}\".format(missing_dependencies))\n\u001b[0m\u001b[0;32m     20\u001b[0m \u001b[1;32mdel\u001b[0m \u001b[0mhard_dependencies\u001b[0m\u001b[1;33m,\u001b[0m \u001b[0mdependency\u001b[0m\u001b[1;33m,\u001b[0m \u001b[0mmissing_dependencies\u001b[0m\u001b[1;33m\u001b[0m\u001b[0m\n\u001b[0;32m     21\u001b[0m \u001b[1;33m\u001b[0m\u001b[0m\n",
      "\u001b[1;31mImportError\u001b[0m: Missing required dependencies ['numpy']"
     ]
    }
   ],
   "source": [
    "import pandas as pd\n",
    "from bokeh.io import output_notebook, show\n",
    "from bokeh.plotting import figure, output_file, show\n",
    "import pandas as pd\n",
    "import numpy as np\n",
    "from bokeh.models import ColumnDataSource,HoverTool\n",
    "from bokeh.models import (ColumnDataSource,HoverTool,LinearColorMapper,BasicTicker,PrintfTickFormatter,ColorBar)\n",
    "import ipywidgets as widgets\n",
    "from ipywidgets import interact, interactive, fixed, interact_manual, IntSlider\n",
    "from bokeh.io import output_notebook, show, curdoc, push_notebook\n",
    "\n",
    "output_notebook()\n",
    "\n",
    "data = pd.read_csv('nutrition_raw_anonymized_data.csv')\n",
    "data = data.drop('ID',axis=1)\n",
    "data.head(10)"
   ]
  },
  {
   "cell_type": "markdown",
   "metadata": {},
   "source": [
    "#### Loaded data into dataframe"
   ]
  },
  {
   "cell_type": "code",
   "execution_count": null,
   "metadata": {
    "collapsed": true
   },
   "outputs": [],
   "source": [
    "cols = data.columns.tolist()[0:26]\n",
    "cols.remove('belly')\n",
    "for col in cols:\n",
    "    data[col].replace(('Yes', 'No'), (1, 0), inplace=True)"
   ]
  },
  {
   "cell_type": "code",
   "execution_count": null,
   "metadata": {},
   "outputs": [],
   "source": [
    "data.head(10)"
   ]
  },
  {
   "cell_type": "code",
   "execution_count": null,
   "metadata": {
    "collapsed": true
   },
   "outputs": [],
   "source": [
    "temp = pd.Series()\n",
    "\n",
    "for col in data.columns.tolist()[26:282]:\n",
    "    if col.find('FREQ')>0:\n",
    "        temp = data[col]\n",
    "    if col.find('QUAN')>0:\n",
    "        data[col] = temp.astype(int) * data[col].astype(int)\n",
    "        data = data.drop(temp.name,axis=1)\n",
    "        \n"
   ]
  },
  {
   "cell_type": "code",
   "execution_count": null,
   "metadata": {},
   "outputs": [],
   "source": [
    "data.head(10)"
   ]
  },
  {
   "cell_type": "code",
   "execution_count": null,
   "metadata": {
    "collapsed": true
   },
   "outputs": [],
   "source": [
    "data['belly'].replace(('Innie', 'Outie'), (1, 0), inplace=True)"
   ]
  },
  {
   "cell_type": "code",
   "execution_count": null,
   "metadata": {},
   "outputs": [],
   "source": [
    "data.head(10)"
   ]
  },
  {
   "cell_type": "markdown",
   "metadata": {},
   "source": [
    "#### Converted categorical values to binary values"
   ]
  },
  {
   "cell_type": "code",
   "execution_count": null,
   "metadata": {},
   "outputs": [],
   "source": [
    "correlations = data.corr()\n",
    "\n",
    "se = pd.Series(correlations.columns.tolist())\n",
    "correlations['Feature_1'] = se.values\n",
    "\n",
    "correlations.head(10)"
   ]
  },
  {
   "cell_type": "markdown",
   "metadata": {},
   "source": [
    "#### Determined correlations between variables"
   ]
  },
  {
   "cell_type": "code",
   "execution_count": null,
   "metadata": {
    "collapsed": true
   },
   "outputs": [],
   "source": [
    "correlations = correlations.set_index('Feature_1')\n",
    "correlations.columns.name = 'Feature_2'\n",
    "pivoted_df = pd.DataFrame(correlations.stack(), columns=['Correlation']).reset_index()"
   ]
  },
  {
   "cell_type": "code",
   "execution_count": null,
   "metadata": {},
   "outputs": [],
   "source": [
    "pivoted_df.head(10)"
   ]
  },
  {
   "cell_type": "code",
   "execution_count": null,
   "metadata": {
    "collapsed": true,
    "scrolled": true
   },
   "outputs": [],
   "source": [
    "#targets = data.columns.tolist()[:26]\n",
    "targets = ['DT_VITD','DT_VITK','DT_VITC','DT_THIA','DT_SEL','DT_RIBO','DT_VITB6','DT_TFOL','DT_VB12','DT_CALC','DT_IRON','DT_MAGN','DT_PHOS','DT_POTA','DT_SODI','DT_ZINC','DT_COPP','T_FLAVONOIDS','BCOMPLEXTYPEVITSAMOUNT','ANTIOXIDANTCOMBOAMOUNT','cancer','diabetes','heart_disease','ever_smoked','currently_smoke','smoke_often','smoke_rarely','never_smoked','quit_smoking','left_hand','right_hand','cat','dog']\n",
    "#targets = ['cancer','diabetes','heart_disease']\n",
    "new_df = pd.DataFrame()\n",
    "for target in targets:\n",
    "    new_df = new_df.append(pivoted_df[pivoted_df['Feature_1']==target])\n",
    "pivoted_df = new_df"
   ]
  },
  {
   "cell_type": "markdown",
   "metadata": {},
   "source": [
    "#### Pivoted dataframe for columndatasource definition"
   ]
  },
  {
   "cell_type": "code",
   "execution_count": null,
   "metadata": {
    "collapsed": true
   },
   "outputs": [],
   "source": [
    "source = ColumnDataSource(pivoted_df)\n",
    "colormap = LinearColorMapper(palette=['#bdbdbd','#969696','#a50f15'],\n",
    "                             low=abs(pivoted_df['Correlation']).min(), high=abs(pivoted_df['Correlation']).max())\n",
    "\n",
    "#Making lists of countries and years to define the figure\n",
    "f1 = list(correlations.index)\n",
    "f2 = targets\n",
    "\n",
    "#Defining figure object and styling it\n",
    "p = figure(title=\"Correlations\",\n",
    "           x_range=f2, y_range=list(f1[::-1]),\n",
    "           plot_height=1200, plot_width=900,\n",
    "           x_axis_location=\"above\", toolbar_location='below', tools=\"hover,pan,wheel_zoom,box_zoom,reset,save\")\n",
    "\n",
    "p.xaxis.axis_label = 'Features'\n",
    "p.yaxis.axis_label = 'Features'\n",
    "p.axis.axis_line_color = None\n",
    "p.axis.major_tick_line_color = None\n",
    "p.axis.major_label_text_font_size = \"5pt\"\n"
   ]
  },
  {
   "cell_type": "code",
   "execution_count": null,
   "metadata": {
    "collapsed": true
   },
   "outputs": [],
   "source": [
    "#Defining plot point\n",
    "r = p.rect(x=\"Feature_1\", y=\"Feature_2\", height=1, width=1, source=source, fill_color={'field': 'Correlation', 'transform': colormap},\n",
    "       line_color=None)\n",
    "\n",
    "#Defining legend and adding it to figure\n",
    "legend = ColorBar(color_mapper=colormap, ticker=BasicTicker(desired_num_ticks=5),\n",
    "                  formatter=PrintfTickFormatter(format=\"%d%%\"), major_label_text_font_size=\"1pt\", \n",
    "                  location=(0, 0), \n",
    "                  )\n",
    "p.add_layout(legend, 'right')"
   ]
  },
  {
   "cell_type": "code",
   "execution_count": null,
   "metadata": {
    "collapsed": true
   },
   "outputs": [],
   "source": [
    "#Defining hover tool\n",
    "p.select_one(HoverTool).tooltips = [('Feature 1 & Feature 2', '@Feature_1 @Feature_2'),\n",
    "                                   ('Correlation', '@Correlation')]"
   ]
  },
  {
   "cell_type": "code",
   "execution_count": null,
   "metadata": {
    "scrolled": false
   },
   "outputs": [],
   "source": [
    "show(p)\n"
   ]
  },
  {
   "cell_type": "markdown",
   "metadata": {},
   "source": [
    "#### Note: \n",
    "#### 1. Please hover on the rectangular glyphs in the linear color mapper above to learn which factors converge at a point of correlation. The ones in red signify high correlation. However, sometimes they aren't very useful in our analysis if they are either part of the same idealogical construct, or if they are obvious or if they're correlations between identical factors from each axis.\n",
    "\n",
    "#### 2. The X axis does not contain all attributes because bokeh threw an error stating that ioPub data rate exceeded when I tried to cramp around 150 variables in the X range, let alone all 1000(approx) variables. Therefore, only features that I desired to focus on were used for the plot above."
   ]
  },
  {
   "cell_type": "markdown",
   "metadata": {},
   "source": [
    "### There are many interesting correlations observed between variables here.\n",
    "\n",
    "#### 1. Diabetic folks tend to consume a lot of plain non-fat yogurt. This proves the prevalence of the common misconception among the general population that fat-free food are perfectly healthy and that sugar consumption is fine. According to study, it is white sugar, the most widely used form of sugar, that is very detrimental to health. Sadly, this is an ingredient not just in \"sugary\" food but even something as innocous as ketchup!\n",
    "\n",
    "#### 2. Beer and coffee seem to be more desired by smokers than the rest. It could be that these beverages go well with cigarettes.\n",
    "\n",
    "#### 3. Smokers are also observed to be big fans of cream cheese, hotdogs, steak, butter, corn, sausage, bacon and soy. Considering how all of these are either meat or something that goes hand in hand with it, it stands to reason that smokers are highely likely to be non-vegetarians.\n",
    "\n",
    "#### 4. Another interesting note is that while smokers tend to go for cream cheese, the ones who quit smoking prefer cottage cheese. It's very probable that there's something about cheese that smokers, perhaps unconsiously, like, that in order to stick to their healthy lifestyle after kicking the habit, switch to the nutritious cottage cheese. It's also worth noting that quitters of smoking not just tend to give up this vice but often decide to eat healthy. This statement is fairly made concrete by the observation that they tend to eat legumes, refried beans, whole-grain crackers and vegetable soup more than those who never smoked.\n",
    "\n",
    "#### 5. Cat owners are found to have more affinity towards coffee than dog owners. It is very possible that cat owners are more susceptible to being awaken at odd hours of the night, leading to excessive coffee consumption. I argue that it could be because they're sleep-deprived and have to rely more on coffee to be productive.\n",
    "\n",
    "#### 6. Points worth mentioning about dog owners include their relative inclination towards fish other than salmon and tuna, and brown rice. One can hypothesize that since dogs are high-maintenance pets, owners sometimes tend to buy them cheaper fishes and brown rice as opposed to red meat to cut costs.\n",
    "\n",
    "#### 7. Interestingly, dog owners are obeserved to have higher worktimes than cat owners. Although this contradicts the fact that dog owners are more likely to return home sooner than cat owners to play with their significantly more sociable pets, it could be that dog owners are happier, more motivated and also like their furry friends, tend to work hard and satisfy the alpha of their pack."
   ]
  },
  {
   "cell_type": "markdown",
   "metadata": {},
   "source": [
    "#### While it'd be a more fascinating study to observe characteristics of patients of cancer, diabetes and heart disease and make strong inferences, given the small dataset of 54 samples, it's hard to find good correlations between them and even harder for machine learning models to learn them well enough to make decently accurate predictions. Therefore, as an alternative, since this dataset has rather strong, reliable correlations between nutrients and food, I did a little research and noted down the nutrients, a lack of which, causes cancer. Using that information, I tracked down food products in this dataset that are rich in these said nutrients and built predictors that are trained to predict their quantities in a person's system based on how many units of these food products they consume per week."
   ]
  },
  {
   "cell_type": "code",
   "execution_count": null,
   "metadata": {
    "collapsed": true
   },
   "outputs": [],
   "source": [
    "import pandas as pd\n",
    "import matplotlib.pyplot as plt\n",
    "from sklearn.linear_model import LinearRegression"
   ]
  },
  {
   "cell_type": "code",
   "execution_count": null,
   "metadata": {},
   "outputs": [],
   "source": [
    "from bokeh import charts, plotting, models\n",
    "plotting.output_notebook()"
   ]
  },
  {
   "cell_type": "code",
   "execution_count": null,
   "metadata": {
    "collapsed": true
   },
   "outputs": [],
   "source": [
    "def update(eggs,cheese,salmon,milk,cocoa,tuna,shellfish,beef,steak,bacon,avocado,walnut,tomato,nuts,soy,tofu,butter,potatoes,hotdog,chicken,cereal,broccoli,greens,berries,beans,vegsoup,legumes):\n",
    "    import pandas as pd\n",
    "    import matplotlib.pyplot as plt\n",
    "    from sklearn.linear_model import LinearRegression\n",
    "    \n",
    "    data = pd.read_csv('nutrition_raw_anonymized_data.csv')\n",
    "    data = data.drop('ID',axis=1)\n",
    "    cols = data.columns.tolist()[0:26]\n",
    "    cols.remove('belly')\n",
    "    for col in cols:\n",
    "        data[col].replace(('Yes', 'No'), (1, 0), inplace=True)\n",
    "    temp = pd.Series()\n",
    "\n",
    "    for col in data.columns.tolist()[26:282]:\n",
    "        if col.find('FREQ')>0:\n",
    "            temp = data[col]\n",
    "        if col.find('QUAN')>0:\n",
    "            data[col] = temp.astype(int) * data[col].astype(int)\n",
    "            data = data.drop(temp.name,axis=1)\n",
    "    data['belly'].replace(('Innie', 'Outie'), (1, 0), inplace=True)\n",
    "    \n",
    "    model = LinearRegression()\n",
    "    model.fit(data[['EGGSQUAN','SLICEDCHEESEQUAN','SALMONQUAN','D_MILK','COCOAQUAN']], data[\"DT_VITD\"])\n",
    "    vit_d = model.predict(np.array([eggs,cheese,salmon,milk,cocoa]).reshape(1,-1))\n",
    "    model = LinearRegression()\n",
    "    model.fit(data[['EGGSQUAN','MILKQUAN','TUNAQUAN','SHELLFISHQUAN','BEEFPORKDISHQUAN','STEAKQUAN','BACONSAUSAGEQUAN']], data[\"DT_VB12\"])\n",
    "    vit_b12 = model.predict(np.array([eggs,milk,tuna,shellfish,beef,steak,bacon]).reshape(1,-1))\n",
    "    model = LinearRegression()\n",
    "    model.fit(data[['AVOCADOQUAN','WALNUTSQUAN','TOMATOJUICEQUAN','PF_NUTSDS','M_SOY_ND','GROUP_CREAM_CHEESE_SOUR_CREAM_DIP_TOTAL_GRAMS','GROUP_TOFU_OR_TEMPEH_TOTAL_GRAMS','GROUP_BUTTER_AT_TABLE_TOTAL_GRAMS']], data[\"BCOMPLEXTYPEVITSAMOUNT\"])\n",
    "    vit_bcomp = model.predict(np.array([avocado,walnut,tomato,nuts,soy,cheese,tofu,butter]).reshape(1,-1))\n",
    "    model = LinearRegression()\n",
    "    model.fit(data[['POTATOESQUAN','HOTDOGQUAN','BEEFPORKDISHQUAN','FRIEDORBREADEDCHICKENQUAN','D_CHEESE','PSEGGS']], data[\"DT_SEL\"])\n",
    "    sel = model.predict(np.array([potatoes,hotdog,beef,chicken,cheese,eggs]).reshape(1,-1))\n",
    "    model = LinearRegression()\n",
    "    model.fit(data[['WHOLEGRAINCEREALQUAN','BROCCOLIQUAN','COOKEDGREENSQUAN','SWEETPOTATOESQUAN','BERRIESQUAN','BEANSQUAN','VEGETABLESOUPQUAN','A_NUT_S','V_LEGUMES']], data[\"DT_MAGN\"])\n",
    "    mag = model.predict(np.array([cereal,broccoli,greens,potatoes,berries,beans,vegsoup,nuts,legumes]).reshape(1,-1))\n",
    "    \n",
    "    datalist = [\n",
    "    {'Nutrient': 'Vitamin D', 'gm': float(vit_d)},\n",
    "    {'Nutrient': 'Vitamin B12', 'gm': float(vit_b12)},\n",
    "    {'Nutrient': 'Vitamin B Complex', 'gm': float(vit_bcomp)},\n",
    "    {'Nutrient': 'Selenium', 'gm': float(sel)},\n",
    "    {'Nutrient': 'Magnesium', 'gm': float(mag)}\n",
    "    ]\n",
    "\n",
    "    df = pd.DataFrame(datalist)\n",
    "    bar = charts.Bar(data=df, values='gm', label='Nutrient',\n",
    "               color=['red'], width=600, height=600, legend=False)\n",
    "    line = bar.line([0.5, 1.5, 2.5, 3.5, 4.5], [data['DT_MAGN'].mean(),data['DT_SEL'].mean(),data['BCOMPLEXTYPEVITSAMOUNT'].mean(),data['DT_VB12'].mean(),data['DT_VITD'].mean()], line_width=2)\n",
    "    show(bar,notebook_handle=True)\n",
    "    push_notebook()"
   ]
  },
  {
   "cell_type": "markdown",
   "metadata": {},
   "source": [
    "#### Please use the sliders below to specify the amount of each of those food items you consume per week. \n",
    "#### The bar chart below will be updated as you use the sliders. \n",
    "#### The update may take a few seconds sometimes since linear regression models under the hood take in values from these sliders and return predicted values of each nutrient in the dataset, lack of which leads to cancer."
   ]
  },
  {
   "cell_type": "code",
   "execution_count": null,
   "metadata": {},
   "outputs": [],
   "source": [
    "interact(update,eggs=IntSlider(min=1,max=30,step=1,value=1),cheese=IntSlider(min=1,max=30,step=1,value=1),salmon=IntSlider(min=1,max=30,step=1,value=1),\n",
    "         milk=IntSlider(min=1,max=30,step=1,value=1),cocoa=IntSlider(min=1,max=30,step=1,value=1),tuna=IntSlider(min=1,max=30,step=1,value=1),shellfish=IntSlider(min=1,max=30,step=1,value=1),\n",
    "         beef=IntSlider(min=1,max=30,step=1,value=1),steak=IntSlider(min=1,max=30,step=1,value=1),bacon=IntSlider(min=1,max=30,step=1,value=1),\n",
    "         avocado=IntSlider(min=1,max=30,step=1,value=1),walnut=IntSlider(min=1,max=30,step=1,value=1),tomato=IntSlider(min=1,max=30,step=1,value=1),nuts=IntSlider(min=1,max=30,step=1,value=1),\n",
    "         soy=IntSlider(min=1,max=30,step=1,value=1),tofu=IntSlider(min=1,max=30,step=1,value=1),butter=IntSlider(min=1,max=30,step=1,value=1),potatoes=IntSlider(min=1,max=30,step=1,value=1),\n",
    "         hotdog=IntSlider(min=1,max=30,step=1,value=1),chicken=IntSlider(min=1,max=30,step=1,value=1),cereal=IntSlider(min=1,max=30,step=1,value=1),\n",
    "         broccoli=IntSlider(min=1,max=30,step=1,value=1),greens=IntSlider(min=1,max=30,step=1,value=1),berries=IntSlider(min=1,max=30,step=1,value=1),\n",
    "         beans=IntSlider(min=1,max=30,step=1,value=1),vegsoup=IntSlider(min=1,max=30,step=1,value=1),legumes=IntSlider(min=1,max=30,step=1,value=1)\n",
    "        )"
   ]
  },
  {
   "cell_type": "markdown",
   "metadata": {},
   "source": [
    "#### The blue line connects points in 2-D space that indicate average levels of each of these nutrients in the human body.\n",
    "#### Please use 'Wheel Zoom' and 'Pan' tools to zoom in, zoom out and navigate if necessary to see what the average amount of a nutrient is. \n",
    "#### Also, please be advised that nutrients like vitamin B Complex and vitamin B12 are typically in much lesser quantities than minerals like magnesium and selenium. So please zoom in and zoom out accordingly for more clarity.\n",
    "#### While this bar chart doesn't help one in determining if one is susceptible to cancer, it depicts what the average levels of these cancer-preventing nutrients are and what your estimated levels are in comparison."
   ]
  },
  {
   "cell_type": "code",
   "execution_count": null,
   "metadata": {
    "collapsed": true
   },
   "outputs": [],
   "source": []
  }
 ],
 "metadata": {
  "kernelspec": {
   "display_name": "Python 3",
   "language": "python",
   "name": "python3"
  },
  "language_info": {
   "codemirror_mode": {
    "name": "ipython",
    "version": 3
   },
   "file_extension": ".py",
   "mimetype": "text/x-python",
   "name": "python",
   "nbconvert_exporter": "python",
   "pygments_lexer": "ipython3",
   "version": "3.6.1"
  }
 },
 "nbformat": 4,
 "nbformat_minor": 2
}
