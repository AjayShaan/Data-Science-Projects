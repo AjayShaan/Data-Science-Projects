{
 "cells": [
  {
   "cell_type": "markdown",
   "metadata": {},
   "source": [
    "# Clustering analysis - Part 1:\n",
    "\n",
    "In the previous notebook we did the basic exploratory analysis of the dataset. Since we could see that there was lyrical structure and similarity across artists and genres we decided to cluster the dataset into groups based on the lyrical similarity. We then wanted to visualize the artist's similarity and genre's similarity in a 2D space (based on the lyrics).\n",
    "\n",
    "We used KMeans for clustering the Data.\n",
    "\n",
    "The plots are as follows:\n",
    "1. 2D representation of artists color coded by cluster. Each cluster is based on 6 lyric words which best represent the cluster. (Code is here)\n",
    "2. 2D representation of genres color coded by cluster. Each cluster is again based on 6 lyric words which best represent the cluster.  (Code is in clustering 2 notebook)\n",
    "3. Barplot representing number of artists in each cluster. (Code is here)\n",
    "\n",
    "\n",
    "\n",
    "## Inferences:\n",
    "\n",
    "\n",
    "#### A Notable cluster for artists is as follows \n",
    "\n",
    "\n",
    "Cluster 9 words: b'time', b'life', b'away', b'eyes', b'feels', b'come', b'day', b'im', b'dying', b'living',\n",
    "\n",
    "Cluster 9 artists: davor-matosevic, back-to-the-ocean, andy-griffith, genghis-tron, break-the-silence, funker-vogt, destroy, frostfang, amberian-dawn, dax-johnson, celesty, bradley-walker, for-today, crooked-fingers, choke, abyssic-hate, gates-of-ishtar, behemoth, fair-sex, all-shall-perish, gazpacho, gallows, disbelief, abraxas, celadon-candy, covenant, earthtone9, antischism, ataraxie, gadget, goatwhore, dark-funeral, claire-voyant, echoterra, burden-of-a-day, funeral-diner, crystal-kovach, the-blackout-pact, cro-mags, atreyu, aurora-borealis, codename-rocky, blaze-bayley, antimatter, the-gathering, fallacy, dillon, clouds-over-normandy, the-accident-experiment, blood, answer-with-metal, given-free-rein, defiance, dragonforce, capture-the-crown, demonaz, dreadful-shadows,\n",
    "\n",
    "This shows that all these artists' songs are about life and death and coincidentally they all belong to the metal genre.\n",
    "\n",
    "\n",
    "\n",
    "Note: The following links were referred.\n",
    "\n",
    "https://bokeh.pydata.org/en/latest/docs/reference/models/glyphs/text.html\n",
    "\n",
    "https://www.datascience.com/resources/notebooks/word-embeddings-in-python\n",
    "\n",
    "http://brandonrose.org/clustering\n",
    "\n",
    "http://ahmedbesbes.com/sentiment-analysis-on-twitter-using-word2vec-and-keras.html\n",
    "\n",
    "https://www.digitalocean.com/community/tutorials/how-to-work-with-language-data-in-python-3-using-the-natural-language-toolkit-nltk\n"
   ]
  },
  {
   "cell_type": "code",
   "execution_count": 493,
   "metadata": {
    "collapsed": true
   },
   "outputs": [],
   "source": [
    "import numpy as np\n",
    "import pandas as pd\n",
    "import nltk\n",
    "from nltk.stem.snowball import SnowballStemmer\n",
    "import re\n",
    "import os\n",
    "import codecs\n",
    "from sklearn import feature_extraction"
   ]
  },
  {
   "cell_type": "code",
   "execution_count": 494,
   "metadata": {},
   "outputs": [
    {
     "name": "stderr",
     "output_type": "stream",
     "text": [
      "D:\\Anaconda\\lib\\site-packages\\IPython\\core\\interactiveshell.py:2698: DtypeWarning: Columns (0,1,2,3,4,5) have mixed types. Specify dtype option on import or set low_memory=False.\n",
      "  interactivity=interactivity, compiler=compiler, result=result)\n"
     ]
    },
    {
     "data": {
      "text/plain": [
       "(356467, 6)"
      ]
     },
     "execution_count": 494,
     "metadata": {},
     "output_type": "execute_result"
    }
   ],
   "source": [
    "data = pd.read_csv('lyrics.csv')\n",
    "data.head(10)\n",
    "data.shape"
   ]
  },
  {
   "cell_type": "code",
   "execution_count": 495,
   "metadata": {
    "collapsed": true
   },
   "outputs": [],
   "source": [
    "data = data.dropna()"
   ]
  },
  {
   "cell_type": "code",
   "execution_count": 496,
   "metadata": {},
   "outputs": [
    {
     "data": {
      "text/plain": [
       "(24365, 6)"
      ]
     },
     "execution_count": 496,
     "metadata": {},
     "output_type": "execute_result"
    }
   ],
   "source": [
    "data.shape"
   ]
  },
  {
   "cell_type": "code",
   "execution_count": 497,
   "metadata": {
    "collapsed": true
   },
   "outputs": [],
   "source": [
    "data = data.iloc[:10000]"
   ]
  },
  {
   "cell_type": "code",
   "execution_count": 498,
   "metadata": {
    "collapsed": true
   },
   "outputs": [],
   "source": [
    "data = data.drop('index',axis=1)"
   ]
  },
  {
   "cell_type": "code",
   "execution_count": 499,
   "metadata": {
    "collapsed": true
   },
   "outputs": [],
   "source": [
    "data = data.drop('year',axis=1)"
   ]
  },
  {
   "cell_type": "code",
   "execution_count": 500,
   "metadata": {
    "collapsed": true
   },
   "outputs": [],
   "source": [
    "data = data.drop('genre',axis=1)"
   ]
  },
  {
   "cell_type": "code",
   "execution_count": 501,
   "metadata": {
    "collapsed": true
   },
   "outputs": [],
   "source": [
    "lyrics_list = []\n",
    "\n",
    "for ix,row in data.iterrows():\n",
    "    chars_rm = ['\\n',',','[',']','.','?','!','(',')',':']\n",
    "    ly = row['lyrics']\n",
    "    for char in ly:\n",
    "        if char in chars_rm:\n",
    "            ly = ly.replace(char,' ')\n",
    "        elif char=='\\'':\n",
    "            ly = ly.replace(char,'')\n",
    "    lyrics_list.append(ly)"
   ]
  },
  {
   "cell_type": "code",
   "execution_count": 502,
   "metadata": {
    "collapsed": true
   },
   "outputs": [],
   "source": [
    "data['lyrics'] = lyrics_list"
   ]
  },
  {
   "cell_type": "code",
   "execution_count": 503,
   "metadata": {
    "collapsed": true
   },
   "outputs": [],
   "source": [
    "vocab = {}\n",
    "\n",
    "for ix,row in data.iterrows():\n",
    "    singer = row['artist']\n",
    "    if singer in vocab:\n",
    "        vocab[singer] += row['lyrics']\n",
    "    else:\n",
    "        vocab[singer] = row['lyrics']\n",
    "    "
   ]
  },
  {
   "cell_type": "code",
   "execution_count": 504,
   "metadata": {},
   "outputs": [
    {
     "data": {
      "text/html": [
       "<div>\n",
       "<style>\n",
       "    .dataframe thead tr:only-child th {\n",
       "        text-align: right;\n",
       "    }\n",
       "\n",
       "    .dataframe thead th {\n",
       "        text-align: left;\n",
       "    }\n",
       "\n",
       "    .dataframe tbody tr th {\n",
       "        vertical-align: top;\n",
       "    }\n",
       "</style>\n",
       "<table border=\"1\" class=\"dataframe\">\n",
       "  <thead>\n",
       "    <tr style=\"text-align: right;\">\n",
       "      <th></th>\n",
       "      <th>Artist</th>\n",
       "      <th>Lyrics</th>\n",
       "    </tr>\n",
       "  </thead>\n",
       "  <tbody>\n",
       "    <tr>\n",
       "      <th>0</th>\n",
       "      <td>children-18-3</td>\n",
       "      <td>Sing  sing  oh  so sucker For the sugar substi...</td>\n",
       "    </tr>\n",
       "    <tr>\n",
       "      <th>1</th>\n",
       "      <td>efterklang</td>\n",
       "      <td>Another way  another way to your heart It star...</td>\n",
       "    </tr>\n",
       "    <tr>\n",
       "      <th>2</th>\n",
       "      <td>ajj</td>\n",
       "      <td>Last week I saw you at the Junkie Church You t...</td>\n",
       "    </tr>\n",
       "    <tr>\n",
       "      <th>3</th>\n",
       "      <td>4-the-cause</td>\n",
       "      <td>When the night has come And the land is dark A...</td>\n",
       "    </tr>\n",
       "    <tr>\n",
       "      <th>4</th>\n",
       "      <td>animation</td>\n",
       "      <td>Dont count on me - I engineer on evry move we ...</td>\n",
       "    </tr>\n",
       "    <tr>\n",
       "      <th>5</th>\n",
       "      <td>celtic-thunder</td>\n",
       "      <td>In the town  the people stay away From the mid...</td>\n",
       "    </tr>\n",
       "    <tr>\n",
       "      <th>6</th>\n",
       "      <td>austrian-death-machine</td>\n",
       "      <td>Lets go  Waaa-yeah  How about this one  How ab...</td>\n",
       "    </tr>\n",
       "    <tr>\n",
       "      <th>7</th>\n",
       "      <td>frustrators</td>\n",
       "      <td>Im gonna be a plastic tree a character transpa...</td>\n",
       "    </tr>\n",
       "    <tr>\n",
       "      <th>8</th>\n",
       "      <td>big-bad-vodoo-daddy</td>\n",
       "      <td>And now friends let me tell you about this cat...</td>\n",
       "    </tr>\n",
       "    <tr>\n",
       "      <th>9</th>\n",
       "      <td>deichkind</td>\n",
       "      <td>Deine Eltern sind auf einem Tennisturnier  du ...</td>\n",
       "    </tr>\n",
       "  </tbody>\n",
       "</table>\n",
       "</div>"
      ],
      "text/plain": [
       "                   Artist                                             Lyrics\n",
       "0           children-18-3  Sing  sing  oh  so sucker For the sugar substi...\n",
       "1              efterklang  Another way  another way to your heart It star...\n",
       "2                     ajj  Last week I saw you at the Junkie Church You t...\n",
       "3             4-the-cause  When the night has come And the land is dark A...\n",
       "4               animation  Dont count on me - I engineer on evry move we ...\n",
       "5          celtic-thunder  In the town  the people stay away From the mid...\n",
       "6  austrian-death-machine  Lets go  Waaa-yeah  How about this one  How ab...\n",
       "7             frustrators  Im gonna be a plastic tree a character transpa...\n",
       "8     big-bad-vodoo-daddy  And now friends let me tell you about this cat...\n",
       "9               deichkind  Deine Eltern sind auf einem Tennisturnier  du ..."
      ]
     },
     "execution_count": 504,
     "metadata": {},
     "output_type": "execute_result"
    }
   ],
   "source": [
    "cleaned_data = pd.DataFrame({'Artist':list(set(data['artist'].tolist())), 'Lyrics':[vocab[artist] for artist in set(data['artist'].tolist())]})\n",
    "cleaned_data.head(10)"
   ]
  },
  {
   "cell_type": "code",
   "execution_count": 505,
   "metadata": {},
   "outputs": [
    {
     "name": "stdout",
     "output_type": "stream",
     "text": [
      "showing info https://raw.githubusercontent.com/nltk/nltk_data/gh-pages/index.xml\n"
     ]
    },
    {
     "data": {
      "text/plain": [
       "True"
      ]
     },
     "execution_count": 505,
     "metadata": {},
     "output_type": "execute_result"
    }
   ],
   "source": [
    "nltk.download()"
   ]
  },
  {
   "cell_type": "code",
   "execution_count": 506,
   "metadata": {
    "collapsed": true
   },
   "outputs": [],
   "source": [
    "stopwords = nltk.corpus.stopwords.words('english')"
   ]
  },
  {
   "cell_type": "code",
   "execution_count": 507,
   "metadata": {
    "collapsed": true
   },
   "outputs": [],
   "source": [
    "stemmer = SnowballStemmer(\"english\")"
   ]
  },
  {
   "cell_type": "code",
   "execution_count": 508,
   "metadata": {
    "collapsed": true
   },
   "outputs": [],
   "source": [
    "\n",
    "def tokenize_and_stem(text):\n",
    "    # first tokenize by sentence, then by word to ensure that punctuation is caught as it's own token\n",
    "    tokens = [word for sent in nltk.sent_tokenize(text) for word in nltk.word_tokenize(sent)]\n",
    "    filtered_tokens = []\n",
    "    # filter out any tokens not containing letters (e.g., numeric tokens, raw punctuation)\n",
    "    for token in tokens:\n",
    "        if re.search('[a-zA-Z]', token):\n",
    "            filtered_tokens.append(token)\n",
    "    stems = [stemmer.stem(t) for t in filtered_tokens]\n",
    "    return stems"
   ]
  },
  {
   "cell_type": "code",
   "execution_count": 509,
   "metadata": {
    "collapsed": true
   },
   "outputs": [],
   "source": [
    "\n",
    "def tokenize_only(text):\n",
    "    # first tokenize by sentence, then by word to ensure that punctuation is caught as it's own token\n",
    "    tokens = [word.lower() for sent in nltk.sent_tokenize(text) for word in nltk.word_tokenize(sent)]\n",
    "    filtered_tokens = []\n",
    "    # filter out any tokens not containing letters (e.g., numeric tokens, raw punctuation)\n",
    "    for token in tokens:\n",
    "        if re.search('[a-zA-Z]', token):\n",
    "            filtered_tokens.append(token)\n",
    "    return filtered_tokens"
   ]
  },
  {
   "cell_type": "code",
   "execution_count": 510,
   "metadata": {
    "collapsed": true
   },
   "outputs": [],
   "source": [
    "totalvocab_stemmed = []\n",
    "totalvocab_tokenized = []\n",
    "\n",
    "lyrics_sample = cleaned_data['Lyrics'].iloc[0:1000].tolist()\n",
    "artists_sample = cleaned_data['Artist'].iloc[0:1000].tolist()\n",
    "\n",
    "for l in lyrics_sample:\n",
    "    allwords_stemmed = tokenize_and_stem(l) # for each item in 'synopses', tokenize/stem\n",
    "    totalvocab_stemmed.extend(allwords_stemmed) # extend the 'totalvocab_stemmed' list\n",
    "    \n",
    "    allwords_tokenized = tokenize_only(l)\n",
    "    totalvocab_tokenized.extend(allwords_tokenized)"
   ]
  },
  {
   "cell_type": "code",
   "execution_count": 511,
   "metadata": {},
   "outputs": [
    {
     "name": "stdout",
     "output_type": "stream",
     "text": [
      "there are 2191621 items in vocab_frame\n"
     ]
    }
   ],
   "source": [
    "vocab_frame = pd.DataFrame({'words': totalvocab_tokenized}, index = totalvocab_stemmed)\n",
    "print('there are ' + str(vocab_frame.shape[0]) + ' items in vocab_frame')"
   ]
  },
  {
   "cell_type": "code",
   "execution_count": 512,
   "metadata": {},
   "outputs": [
    {
     "name": "stdout",
     "output_type": "stream",
     "text": [
      "Wall time: 48.1 s\n",
      "(478, 480)\n"
     ]
    }
   ],
   "source": [
    "# Note that the result of this block takes a while to show\n",
    "from sklearn.feature_extraction.text import TfidfVectorizer\n",
    "\n",
    "#define vectorizer parameters\n",
    "tfidf_vectorizer = TfidfVectorizer(max_df=0.8, max_features=200000,\n",
    "                                 min_df=0.2, stop_words='english',\n",
    "                                 use_idf=True, tokenizer=tokenize_and_stem, ngram_range=(1,3))\n",
    "\n",
    "%time tfidf_matrix = tfidf_vectorizer.fit_transform(lyrics_sample) #fit the vectorizer to synopses\n",
    "\n",
    "# (100, 563) means the matrix has 100 rows and 563 columns\n",
    "print(tfidf_matrix.shape)\n",
    "terms = tfidf_vectorizer.get_feature_names()"
   ]
  },
  {
   "cell_type": "code",
   "execution_count": 513,
   "metadata": {
    "collapsed": true
   },
   "outputs": [],
   "source": [
    "from sklearn.metrics.pairwise import cosine_similarity\n",
    "\n",
    "similarity_matrix = cosine_similarity(tfidf_matrix)"
   ]
  },
  {
   "cell_type": "code",
   "execution_count": 514,
   "metadata": {},
   "outputs": [
    {
     "name": "stdout",
     "output_type": "stream",
     "text": [
      "Wall time: 5.95 s\n"
     ]
    }
   ],
   "source": [
    "from sklearn.cluster import KMeans\n",
    "\n",
    "num_clusters = 10\n",
    "\n",
    "km = KMeans(n_clusters=num_clusters)\n",
    "\n",
    "%time km.fit(tfidf_matrix)\n",
    "\n",
    "clusters = km.labels_.tolist()"
   ]
  },
  {
   "cell_type": "code",
   "execution_count": 515,
   "metadata": {
    "collapsed": true
   },
   "outputs": [],
   "source": [
    "songs = { 'Artist': artists_sample, 'Lyrics': lyrics_sample, 'cluster': clusters }\n",
    "\n",
    "frame = pd.DataFrame(songs, index = [clusters] , columns = ['Artist', 'cluster'])\n",
    "\n",
    "#frame['cluster'].value_counts() #number of artists per cluster\n"
   ]
  },
  {
   "cell_type": "code",
   "execution_count": 516,
   "metadata": {
    "scrolled": false
   },
   "outputs": [
    {
     "name": "stdout",
     "output_type": "stream",
     "text": [
      "Top terms per cluster:\n",
      "\n",
      "Cluster 0 words:"
     ]
    },
    {
     "name": "stderr",
     "output_type": "stream",
     "text": [
      "D:\\Anaconda\\lib\\site-packages\\ipykernel_launcher.py:15: DeprecationWarning: \n",
      ".ix is deprecated. Please use\n",
      ".loc for label based indexing or\n",
      ".iloc for positional indexing\n",
      "\n",
      "See the documentation here:\n",
      "http://pandas.pydata.org/pandas-docs/stable/indexing.html#ix-indexer-is-deprecated\n",
      "  from ipykernel import kernelapp as app\n"
     ]
    },
    {
     "name": "stdout",
     "output_type": "stream",
     "text": [
      " b'young', b'im', b'soul', b'want', b'say', b'dont', b'ive', b'time', b'just', b'friends',\n",
      "\n",
      "Cluster 0 artists: eye-alaska, above-the-underground, eyes, dear-stalker, 2win,"
     ]
    },
    {
     "name": "stderr",
     "output_type": "stream",
     "text": [
      "D:\\Anaconda\\lib\\site-packages\\ipykernel_launcher.py:24: DeprecationWarning: \n",
      ".ix is deprecated. Please use\n",
      ".loc for label based indexing or\n",
      ".iloc for positional indexing\n",
      "\n",
      "See the documentation here:\n",
      "http://pandas.pydata.org/pandas-docs/stable/indexing.html#ix-indexer-is-deprecated\n"
     ]
    },
    {
     "name": "stdout",
     "output_type": "stream",
     "text": [
      "\n",
      "\n",
      "Cluster 1 words: b'love', b'baby', b'im', b'know', b'dont', b'oh', b'just', b'na', b'want', b'like',\n",
      "\n",
      "Cluster 1 artists: austrian-death-machine, big-bad-vodoo-daddy, chicken-shack, derailers, asher-monroe, george-duke, delfonics, deerhoof, funkadelic, duke-robillard, dominique-van-hulst, bomshel, adena, ehsan, for-king-country, cohen-leonard, brightwood, the-allman-brothers, daisy-dee, 2-be-3, drew-davis, blues, freemasons, atlas-sound, firefall, all-4-one, delerium, caleb-collins, evan-t, betty-wright, area-11, ballad, diana-ross-the-supremes, gina-g, conway-twitty, bert-jansch, girls, angel-grant, busy-signal, carter-s-chord, arthur-big-boy-crudup, chris-salvatore, george, frank-derol, b3, britt-nicole, brian-simpson, delroy-wilson, bobby-bazini, engelbert, all-caps, geographer, bill-evans, connie-francis, alexia, anastacia, athena-cage, cover-girls, breakbot, billy-thorpe, george-harrison, fka-twigs, bobby-darin, burn-the-ballroom, adeade, charles-bradley, backburner, anthony-fallacaro, etro-anime, carmen-mcrae, the-chevin, bryan-ferry, blake-lewis, diamond-head, bernie-paul, emo-side-project, amanda-lear, beyonce-knowles, elenowen, chico, gianni, ella-fitzgerald-louis-armstrong, divided-by-friday, amanda-marshall, andy-williams, blaqstarr, chad-brownlee, babydoll,\n",
      "\n",
      "Cluster 2 words: b'come', b'many', b'let', b'youll', b'burning', b'ask', b'love', b'final', b'inside', b'like',\n",
      "\n",
      "Cluster 2 artists: carmen-consoli, a-k-a-c-o-d, britta-phillips-dean-wareham, dear-jack, final-fantasy, chris-kenner, audiotopsy,\n",
      "\n",
      "Cluster 3 words: b'im', b'like', b'just', b'love', b'know', b'got', b'chorus', b'come', b'dont', b'dying',\n",
      "\n",
      "Cluster 3 artists: 4-the-cause, deichkind, cedric-gervais, chris-murray, exit-this-side, ashley-matte, al-hy, astro-n-out, amber-riley, elhaida-dani, absolution-project, the-big-moon, eleonora-zouganeli, funny-girl, the-fashion, arshad, aerodrone, dj-henry-x, boston-pops, elvin-bishop, blues-saraceno, clarensau, crobot, echoes-from-airplanes, dominique-a, bel-esprit, destroy, bionic-ghost-kids, bogart-co, cameron-grey, acda-de-munnik, bunga-citra-lestari, emilio-estefan, big-pokey, ali-dee-and-the-deekompressors, bobby-charles, analog-brothers, eljay, exotica, ddoduddegd1-2-dd-nd-d, future-gucci-mane, crooked-still, antoine-clamaran, c-w-stoneking, e-nomine, the-good-china, doc-watson-merle-watson, the-black-moods, cazwell, clint-mansell, aimer, fenix, antonis-remos, andrea-corr, the-fin, eighty4-fly, atlantis-awaits, elle, 8mm, chocolate-genius, andrrks-krkllay-saunders, blank-jones-julian-roman-wasserfuhr, 2am, alan-walker, bad-rabbits, the-colors, allan-holdsworth, c4, dead-ceremony, de-kast, at, good-heavens, aidonia, colin-stetson, eden-brent, aaron-west-and-the-roaring-twenties, eiffel, dry-county, american-opera, big-d, ashmont-hill, fintelligens, andromeda-mega-express-orchestra, alathea, bystander, body-language, abserdo, flying-pickets, argo, amy-search, astal, billy-bland, ericka-jane, asterix, astropuppees, the-band-of-heathens, dj-webstar, fear-of-men, daevid-allen, fee, eve-to-adam, broken-stems, a-giant-dog, bang-la-decks, chordettes, ghost-loft, brooke-woods, gordon-goodwin, aronchupa, beat-farmers, bluejuice, blue-s-clues, bob-lind, alice-on-the-roof, flamboyant-bella, barikad-crew, brad-mehldau, dreamer, esprit-d-air, dick-figures,\n",
      "\n",
      "Cluster 4 words: b'na', b'em', b'ta', b'shes', b'gon', b'gon', b'eyes', b'cause', b'wrong', b'chorus',\n",
      "\n",
      "Cluster 4 artists: farben-lehre, chuck-norris, 1974-ad, garnet-crow, arnaldo-antunes, caleb-hawley, atsumi-saori, carl-carlton, dati, bijelo-dugme,\n",
      "\n",
      "Cluster 5 words: b'time', b'life', b'away', b'im', b'feels', b'eyes', b'come', b'day', b'dying', b'living',\n",
      "\n",
      "Cluster 5 artists: the-cable-car-theory, genghis-tron, break-the-silence, funker-vogt, frostfang, espers, amberian-dawn, celesty, for-today, crooked-fingers, abyssic-hate, gates-of-ishtar, behemoth, fair-sex, all-shall-perish, gazpacho, gallows, disbelief, abraxas, covenant, earthtone9, burn-the-priest, days-like-these, austins-bridge, antischism, ataraxie, gadget, goatwhore, dark-funeral, claire-voyant, drist, echoterra, the-chasm, burden-of-a-day, crystal-kovach, the-blackout-pact, cro-mags, atreyu, aurora-borealis, dakrua, blaze-bayley, the-gathering, fallacy, dillon, aerial, clouds-over-normandy, the-accident-experiment, blood, answer-with-metal, defiance, dragonforce, capture-the-crown, demonaz, dreadful-shadows,\n",
      "\n",
      "Cluster 6 words: b'im', b'dont', b'know', b'got', b'like', b'just', b'na', b'want', b'time', b'come',\n",
      "\n",
      "Cluster 6 artists: children-18-3, efterklang, ajj, animation, celtic-thunder, frustrators, del-the-funky-homosapien, dave-potts, the-ethiopians, borialis, bless-the-fall, closure, asia-nitollano, anna-waronker, buckcherry, camille, capleton, fink, blessed, eureka-california, colony-house, anneli-marian-drecker, dan-mills, brandi-carlile, aidan-nolan, charlie-musselwhite, graveyard, fences, eric-johnson, david-dunn, dove-cameron, au-pairs, default, desert-noises, d-i, black-francis, bruce-springsteen-the-sessions-band, the-duke-the-king, evan-taubenfeld, the-automatic-automatic, chester-french, billy-squier, goodbye-june, example, don-t-look-down, avey-tare, allison-crowe, arcade-fire, the-books, charlie-robison, chuckie, aleesia, bradley-walker, alvar-lake, aspektz, a-dream-too-late, aubrie-sellers, gravy-train, choke, antifreeze, charlotte-sometimes, finger-eleven, awesome-car-funmaker, athelete, gene-watson, gorillaz, all-new-atmosphere, emily-haines, drag-the-river, andy-m-stewart, balkan-beat-box, alice-russell, amos-lee, cock-sparrer, dickies, beckett, celadon-candy, eleventy-seven, al-stewart, azizi-gibson, danko-jones, alpoko-don, gabrielle, flying-lotus, american-lesion, gratitude, abica, arctic-death, echobelly, brother, furslide, god-des-and-she, dirty, glasses-malone, foxal, goats-with-headlamps, alanis-morissette, flatlinerz, arrested-development, drivin-n-cryin, flip-n-fill, 8-ball, elle-king, decyfer-down, clare-bowen-sam-palladio, dido, cris-cab, emma-pollock, avery-storm, blue-deep-shorts, codename-rocky, general-fiasco, beekeeper, direct-hit, buck, bb-diamond, down-with-webster, cressida, clancy-maverick, evidence, crass, die-radio-die, butterfly-boucher, clara-nova, defari, basic-vacation, fang, gerard, elan, the-fooo, antimatter, the-boy-least-likely-to, eazy-e, the-boxmasters, 999, cadaveres-de-tortugas, dave-b, the-gloria-record, bionic-jive, the-explosion, the-casket-lottery, glen-phillips, gluecifer, canines, becky-g, fools-garden, the-beegie-adair-trio, eyeshine, amy-macdonald, dale-watson, axe-murder-boys, baby-d, coldcut, darius, brkrbara-rocha, blind-pilot, fatima-mansions, cults, bolshoi, 28-days, 50-cent, catherine-britt, action-action, frank-fairfield,\n",
      "\n",
      "Cluster 7 words: b'sky', b'alone', b'ears', b'house', b'becomes', b'silence', b'kind', b'sea', b'tree', b'wake',\n",
      "\n",
      "Cluster 7 artists: dariush, absolutely-free, adaaeaaineay-iaidiia,\n",
      "\n",
      "Cluster 8 words: b'oh', b'oh', b'im', b'hey', b'dont', b'shake', b'yeah', b'say', b'like', b'love',\n",
      "\n",
      "Cluster 8 artists: earthtone, cream, a-great-big-world-christina-aguilera, dennis-marsh, brainiac, dnl, cappa, d-j-dave, gauntlet-hair, california-breed, the-easton-ellises, alex-winston, flo-morrissey, chetes, baltimora, erick-right, alex-band,\n",
      "\n",
      "Cluster 9 words: b'sin', b'ya', b'why', b'sea', b'son', b'final', b'air', b'oh', b'colors', b'rock',\n",
      "\n",
      "Cluster 9 artists: carlos-ponce, franco-de-vita, callejeros, almafuerte, el-arrebato, azrael, alexander-achavoy, calibre-50, glory, coti,\n",
      "\n"
     ]
    }
   ],
   "source": [
    "from __future__ import print_function\n",
    "\n",
    "print(\"Top terms per cluster:\")\n",
    "print() #add whitespace\n",
    "\n",
    "top_terms_final = []\n",
    "\n",
    "#sort cluster centers by proximity to centroid\n",
    "order_centroids = km.cluster_centers_.argsort()[:, ::-1] \n",
    "\n",
    "for i in range(num_clusters):\n",
    "    print(\"Cluster %d words:\" % i, end='')\n",
    "    top_terms = []\n",
    "    for ind in order_centroids[i, :10]: #replace 6 with n words per cluster\n",
    "        print(' %s' % vocab_frame.ix[terms[ind].split(' ')].values.tolist()[0][0].encode('utf-8', 'ignore'), end=',')\n",
    "        top_terms.append((' %s' % vocab_frame.ix[terms[ind].split(' ')].values.tolist()[0][0].encode('utf-8', 'ignore')))\n",
    "        \n",
    "    print() #add whitespace\n",
    "    print() #add whitespace\n",
    "    \n",
    "    top_terms_final.append(top_terms)\n",
    "    \n",
    "    print(\"Cluster %d artists:\" % i, end='')\n",
    "    if type(frame.ix[i]['Artist'])!=str:\n",
    "        for title in frame.ix[i]['Artist'].values.tolist():\n",
    "            print(' %s,' % title, end='')\n",
    "    else:\n",
    "        print(' %s,' % frame.ix[i]['Artist'], end='')\n",
    "    print() #add whitespace\n",
    "    print() #add whitespace"
   ]
  },
  {
   "cell_type": "code",
   "execution_count": 517,
   "metadata": {},
   "outputs": [
    {
     "name": "stdout",
     "output_type": "stream",
     "text": [
      "<class 'numpy.ndarray'>\n",
      "(478, 478)\n"
     ]
    }
   ],
   "source": [
    "similarity_distance = 1 - cosine_similarity(tfidf_matrix)\n",
    "print(type(similarity_distance))\n",
    "print(similarity_distance.shape)"
   ]
  },
  {
   "cell_type": "code",
   "execution_count": 518,
   "metadata": {},
   "outputs": [
    {
     "name": "stdout",
     "output_type": "stream",
     "text": [
      "Wall time: 6.78 s\n",
      "(478, 2)\n"
     ]
    }
   ],
   "source": [
    "import os  # for os.path.basename\n",
    "\n",
    "import matplotlib.pyplot as plt\n",
    "import matplotlib as mpl\n",
    "\n",
    "from sklearn.manifold import MDS\n",
    "\n",
    "# convert two components as we're plotting points in a two-dimensional plane\n",
    "# \"precomputed\" because we provide a distance matrix\n",
    "# we will also specify `random_state` so the plot is reproducible.\n",
    "mds = MDS(n_components=2, dissimilarity=\"precomputed\", random_state=1)\n",
    "\n",
    "%time pos = mds.fit_transform(similarity_distance)  # shape (n_components, n_samples)\n",
    "\n",
    "print(pos.shape)\n",
    "\n",
    "xs, ys = pos[:, 0], pos[:, 1]\n",
    "\n"
   ]
  },
  {
   "cell_type": "code",
   "execution_count": 519,
   "metadata": {
    "collapsed": true
   },
   "outputs": [],
   "source": [
    "#set up colors per clusters using a dict\n",
    "cluster_colors = {0: '#a50026', 1: '#d73027', 2: '#f46d43', 3: '#fdae61', 4: '#fee08b', 5: '#d9ef8b', 6: '#a6d96a', 7: '#66bd63', 8: '#1a9850', 9: '#006837'}\n",
    "\n",
    "cluster_names = {}\n",
    "\n",
    "for i in range(0,10):\n",
    "    cluster_names[i] = str(top_terms_final[i]).replace('b','').replace('\"','').replace('[','').replace(']','')\n"
   ]
  },
  {
   "cell_type": "code",
   "execution_count": 520,
   "metadata": {
    "collapsed": true
   },
   "outputs": [],
   "source": [
    "#some ipython magic to show the matplotlib plots inline\n",
    "%matplotlib inline \n",
    "\n",
    "#create data frame that has the result of the MDS plus the cluster numbers and titles\n",
    "df = pd.DataFrame(dict(x=xs, y=ys, label=clusters, artist=artists_sample)) \n"
   ]
  },
  {
   "cell_type": "code",
   "execution_count": 521,
   "metadata": {
    "collapsed": true
   },
   "outputs": [],
   "source": [
    "clus_ids = []\n",
    "for ix,row in df.iterrows():\n",
    "    clus_ids.append(cluster_names[row['label']])"
   ]
  },
  {
   "cell_type": "code",
   "execution_count": 522,
   "metadata": {
    "collapsed": true
   },
   "outputs": [],
   "source": [
    "colormap = {0: '#a50026', 1: '#d73027', 2: '#f46d43', 3: '#fdae61', 4: '#fee08b', 5: '#d9ef8b', 6: '#a6d96a', 7: '#66bd63', 8: '#1a9850', 9: '#006837'}\n",
    "colors = [colormap[x] for x in df['label']]\n",
    "df['color'] = colors"
   ]
  },
  {
   "cell_type": "code",
   "execution_count": 523,
   "metadata": {},
   "outputs": [
    {
     "data": {
      "text/html": [
       "\n",
       "    <div class=\"bk-root\">\n",
       "        <a href=\"https://bokeh.pydata.org\" target=\"_blank\" class=\"bk-logo bk-logo-small bk-logo-notebook\"></a>\n",
       "        <span id=\"9ea0a46e-0153-48d8-b920-14580f459fdb\">Loading BokehJS ...</span>\n",
       "    </div>"
      ]
     },
     "metadata": {},
     "output_type": "display_data"
    },
    {
     "data": {
      "application/javascript": [
       "\n",
       "(function(root) {\n",
       "  function now() {\n",
       "    return new Date();\n",
       "  }\n",
       "\n",
       "  var force = true;\n",
       "\n",
       "  if (typeof (root._bokeh_onload_callbacks) === \"undefined\" || force === true) {\n",
       "    root._bokeh_onload_callbacks = [];\n",
       "    root._bokeh_is_loading = undefined;\n",
       "  }\n",
       "\n",
       "\n",
       "  \n",
       "  if (typeof (root._bokeh_timeout) === \"undefined\" || force === true) {\n",
       "    root._bokeh_timeout = Date.now() + 5000;\n",
       "    root._bokeh_failed_load = false;\n",
       "  }\n",
       "\n",
       "  var NB_LOAD_WARNING = {'data': {'text/html':\n",
       "     \"<div style='background-color: #fdd'>\\n\"+\n",
       "     \"<p>\\n\"+\n",
       "     \"BokehJS does not appear to have successfully loaded. If loading BokehJS from CDN, this \\n\"+\n",
       "     \"may be due to a slow or bad network connection. Possible fixes:\\n\"+\n",
       "     \"</p>\\n\"+\n",
       "     \"<ul>\\n\"+\n",
       "     \"<li>re-rerun `output_notebook()` to attempt to load from CDN again, or</li>\\n\"+\n",
       "     \"<li>use INLINE resources instead, as so:</li>\\n\"+\n",
       "     \"</ul>\\n\"+\n",
       "     \"<code>\\n\"+\n",
       "     \"from bokeh.resources import INLINE\\n\"+\n",
       "     \"output_notebook(resources=INLINE)\\n\"+\n",
       "     \"</code>\\n\"+\n",
       "     \"</div>\"}};\n",
       "\n",
       "  function display_loaded() {\n",
       "    if (root.Bokeh !== undefined) {\n",
       "      var el = document.getElementById(\"9ea0a46e-0153-48d8-b920-14580f459fdb\");\n",
       "      if (el != null) {\n",
       "        el.textContent = \"BokehJS \" + Bokeh.version + \" successfully loaded.\";\n",
       "      }\n",
       "    } else if (Date.now() < root._bokeh_timeout) {\n",
       "      setTimeout(display_loaded, 100)\n",
       "    }\n",
       "  }\n",
       "\n",
       "\n",
       "  function run_callbacks() {\n",
       "    try {\n",
       "      root._bokeh_onload_callbacks.forEach(function(callback) { callback() });\n",
       "    }\n",
       "    finally {\n",
       "      delete root._bokeh_onload_callbacks\n",
       "    }\n",
       "    console.info(\"Bokeh: all callbacks have finished\");\n",
       "  }\n",
       "\n",
       "  function load_libs(js_urls, callback) {\n",
       "    root._bokeh_onload_callbacks.push(callback);\n",
       "    if (root._bokeh_is_loading > 0) {\n",
       "      console.log(\"Bokeh: BokehJS is being loaded, scheduling callback at\", now());\n",
       "      return null;\n",
       "    }\n",
       "    if (js_urls == null || js_urls.length === 0) {\n",
       "      run_callbacks();\n",
       "      return null;\n",
       "    }\n",
       "    console.log(\"Bokeh: BokehJS not loaded, scheduling load and callback at\", now());\n",
       "    root._bokeh_is_loading = js_urls.length;\n",
       "    for (var i = 0; i < js_urls.length; i++) {\n",
       "      var url = js_urls[i];\n",
       "      var s = document.createElement('script');\n",
       "      s.src = url;\n",
       "      s.async = false;\n",
       "      s.onreadystatechange = s.onload = function() {\n",
       "        root._bokeh_is_loading--;\n",
       "        if (root._bokeh_is_loading === 0) {\n",
       "          console.log(\"Bokeh: all BokehJS libraries loaded\");\n",
       "          run_callbacks()\n",
       "        }\n",
       "      };\n",
       "      s.onerror = function() {\n",
       "        console.warn(\"failed to load library \" + url);\n",
       "      };\n",
       "      console.log(\"Bokeh: injecting script tag for BokehJS library: \", url);\n",
       "      document.getElementsByTagName(\"head\")[0].appendChild(s);\n",
       "    }\n",
       "  };var element = document.getElementById(\"9ea0a46e-0153-48d8-b920-14580f459fdb\");\n",
       "  if (element == null) {\n",
       "    console.log(\"Bokeh: ERROR: autoload.js configured with elementid '9ea0a46e-0153-48d8-b920-14580f459fdb' but no matching script tag was found. \")\n",
       "    return false;\n",
       "  }\n",
       "\n",
       "  var js_urls = [\"https://cdn.pydata.org/bokeh/release/bokeh-0.12.7.min.js\", \"https://cdn.pydata.org/bokeh/release/bokeh-widgets-0.12.7.min.js\", \"https://cdn.pydata.org/bokeh/release/bokeh-tables-0.12.7.min.js\", \"https://cdn.pydata.org/bokeh/release/bokeh-gl-0.12.7.min.js\"];\n",
       "\n",
       "  var inline_js = [\n",
       "    function(Bokeh) {\n",
       "      Bokeh.set_log_level(\"info\");\n",
       "    },\n",
       "    \n",
       "    function(Bokeh) {\n",
       "      \n",
       "    },\n",
       "    \n",
       "    function(Bokeh) {\n",
       "      \n",
       "      document.getElementById(\"9ea0a46e-0153-48d8-b920-14580f459fdb\").textContent = \"BokehJS is loading...\";\n",
       "    },\n",
       "    function(Bokeh) {\n",
       "      console.log(\"Bokeh: injecting CSS: https://cdn.pydata.org/bokeh/release/bokeh-0.12.7.min.css\");\n",
       "      Bokeh.embed.inject_css(\"https://cdn.pydata.org/bokeh/release/bokeh-0.12.7.min.css\");\n",
       "      console.log(\"Bokeh: injecting CSS: https://cdn.pydata.org/bokeh/release/bokeh-widgets-0.12.7.min.css\");\n",
       "      Bokeh.embed.inject_css(\"https://cdn.pydata.org/bokeh/release/bokeh-widgets-0.12.7.min.css\");\n",
       "      console.log(\"Bokeh: injecting CSS: https://cdn.pydata.org/bokeh/release/bokeh-tables-0.12.7.min.css\");\n",
       "      Bokeh.embed.inject_css(\"https://cdn.pydata.org/bokeh/release/bokeh-tables-0.12.7.min.css\");\n",
       "    }\n",
       "  ];\n",
       "\n",
       "  function run_inline_js() {\n",
       "    \n",
       "    if ((root.Bokeh !== undefined) || (force === true)) {\n",
       "      for (var i = 0; i < inline_js.length; i++) {\n",
       "        inline_js[i].call(root, root.Bokeh);\n",
       "      }if (force === true) {\n",
       "        display_loaded();\n",
       "      }} else if (Date.now() < root._bokeh_timeout) {\n",
       "      setTimeout(run_inline_js, 100);\n",
       "    } else if (!root._bokeh_failed_load) {\n",
       "      console.log(\"Bokeh: BokehJS failed to load within specified timeout.\");\n",
       "      root._bokeh_failed_load = true;\n",
       "    } else if (force !== true) {\n",
       "      var cell = $(document.getElementById(\"9ea0a46e-0153-48d8-b920-14580f459fdb\")).parents('.cell').data().cell;\n",
       "      cell.output_area.append_execute_result(NB_LOAD_WARNING)\n",
       "    }\n",
       "\n",
       "  }\n",
       "\n",
       "  if (root._bokeh_is_loading === 0) {\n",
       "    console.log(\"Bokeh: BokehJS loaded, going straight to plotting\");\n",
       "    run_inline_js();\n",
       "  } else {\n",
       "    load_libs(js_urls, function() {\n",
       "      console.log(\"Bokeh: BokehJS plotting callback run at\", now());\n",
       "      run_inline_js();\n",
       "    });\n",
       "  }\n",
       "}(window));"
      ]
     },
     "metadata": {},
     "output_type": "display_data"
    },
    {
     "name": "stdout",
     "output_type": "stream",
     "text": [
      "<class 'str'>\n"
     ]
    }
   ],
   "source": [
    "import pandas as pd\n",
    "import numpy as np\n",
    "from bokeh.io import output_notebook, show, curdoc, push_notebook\n",
    "from bokeh.models import ColumnDataSource,HoverTool,ColorBar,LabelSet\n",
    "from bokeh.plotting import figure, show, output_notebook\n",
    "from sklearn.cluster import KMeans\n",
    "import matplotlib.pyplot as plt\n",
    "from bokeh.layouts import layout\n",
    "from bokeh.layouts import row\n",
    "from ipywidgets import interact\n",
    "import ipywidgets as widgets\n",
    "from ipywidgets import interact, interactive, fixed, interact_manual, IntSlider\n",
    "\n",
    "output_notebook()\n",
    "\n",
    "colormap = {0: 'red', 1: 'blue', 2: 'green', 3: 'yellow', 4: 'orange', 5: 'black', 6: 'navy', 7: 'pink', 8: 'magenta', 9: 'brown'}\n",
    "colors = [colormap[x] for x in df['label'].tolist()]\n",
    "\n",
    "p = figure(title = \"Clustering Music Artists Based on Lyrics\",tools=\"hover,lasso_select,pan,wheel_zoom,box_zoom,reset,save\")\n",
    "\n",
    "xs = list(xs)\n",
    "ys = list(ys)\n",
    "print(type(clus_ids[0]))\n",
    "source = ColumnDataSource(dict(\n",
    "    x=xs,\n",
    "    y=ys,\n",
    "    color=colors,\n",
    "    label=clus_ids,\n",
    "    artist = [i for i in df['artist'].tolist()]\n",
    "))\n",
    "\n",
    "# scatter plot\n",
    "t = p.scatter('x', 'y', source=source, fill_alpha=0.6,\n",
    "              fill_color=\"#8724B5\",\n",
    "              line_color=None)\n",
    "\n",
    "# text labels\n",
    "labels = LabelSet(x='x', y='y', text='artist', y_offset=8,\n",
    "                      text_font_size=\"6pt\", text_color=\"color\",\n",
    "                      source=source, text_align='center')\n",
    "#r = p.text(x='x', y='y', text_color='color', text = 'artist', text_alpha=0.8, text_font_size='5pt', source=source, legend = 'artist')\n",
    "\n",
    "p.select_one(HoverTool).tooltips = [('Cluster', '@label')]\n",
    "p.add_layout(labels)\n",
    "#p.add_tools(HoverTool(tooltips=[(\"Cluster\", \"@label\")]))\n"
   ]
  },
  {
   "cell_type": "code",
   "execution_count": 524,
   "metadata": {
    "scrolled": false
   },
   "outputs": [
    {
     "data": {
      "text/html": [
       "\n",
       "\n",
       "    <div class=\"bk-root\">\n",
       "        <div class=\"bk-plotdiv\" id=\"0d739966-ec0f-41d5-bc05-4b406c6ba5b7\"></div>\n",
       "    </div>\n",
       "<script type=\"text/javascript\">\n",
       "  \n",
       "  (function(root) {\n",
       "    function now() {\n",
       "      return new Date();\n",
       "    }\n",
       "  \n",
       "    var force = false;\n",
       "  \n",
       "    if (typeof (root._bokeh_onload_callbacks) === \"undefined\" || force === true) {\n",
       "      root._bokeh_onload_callbacks = [];\n",
       "      root._bokeh_is_loading = undefined;\n",
       "    }\n",
       "  \n",
       "  \n",
       "    \n",
       "    if (typeof (root._bokeh_timeout) === \"undefined\" || force === true) {\n",
       "      root._bokeh_timeout = Date.now() + 0;\n",
       "      root._bokeh_failed_load = false;\n",
       "    }\n",
       "  \n",
       "    var NB_LOAD_WARNING = {'data': {'text/html':\n",
       "       \"<div style='background-color: #fdd'>\\n\"+\n",
       "       \"<p>\\n\"+\n",
       "       \"BokehJS does not appear to have successfully loaded. If loading BokehJS from CDN, this \\n\"+\n",
       "       \"may be due to a slow or bad network connection. Possible fixes:\\n\"+\n",
       "       \"</p>\\n\"+\n",
       "       \"<ul>\\n\"+\n",
       "       \"<li>re-rerun `output_notebook()` to attempt to load from CDN again, or</li>\\n\"+\n",
       "       \"<li>use INLINE resources instead, as so:</li>\\n\"+\n",
       "       \"</ul>\\n\"+\n",
       "       \"<code>\\n\"+\n",
       "       \"from bokeh.resources import INLINE\\n\"+\n",
       "       \"output_notebook(resources=INLINE)\\n\"+\n",
       "       \"</code>\\n\"+\n",
       "       \"</div>\"}};\n",
       "  \n",
       "    function display_loaded() {\n",
       "      if (root.Bokeh !== undefined) {\n",
       "        var el = document.getElementById(\"0d739966-ec0f-41d5-bc05-4b406c6ba5b7\");\n",
       "        if (el != null) {\n",
       "          el.textContent = \"BokehJS \" + Bokeh.version + \" successfully loaded.\";\n",
       "        }\n",
       "      } else if (Date.now() < root._bokeh_timeout) {\n",
       "        setTimeout(display_loaded, 100)\n",
       "      }\n",
       "    }\n",
       "  \n",
       "  \n",
       "    function run_callbacks() {\n",
       "      try {\n",
       "        root._bokeh_onload_callbacks.forEach(function(callback) { callback() });\n",
       "      }\n",
       "      finally {\n",
       "        delete root._bokeh_onload_callbacks\n",
       "      }\n",
       "      console.info(\"Bokeh: all callbacks have finished\");\n",
       "    }\n",
       "  \n",
       "    function load_libs(js_urls, callback) {\n",
       "      root._bokeh_onload_callbacks.push(callback);\n",
       "      if (root._bokeh_is_loading > 0) {\n",
       "        console.log(\"Bokeh: BokehJS is being loaded, scheduling callback at\", now());\n",
       "        return null;\n",
       "      }\n",
       "      if (js_urls == null || js_urls.length === 0) {\n",
       "        run_callbacks();\n",
       "        return null;\n",
       "      }\n",
       "      console.log(\"Bokeh: BokehJS not loaded, scheduling load and callback at\", now());\n",
       "      root._bokeh_is_loading = js_urls.length;\n",
       "      for (var i = 0; i < js_urls.length; i++) {\n",
       "        var url = js_urls[i];\n",
       "        var s = document.createElement('script');\n",
       "        s.src = url;\n",
       "        s.async = false;\n",
       "        s.onreadystatechange = s.onload = function() {\n",
       "          root._bokeh_is_loading--;\n",
       "          if (root._bokeh_is_loading === 0) {\n",
       "            console.log(\"Bokeh: all BokehJS libraries loaded\");\n",
       "            run_callbacks()\n",
       "          }\n",
       "        };\n",
       "        s.onerror = function() {\n",
       "          console.warn(\"failed to load library \" + url);\n",
       "        };\n",
       "        console.log(\"Bokeh: injecting script tag for BokehJS library: \", url);\n",
       "        document.getElementsByTagName(\"head\")[0].appendChild(s);\n",
       "      }\n",
       "    };var element = document.getElementById(\"0d739966-ec0f-41d5-bc05-4b406c6ba5b7\");\n",
       "    if (element == null) {\n",
       "      console.log(\"Bokeh: ERROR: autoload.js configured with elementid '0d739966-ec0f-41d5-bc05-4b406c6ba5b7' but no matching script tag was found. \")\n",
       "      return false;\n",
       "    }\n",
       "  \n",
       "    var js_urls = [];\n",
       "  \n",
       "    var inline_js = [\n",
       "      function(Bokeh) {\n",
       "        (function() {\n",
       "          var fn = function() {\n",
       "            var docs_json = {\"32a3f2aa-ffa5-4ed8-b68c-909713189378\":{\"roots\":{\"references\":[{\"attributes\":{\"formatter\":{\"id\":\"c0cb6e13-8649-43df-a332-73f106c0d574\",\"type\":\"BasicTickFormatter\"},\"plot\":{\"id\":\"3495e024-578a-4d3b-abcc-f95221c16aa6\",\"subtype\":\"Figure\",\"type\":\"Plot\"},\"ticker\":{\"id\":\"7e66a8c5-8d23-4457-a35c-9108703e5577\",\"type\":\"BasicTicker\"}},\"id\":\"62fdedef-20d2-41f7-ad32-41fd9ae0e346\",\"type\":\"LinearAxis\"},{\"attributes\":{\"callback\":null,\"column_names\":[\"x\",\"y\",\"color\",\"label\",\"artist\"],\"data\":{\"artist\":[\"children-18-3\",\"efterklang\",\"ajj\",\"4-the-cause\",\"animation\",\"celtic-thunder\",\"austrian-death-machine\",\"frustrators\",\"big-bad-vodoo-daddy\",\"deichkind\",\"chicken-shack\",\"derailers\",\"del-the-funky-homosapien\",\"dave-potts\",\"the-ethiopians\",\"borialis\",\"bless-the-fall\",\"cedric-gervais\",\"asher-monroe\",\"george-duke\",\"earthtone\",\"closure\",\"chris-murray\",\"exit-this-side\",\"ashley-matte\",\"cream\",\"farben-lehre\",\"al-hy\",\"carlos-ponce\",\"asia-nitollano\",\"anna-waronker\",\"carmen-consoli\",\"buckcherry\",\"astro-n-out\",\"delfonics\",\"franco-de-vita\",\"amber-riley\",\"camille\",\"elhaida-dani\",\"absolution-project\",\"a-great-big-world-christina-aguilera\",\"the-big-moon\",\"deerhoof\",\"dennis-marsh\",\"capleton\",\"fink\",\"blessed\",\"funkadelic\",\"the-cable-car-theory\",\"eureka-california\",\"colony-house\",\"brainiac\",\"anneli-marian-drecker\",\"eleonora-zouganeli\",\"funny-girl\",\"duke-robillard\",\"the-fashion\",\"dan-mills\",\"brandi-carlile\",\"dominique-van-hulst\",\"arshad\",\"aerodrone\",\"aidan-nolan\",\"charlie-musselwhite\",\"callejeros\",\"graveyard\",\"fences\",\"bomshel\",\"eric-johnson\",\"david-dunn\",\"dj-henry-x\",\"adena\",\"boston-pops\",\"elvin-bishop\",\"dove-cameron\",\"ehsan\",\"au-pairs\",\"blues-saraceno\",\"clarensau\",\"for-king-country\",\"cohen-leonard\",\"crobot\",\"brightwood\",\"genghis-tron\",\"the-allman-brothers\",\"default\",\"almafuerte\",\"desert-noises\",\"break-the-silence\",\"echoes-from-airplanes\",\"funker-vogt\",\"d-i\",\"daisy-dee\",\"black-francis\",\"dominique-a\",\"bel-esprit\",\"2-be-3\",\"bruce-springsteen-the-sessions-band\",\"destroy\",\"bionic-ghost-kids\",\"bogart-co\",\"cameron-grey\",\"drew-davis\",\"frostfang\",\"acda-de-munnik\",\"the-duke-the-king\",\"espers\",\"bunga-citra-lestari\",\"emilio-estefan\",\"evan-taubenfeld\",\"blues\",\"big-pokey\",\"the-automatic-automatic\",\"ali-dee-and-the-deekompressors\",\"amberian-dawn\",\"bobby-charles\",\"freemasons\",\"celesty\",\"atlas-sound\",\"chester-french\",\"billy-squier\",\"goodbye-june\",\"analog-brothers\",\"example\",\"firefall\",\"don-t-look-down\",\"eljay\",\"a-k-a-c-o-d\",\"avey-tare\",\"all-4-one\",\"allison-crowe\",\"delerium\",\"arcade-fire\",\"dnl\",\"exotica\",\"the-books\",\"charlie-robison\",\"britta-phillips-dean-wareham\",\"el-arrebato\",\"azrael\",\"caleb-collins\",\"chuckie\",\"aleesia\",\"bradley-walker\",\"chuck-norris\",\"alvar-lake\",\"evan-t\",\"for-today\",\"aspektz\",\"a-dream-too-late\",\"aubrie-sellers\",\"ddoduddegd1-2-dd-nd-d\",\"crooked-fingers\",\"betty-wright\",\"area-11\",\"dear-jack\",\"future-gucci-mane\",\"crooked-still\",\"antoine-clamaran\",\"gravy-train\",\"c-w-stoneking\",\"ballad\",\"choke\",\"antifreeze\",\"e-nomine\",\"charlotte-sometimes\",\"abyssic-hate\",\"final-fantasy\",\"finger-eleven\",\"the-good-china\",\"awesome-car-funmaker\",\"athelete\",\"gene-watson\",\"doc-watson-merle-watson\",\"gates-of-ishtar\",\"gorillaz\",\"behemoth\",\"all-new-atmosphere\",\"the-black-moods\",\"diana-ross-the-supremes\",\"gina-g\",\"cazwell\",\"emily-haines\",\"1974-ad\",\"clint-mansell\",\"drag-the-river\",\"fair-sex\",\"andy-m-stewart\",\"conway-twitty\",\"balkan-beat-box\",\"alice-russell\",\"all-shall-perish\",\"amos-lee\",\"gazpacho\",\"alexander-achavoy\",\"aimer\",\"gallows\",\"chris-kenner\",\"fenix\",\"disbelief\",\"antonis-remos\",\"cock-sparrer\",\"dickies\",\"bert-jansch\",\"andrea-corr\",\"beckett\",\"abraxas\",\"the-fin\",\"eighty4-fly\",\"girls\",\"celadon-candy\",\"angel-grant\",\"busy-signal\",\"atlantis-awaits\",\"eleventy-seven\",\"al-stewart\",\"cappa\",\"elle\",\"carter-s-chord\",\"arthur-big-boy-crudup\",\"covenant\",\"chris-salvatore\",\"george\",\"8mm\",\"earthtone9\",\"azizi-gibson\",\"burn-the-priest\",\"danko-jones\",\"days-like-these\",\"austins-bridge\",\"frank-derol\",\"alpoko-don\",\"gabrielle\",\"chocolate-genius\",\"antischism\",\"ataraxie\",\"flying-lotus\",\"american-lesion\",\"gadget\",\"andrrks-krkllay-saunders\",\"audiotopsy\",\"gratitude\",\"blank-jones-julian-roman-wasserfuhr\",\"b3\",\"d-j-dave\",\"britt-nicole\",\"goatwhore\",\"2am\",\"abica\",\"gauntlet-hair\",\"alan-walker\",\"calibre-50\",\"brian-simpson\",\"delroy-wilson\",\"garnet-crow\",\"bad-rabbits\",\"arctic-death\",\"dark-funeral\",\"claire-voyant\",\"drist\",\"california-breed\",\"echobelly\",\"brother\",\"echoterra\",\"furslide\",\"the-chasm\",\"burden-of-a-day\",\"the-colors\",\"god-des-and-she\",\"dirty\",\"arnaldo-antunes\",\"glasses-malone\",\"allan-holdsworth\",\"bobby-bazini\",\"foxal\",\"c4\",\"goats-with-headlamps\",\"crystal-kovach\",\"engelbert\",\"all-caps\",\"alanis-morissette\",\"flatlinerz\",\"the-blackout-pact\",\"dead-ceremony\",\"cro-mags\",\"geographer\",\"caleb-hawley\",\"the-easton-ellises\",\"de-kast\",\"at\",\"bill-evans\",\"arrested-development\",\"good-heavens\",\"aidonia\",\"connie-francis\",\"drivin-n-cryin\",\"colin-stetson\",\"alexia\",\"alex-winston\",\"anastacia\",\"flip-n-fill\",\"eden-brent\",\"athena-cage\",\"8-ball\",\"aaron-west-and-the-roaring-twenties\",\"elle-king\",\"decyfer-down\",\"dariush\",\"clare-bowen-sam-palladio\",\"cover-girls\",\"eiffel\",\"breakbot\",\"billy-thorpe\",\"george-harrison\",\"dry-county\",\"fka-twigs\",\"bobby-darin\",\"american-opera\",\"big-d\",\"flo-morrissey\",\"burn-the-ballroom\",\"dido\",\"adeade\",\"ashmont-hill\",\"fintelligens\",\"andromeda-mega-express-orchestra\",\"alathea\",\"bystander\",\"cris-cab\",\"body-language\",\"emma-pollock\",\"atreyu\",\"atsumi-saori\",\"abserdo\",\"avery-storm\",\"chetes\",\"blue-deep-shorts\",\"aurora-borealis\",\"codename-rocky\",\"flying-pickets\",\"dakrua\",\"argo\",\"charles-bradley\",\"general-fiasco\",\"eye-alaska\",\"above-the-underground\",\"beekeeper\",\"direct-hit\",\"backburner\",\"buck\",\"amy-search\",\"carl-carlton\",\"bb-diamond\",\"down-with-webster\",\"blaze-bayley\",\"cressida\",\"clancy-maverick\",\"anthony-fallacaro\",\"evidence\",\"crass\",\"die-radio-die\",\"astal\",\"butterfly-boucher\",\"clara-nova\",\"etro-anime\",\"carmen-mcrae\",\"glory\",\"the-chevin\",\"defari\",\"billy-bland\",\"basic-vacation\",\"fang\",\"gerard\",\"ericka-jane\",\"asterix\",\"elan\",\"absolutely-free\",\"the-fooo\",\"baltimora\",\"eyes\",\"bryan-ferry\",\"antimatter\",\"the-gathering\",\"the-boy-least-likely-to\",\"astropuppees\",\"fallacy\",\"the-band-of-heathens\",\"dillon\",\"eazy-e\",\"dj-webstar\",\"fear-of-men\",\"aerial\",\"daevid-allen\",\"fee\",\"eve-to-adam\",\"clouds-over-normandy\",\"the-boxmasters\",\"999\",\"broken-stems\",\"blake-lewis\",\"a-giant-dog\",\"cadaveres-de-tortugas\",\"bang-la-decks\",\"dave-b\",\"the-gloria-record\",\"bionic-jive\",\"the-explosion\",\"diamond-head\",\"the-accident-experiment\",\"the-casket-lottery\",\"glen-phillips\",\"gluecifer\",\"canines\",\"chordettes\",\"becky-g\",\"bernie-paul\",\"blood\",\"fools-garden\",\"the-beegie-adair-trio\",\"emo-side-project\",\"amanda-lear\",\"erick-right\",\"beyonce-knowles\",\"elenowen\",\"eyeshine\",\"ghost-loft\",\"amy-macdonald\",\"answer-with-metal\",\"chico\",\"brooke-woods\",\"gianni\",\"gordon-goodwin\",\"coti\",\"adaaeaaineay-iaidiia\",\"ella-fitzgerald-louis-armstrong\",\"aronchupa\",\"dale-watson\",\"defiance\",\"divided-by-friday\",\"axe-murder-boys\",\"amanda-marshall\",\"andy-williams\",\"baby-d\",\"beat-farmers\",\"dati\",\"blaqstarr\",\"bluejuice\",\"alex-band\",\"bijelo-dugme\",\"coldcut\",\"blue-s-clues\",\"darius\",\"brkrbara-rocha\",\"blind-pilot\",\"dragonforce\",\"bob-lind\",\"alice-on-the-roof\",\"chad-brownlee\",\"flamboyant-bella\",\"fatima-mansions\",\"cults\",\"bolshoi\",\"capture-the-crown\",\"demonaz\",\"28-days\",\"barikad-crew\",\"50-cent\",\"dear-stalker\",\"brad-mehldau\",\"catherine-britt\",\"dreamer\",\"action-action\",\"esprit-d-air\",\"dick-figures\",\"babydoll\",\"dreadful-shadows\",\"frank-fairfield\",\"2win\"],\"color\":[\"navy\",\"navy\",\"navy\",\"yellow\",\"navy\",\"navy\",\"blue\",\"navy\",\"blue\",\"yellow\",\"blue\",\"blue\",\"navy\",\"navy\",\"navy\",\"navy\",\"navy\",\"yellow\",\"blue\",\"blue\",\"magenta\",\"navy\",\"yellow\",\"yellow\",\"yellow\",\"magenta\",\"orange\",\"yellow\",\"brown\",\"navy\",\"navy\",\"green\",\"navy\",\"yellow\",\"blue\",\"brown\",\"yellow\",\"navy\",\"yellow\",\"yellow\",\"magenta\",\"yellow\",\"blue\",\"magenta\",\"navy\",\"navy\",\"navy\",\"blue\",\"black\",\"navy\",\"navy\",\"magenta\",\"navy\",\"yellow\",\"yellow\",\"blue\",\"yellow\",\"navy\",\"navy\",\"blue\",\"yellow\",\"yellow\",\"navy\",\"navy\",\"brown\",\"navy\",\"navy\",\"blue\",\"navy\",\"navy\",\"yellow\",\"blue\",\"yellow\",\"yellow\",\"navy\",\"blue\",\"navy\",\"yellow\",\"yellow\",\"blue\",\"blue\",\"yellow\",\"blue\",\"black\",\"blue\",\"navy\",\"brown\",\"navy\",\"black\",\"yellow\",\"black\",\"navy\",\"blue\",\"navy\",\"yellow\",\"yellow\",\"blue\",\"navy\",\"yellow\",\"yellow\",\"yellow\",\"yellow\",\"blue\",\"black\",\"yellow\",\"navy\",\"black\",\"yellow\",\"yellow\",\"navy\",\"blue\",\"yellow\",\"navy\",\"yellow\",\"black\",\"yellow\",\"blue\",\"black\",\"blue\",\"navy\",\"navy\",\"navy\",\"yellow\",\"navy\",\"blue\",\"navy\",\"yellow\",\"green\",\"navy\",\"blue\",\"navy\",\"blue\",\"navy\",\"magenta\",\"yellow\",\"navy\",\"navy\",\"green\",\"brown\",\"brown\",\"blue\",\"navy\",\"navy\",\"navy\",\"orange\",\"navy\",\"blue\",\"black\",\"navy\",\"navy\",\"navy\",\"yellow\",\"black\",\"blue\",\"blue\",\"green\",\"yellow\",\"yellow\",\"yellow\",\"navy\",\"yellow\",\"blue\",\"navy\",\"navy\",\"yellow\",\"navy\",\"black\",\"green\",\"navy\",\"yellow\",\"navy\",\"navy\",\"navy\",\"yellow\",\"black\",\"navy\",\"black\",\"navy\",\"yellow\",\"blue\",\"blue\",\"yellow\",\"navy\",\"orange\",\"yellow\",\"navy\",\"black\",\"navy\",\"blue\",\"navy\",\"navy\",\"black\",\"navy\",\"black\",\"brown\",\"yellow\",\"black\",\"green\",\"yellow\",\"black\",\"yellow\",\"navy\",\"navy\",\"blue\",\"yellow\",\"navy\",\"black\",\"yellow\",\"yellow\",\"blue\",\"navy\",\"blue\",\"blue\",\"yellow\",\"navy\",\"navy\",\"magenta\",\"yellow\",\"blue\",\"blue\",\"black\",\"blue\",\"blue\",\"yellow\",\"black\",\"navy\",\"black\",\"navy\",\"black\",\"black\",\"blue\",\"navy\",\"navy\",\"yellow\",\"black\",\"black\",\"navy\",\"navy\",\"black\",\"yellow\",\"green\",\"navy\",\"yellow\",\"blue\",\"magenta\",\"blue\",\"black\",\"yellow\",\"navy\",\"magenta\",\"yellow\",\"brown\",\"blue\",\"blue\",\"orange\",\"yellow\",\"navy\",\"black\",\"black\",\"black\",\"magenta\",\"navy\",\"navy\",\"black\",\"navy\",\"black\",\"black\",\"yellow\",\"navy\",\"navy\",\"orange\",\"navy\",\"yellow\",\"blue\",\"navy\",\"yellow\",\"navy\",\"black\",\"blue\",\"blue\",\"navy\",\"navy\",\"black\",\"yellow\",\"black\",\"blue\",\"orange\",\"magenta\",\"yellow\",\"yellow\",\"blue\",\"navy\",\"yellow\",\"yellow\",\"blue\",\"navy\",\"yellow\",\"blue\",\"magenta\",\"blue\",\"navy\",\"yellow\",\"blue\",\"navy\",\"yellow\",\"navy\",\"navy\",\"pink\",\"navy\",\"blue\",\"yellow\",\"blue\",\"blue\",\"blue\",\"yellow\",\"blue\",\"blue\",\"yellow\",\"yellow\",\"magenta\",\"blue\",\"navy\",\"blue\",\"yellow\",\"yellow\",\"yellow\",\"yellow\",\"yellow\",\"navy\",\"yellow\",\"navy\",\"black\",\"orange\",\"yellow\",\"navy\",\"magenta\",\"navy\",\"black\",\"navy\",\"yellow\",\"black\",\"yellow\",\"blue\",\"navy\",\"red\",\"red\",\"navy\",\"navy\",\"blue\",\"navy\",\"yellow\",\"orange\",\"navy\",\"navy\",\"black\",\"navy\",\"navy\",\"blue\",\"navy\",\"navy\",\"navy\",\"yellow\",\"navy\",\"navy\",\"blue\",\"blue\",\"brown\",\"blue\",\"navy\",\"yellow\",\"navy\",\"navy\",\"navy\",\"yellow\",\"yellow\",\"navy\",\"pink\",\"navy\",\"magenta\",\"red\",\"blue\",\"navy\",\"black\",\"navy\",\"yellow\",\"black\",\"yellow\",\"black\",\"navy\",\"yellow\",\"yellow\",\"black\",\"yellow\",\"yellow\",\"yellow\",\"black\",\"navy\",\"navy\",\"yellow\",\"blue\",\"yellow\",\"navy\",\"yellow\",\"navy\",\"navy\",\"navy\",\"navy\",\"blue\",\"black\",\"navy\",\"navy\",\"navy\",\"navy\",\"yellow\",\"navy\",\"blue\",\"black\",\"navy\",\"navy\",\"blue\",\"blue\",\"magenta\",\"blue\",\"blue\",\"navy\",\"yellow\",\"navy\",\"black\",\"blue\",\"yellow\",\"blue\",\"yellow\",\"brown\",\"pink\",\"blue\",\"yellow\",\"navy\",\"black\",\"blue\",\"navy\",\"blue\",\"blue\",\"navy\",\"yellow\",\"orange\",\"blue\",\"yellow\",\"magenta\",\"orange\",\"navy\",\"yellow\",\"navy\",\"navy\",\"navy\",\"black\",\"yellow\",\"yellow\",\"blue\",\"yellow\",\"navy\",\"navy\",\"navy\",\"black\",\"black\",\"navy\",\"yellow\",\"navy\",\"red\",\"yellow\",\"navy\",\"yellow\",\"navy\",\"yellow\",\"yellow\",\"blue\",\"black\",\"navy\",\"red\"],\"label\":[\" 'im',  'dont',  'know',  'got',  'like',  'just',  'na',  'want',  'time',  'come'\",\" 'im',  'dont',  'know',  'got',  'like',  'just',  'na',  'want',  'time',  'come'\",\" 'im',  'dont',  'know',  'got',  'like',  'just',  'na',  'want',  'time',  'come'\",\" 'im',  'like',  'just',  'love',  'know',  'got',  'chorus',  'come',  'dont',  'dying'\",\" 'im',  'dont',  'know',  'got',  'like',  'just',  'na',  'want',  'time',  'come'\",\" 'im',  'dont',  'know',  'got',  'like',  'just',  'na',  'want',  'time',  'come'\",\" 'love',  'ay',  'im',  'know',  'dont',  'oh',  'just',  'na',  'want',  'like'\",\" 'im',  'dont',  'know',  'got',  'like',  'just',  'na',  'want',  'time',  'come'\",\" 'love',  'ay',  'im',  'know',  'dont',  'oh',  'just',  'na',  'want',  'like'\",\" 'im',  'like',  'just',  'love',  'know',  'got',  'chorus',  'come',  'dont',  'dying'\",\" 'love',  'ay',  'im',  'know',  'dont',  'oh',  'just',  'na',  'want',  'like'\",\" 'love',  'ay',  'im',  'know',  'dont',  'oh',  'just',  'na',  'want',  'like'\",\" 'im',  'dont',  'know',  'got',  'like',  'just',  'na',  'want',  'time',  'come'\",\" 'im',  'dont',  'know',  'got',  'like',  'just',  'na',  'want',  'time',  'come'\",\" 'im',  'dont',  'know',  'got',  'like',  'just',  'na',  'want',  'time',  'come'\",\" 'im',  'dont',  'know',  'got',  'like',  'just',  'na',  'want',  'time',  'come'\",\" 'im',  'dont',  'know',  'got',  'like',  'just',  'na',  'want',  'time',  'come'\",\" 'im',  'like',  'just',  'love',  'know',  'got',  'chorus',  'come',  'dont',  'dying'\",\" 'love',  'ay',  'im',  'know',  'dont',  'oh',  'just',  'na',  'want',  'like'\",\" 'love',  'ay',  'im',  'know',  'dont',  'oh',  'just',  'na',  'want',  'like'\",\" 'oh',  'oh',  'im',  'hey',  'dont',  'shake',  'yeah',  'say',  'like',  'love'\",\" 'im',  'dont',  'know',  'got',  'like',  'just',  'na',  'want',  'time',  'come'\",\" 'im',  'like',  'just',  'love',  'know',  'got',  'chorus',  'come',  'dont',  'dying'\",\" 'im',  'like',  'just',  'love',  'know',  'got',  'chorus',  'come',  'dont',  'dying'\",\" 'im',  'like',  'just',  'love',  'know',  'got',  'chorus',  'come',  'dont',  'dying'\",\" 'oh',  'oh',  'im',  'hey',  'dont',  'shake',  'yeah',  'say',  'like',  'love'\",\" 'na',  'em',  'ta',  'shes',  'gon',  'gon',  'eyes',  'cause',  'wrong',  'chorus'\",\" 'im',  'like',  'just',  'love',  'know',  'got',  'chorus',  'come',  'dont',  'dying'\",\" 'sin',  'ya',  'why',  'sea',  'son',  'final',  'air',  'oh',  'colors',  'rock'\",\" 'im',  'dont',  'know',  'got',  'like',  'just',  'na',  'want',  'time',  'come'\",\" 'im',  'dont',  'know',  'got',  'like',  'just',  'na',  'want',  'time',  'come'\",\" 'come',  'many',  'let',  'youll',  'urning',  'ask',  'love',  'final',  'inside',  'like'\",\" 'im',  'dont',  'know',  'got',  'like',  'just',  'na',  'want',  'time',  'come'\",\" 'im',  'like',  'just',  'love',  'know',  'got',  'chorus',  'come',  'dont',  'dying'\",\" 'love',  'ay',  'im',  'know',  'dont',  'oh',  'just',  'na',  'want',  'like'\",\" 'sin',  'ya',  'why',  'sea',  'son',  'final',  'air',  'oh',  'colors',  'rock'\",\" 'im',  'like',  'just',  'love',  'know',  'got',  'chorus',  'come',  'dont',  'dying'\",\" 'im',  'dont',  'know',  'got',  'like',  'just',  'na',  'want',  'time',  'come'\",\" 'im',  'like',  'just',  'love',  'know',  'got',  'chorus',  'come',  'dont',  'dying'\",\" 'im',  'like',  'just',  'love',  'know',  'got',  'chorus',  'come',  'dont',  'dying'\",\" 'oh',  'oh',  'im',  'hey',  'dont',  'shake',  'yeah',  'say',  'like',  'love'\",\" 'im',  'like',  'just',  'love',  'know',  'got',  'chorus',  'come',  'dont',  'dying'\",\" 'love',  'ay',  'im',  'know',  'dont',  'oh',  'just',  'na',  'want',  'like'\",\" 'oh',  'oh',  'im',  'hey',  'dont',  'shake',  'yeah',  'say',  'like',  'love'\",\" 'im',  'dont',  'know',  'got',  'like',  'just',  'na',  'want',  'time',  'come'\",\" 'im',  'dont',  'know',  'got',  'like',  'just',  'na',  'want',  'time',  'come'\",\" 'im',  'dont',  'know',  'got',  'like',  'just',  'na',  'want',  'time',  'come'\",\" 'love',  'ay',  'im',  'know',  'dont',  'oh',  'just',  'na',  'want',  'like'\",\" 'time',  'life',  'away',  'im',  'feels',  'eyes',  'come',  'day',  'dying',  'living'\",\" 'im',  'dont',  'know',  'got',  'like',  'just',  'na',  'want',  'time',  'come'\",\" 'im',  'dont',  'know',  'got',  'like',  'just',  'na',  'want',  'time',  'come'\",\" 'oh',  'oh',  'im',  'hey',  'dont',  'shake',  'yeah',  'say',  'like',  'love'\",\" 'im',  'dont',  'know',  'got',  'like',  'just',  'na',  'want',  'time',  'come'\",\" 'im',  'like',  'just',  'love',  'know',  'got',  'chorus',  'come',  'dont',  'dying'\",\" 'im',  'like',  'just',  'love',  'know',  'got',  'chorus',  'come',  'dont',  'dying'\",\" 'love',  'ay',  'im',  'know',  'dont',  'oh',  'just',  'na',  'want',  'like'\",\" 'im',  'like',  'just',  'love',  'know',  'got',  'chorus',  'come',  'dont',  'dying'\",\" 'im',  'dont',  'know',  'got',  'like',  'just',  'na',  'want',  'time',  'come'\",\" 'im',  'dont',  'know',  'got',  'like',  'just',  'na',  'want',  'time',  'come'\",\" 'love',  'ay',  'im',  'know',  'dont',  'oh',  'just',  'na',  'want',  'like'\",\" 'im',  'like',  'just',  'love',  'know',  'got',  'chorus',  'come',  'dont',  'dying'\",\" 'im',  'like',  'just',  'love',  'know',  'got',  'chorus',  'come',  'dont',  'dying'\",\" 'im',  'dont',  'know',  'got',  'like',  'just',  'na',  'want',  'time',  'come'\",\" 'im',  'dont',  'know',  'got',  'like',  'just',  'na',  'want',  'time',  'come'\",\" 'sin',  'ya',  'why',  'sea',  'son',  'final',  'air',  'oh',  'colors',  'rock'\",\" 'im',  'dont',  'know',  'got',  'like',  'just',  'na',  'want',  'time',  'come'\",\" 'im',  'dont',  'know',  'got',  'like',  'just',  'na',  'want',  'time',  'come'\",\" 'love',  'ay',  'im',  'know',  'dont',  'oh',  'just',  'na',  'want',  'like'\",\" 'im',  'dont',  'know',  'got',  'like',  'just',  'na',  'want',  'time',  'come'\",\" 'im',  'dont',  'know',  'got',  'like',  'just',  'na',  'want',  'time',  'come'\",\" 'im',  'like',  'just',  'love',  'know',  'got',  'chorus',  'come',  'dont',  'dying'\",\" 'love',  'ay',  'im',  'know',  'dont',  'oh',  'just',  'na',  'want',  'like'\",\" 'im',  'like',  'just',  'love',  'know',  'got',  'chorus',  'come',  'dont',  'dying'\",\" 'im',  'like',  'just',  'love',  'know',  'got',  'chorus',  'come',  'dont',  'dying'\",\" 'im',  'dont',  'know',  'got',  'like',  'just',  'na',  'want',  'time',  'come'\",\" 'love',  'ay',  'im',  'know',  'dont',  'oh',  'just',  'na',  'want',  'like'\",\" 'im',  'dont',  'know',  'got',  'like',  'just',  'na',  'want',  'time',  'come'\",\" 'im',  'like',  'just',  'love',  'know',  'got',  'chorus',  'come',  'dont',  'dying'\",\" 'im',  'like',  'just',  'love',  'know',  'got',  'chorus',  'come',  'dont',  'dying'\",\" 'love',  'ay',  'im',  'know',  'dont',  'oh',  'just',  'na',  'want',  'like'\",\" 'love',  'ay',  'im',  'know',  'dont',  'oh',  'just',  'na',  'want',  'like'\",\" 'im',  'like',  'just',  'love',  'know',  'got',  'chorus',  'come',  'dont',  'dying'\",\" 'love',  'ay',  'im',  'know',  'dont',  'oh',  'just',  'na',  'want',  'like'\",\" 'time',  'life',  'away',  'im',  'feels',  'eyes',  'come',  'day',  'dying',  'living'\",\" 'love',  'ay',  'im',  'know',  'dont',  'oh',  'just',  'na',  'want',  'like'\",\" 'im',  'dont',  'know',  'got',  'like',  'just',  'na',  'want',  'time',  'come'\",\" 'sin',  'ya',  'why',  'sea',  'son',  'final',  'air',  'oh',  'colors',  'rock'\",\" 'im',  'dont',  'know',  'got',  'like',  'just',  'na',  'want',  'time',  'come'\",\" 'time',  'life',  'away',  'im',  'feels',  'eyes',  'come',  'day',  'dying',  'living'\",\" 'im',  'like',  'just',  'love',  'know',  'got',  'chorus',  'come',  'dont',  'dying'\",\" 'time',  'life',  'away',  'im',  'feels',  'eyes',  'come',  'day',  'dying',  'living'\",\" 'im',  'dont',  'know',  'got',  'like',  'just',  'na',  'want',  'time',  'come'\",\" 'love',  'ay',  'im',  'know',  'dont',  'oh',  'just',  'na',  'want',  'like'\",\" 'im',  'dont',  'know',  'got',  'like',  'just',  'na',  'want',  'time',  'come'\",\" 'im',  'like',  'just',  'love',  'know',  'got',  'chorus',  'come',  'dont',  'dying'\",\" 'im',  'like',  'just',  'love',  'know',  'got',  'chorus',  'come',  'dont',  'dying'\",\" 'love',  'ay',  'im',  'know',  'dont',  'oh',  'just',  'na',  'want',  'like'\",\" 'im',  'dont',  'know',  'got',  'like',  'just',  'na',  'want',  'time',  'come'\",\" 'im',  'like',  'just',  'love',  'know',  'got',  'chorus',  'come',  'dont',  'dying'\",\" 'im',  'like',  'just',  'love',  'know',  'got',  'chorus',  'come',  'dont',  'dying'\",\" 'im',  'like',  'just',  'love',  'know',  'got',  'chorus',  'come',  'dont',  'dying'\",\" 'im',  'like',  'just',  'love',  'know',  'got',  'chorus',  'come',  'dont',  'dying'\",\" 'love',  'ay',  'im',  'know',  'dont',  'oh',  'just',  'na',  'want',  'like'\",\" 'time',  'life',  'away',  'im',  'feels',  'eyes',  'come',  'day',  'dying',  'living'\",\" 'im',  'like',  'just',  'love',  'know',  'got',  'chorus',  'come',  'dont',  'dying'\",\" 'im',  'dont',  'know',  'got',  'like',  'just',  'na',  'want',  'time',  'come'\",\" 'time',  'life',  'away',  'im',  'feels',  'eyes',  'come',  'day',  'dying',  'living'\",\" 'im',  'like',  'just',  'love',  'know',  'got',  'chorus',  'come',  'dont',  'dying'\",\" 'im',  'like',  'just',  'love',  'know',  'got',  'chorus',  'come',  'dont',  'dying'\",\" 'im',  'dont',  'know',  'got',  'like',  'just',  'na',  'want',  'time',  'come'\",\" 'love',  'ay',  'im',  'know',  'dont',  'oh',  'just',  'na',  'want',  'like'\",\" 'im',  'like',  'just',  'love',  'know',  'got',  'chorus',  'come',  'dont',  'dying'\",\" 'im',  'dont',  'know',  'got',  'like',  'just',  'na',  'want',  'time',  'come'\",\" 'im',  'like',  'just',  'love',  'know',  'got',  'chorus',  'come',  'dont',  'dying'\",\" 'time',  'life',  'away',  'im',  'feels',  'eyes',  'come',  'day',  'dying',  'living'\",\" 'im',  'like',  'just',  'love',  'know',  'got',  'chorus',  'come',  'dont',  'dying'\",\" 'love',  'ay',  'im',  'know',  'dont',  'oh',  'just',  'na',  'want',  'like'\",\" 'time',  'life',  'away',  'im',  'feels',  'eyes',  'come',  'day',  'dying',  'living'\",\" 'love',  'ay',  'im',  'know',  'dont',  'oh',  'just',  'na',  'want',  'like'\",\" 'im',  'dont',  'know',  'got',  'like',  'just',  'na',  'want',  'time',  'come'\",\" 'im',  'dont',  'know',  'got',  'like',  'just',  'na',  'want',  'time',  'come'\",\" 'im',  'dont',  'know',  'got',  'like',  'just',  'na',  'want',  'time',  'come'\",\" 'im',  'like',  'just',  'love',  'know',  'got',  'chorus',  'come',  'dont',  'dying'\",\" 'im',  'dont',  'know',  'got',  'like',  'just',  'na',  'want',  'time',  'come'\",\" 'love',  'ay',  'im',  'know',  'dont',  'oh',  'just',  'na',  'want',  'like'\",\" 'im',  'dont',  'know',  'got',  'like',  'just',  'na',  'want',  'time',  'come'\",\" 'im',  'like',  'just',  'love',  'know',  'got',  'chorus',  'come',  'dont',  'dying'\",\" 'come',  'many',  'let',  'youll',  'urning',  'ask',  'love',  'final',  'inside',  'like'\",\" 'im',  'dont',  'know',  'got',  'like',  'just',  'na',  'want',  'time',  'come'\",\" 'love',  'ay',  'im',  'know',  'dont',  'oh',  'just',  'na',  'want',  'like'\",\" 'im',  'dont',  'know',  'got',  'like',  'just',  'na',  'want',  'time',  'come'\",\" 'love',  'ay',  'im',  'know',  'dont',  'oh',  'just',  'na',  'want',  'like'\",\" 'im',  'dont',  'know',  'got',  'like',  'just',  'na',  'want',  'time',  'come'\",\" 'oh',  'oh',  'im',  'hey',  'dont',  'shake',  'yeah',  'say',  'like',  'love'\",\" 'im',  'like',  'just',  'love',  'know',  'got',  'chorus',  'come',  'dont',  'dying'\",\" 'im',  'dont',  'know',  'got',  'like',  'just',  'na',  'want',  'time',  'come'\",\" 'im',  'dont',  'know',  'got',  'like',  'just',  'na',  'want',  'time',  'come'\",\" 'come',  'many',  'let',  'youll',  'urning',  'ask',  'love',  'final',  'inside',  'like'\",\" 'sin',  'ya',  'why',  'sea',  'son',  'final',  'air',  'oh',  'colors',  'rock'\",\" 'sin',  'ya',  'why',  'sea',  'son',  'final',  'air',  'oh',  'colors',  'rock'\",\" 'love',  'ay',  'im',  'know',  'dont',  'oh',  'just',  'na',  'want',  'like'\",\" 'im',  'dont',  'know',  'got',  'like',  'just',  'na',  'want',  'time',  'come'\",\" 'im',  'dont',  'know',  'got',  'like',  'just',  'na',  'want',  'time',  'come'\",\" 'im',  'dont',  'know',  'got',  'like',  'just',  'na',  'want',  'time',  'come'\",\" 'na',  'em',  'ta',  'shes',  'gon',  'gon',  'eyes',  'cause',  'wrong',  'chorus'\",\" 'im',  'dont',  'know',  'got',  'like',  'just',  'na',  'want',  'time',  'come'\",\" 'love',  'ay',  'im',  'know',  'dont',  'oh',  'just',  'na',  'want',  'like'\",\" 'time',  'life',  'away',  'im',  'feels',  'eyes',  'come',  'day',  'dying',  'living'\",\" 'im',  'dont',  'know',  'got',  'like',  'just',  'na',  'want',  'time',  'come'\",\" 'im',  'dont',  'know',  'got',  'like',  'just',  'na',  'want',  'time',  'come'\",\" 'im',  'dont',  'know',  'got',  'like',  'just',  'na',  'want',  'time',  'come'\",\" 'im',  'like',  'just',  'love',  'know',  'got',  'chorus',  'come',  'dont',  'dying'\",\" 'time',  'life',  'away',  'im',  'feels',  'eyes',  'come',  'day',  'dying',  'living'\",\" 'love',  'ay',  'im',  'know',  'dont',  'oh',  'just',  'na',  'want',  'like'\",\" 'love',  'ay',  'im',  'know',  'dont',  'oh',  'just',  'na',  'want',  'like'\",\" 'come',  'many',  'let',  'youll',  'urning',  'ask',  'love',  'final',  'inside',  'like'\",\" 'im',  'like',  'just',  'love',  'know',  'got',  'chorus',  'come',  'dont',  'dying'\",\" 'im',  'like',  'just',  'love',  'know',  'got',  'chorus',  'come',  'dont',  'dying'\",\" 'im',  'like',  'just',  'love',  'know',  'got',  'chorus',  'come',  'dont',  'dying'\",\" 'im',  'dont',  'know',  'got',  'like',  'just',  'na',  'want',  'time',  'come'\",\" 'im',  'like',  'just',  'love',  'know',  'got',  'chorus',  'come',  'dont',  'dying'\",\" 'love',  'ay',  'im',  'know',  'dont',  'oh',  'just',  'na',  'want',  'like'\",\" 'im',  'dont',  'know',  'got',  'like',  'just',  'na',  'want',  'time',  'come'\",\" 'im',  'dont',  'know',  'got',  'like',  'just',  'na',  'want',  'time',  'come'\",\" 'im',  'like',  'just',  'love',  'know',  'got',  'chorus',  'come',  'dont',  'dying'\",\" 'im',  'dont',  'know',  'got',  'like',  'just',  'na',  'want',  'time',  'come'\",\" 'time',  'life',  'away',  'im',  'feels',  'eyes',  'come',  'day',  'dying',  'living'\",\" 'come',  'many',  'let',  'youll',  'urning',  'ask',  'love',  'final',  'inside',  'like'\",\" 'im',  'dont',  'know',  'got',  'like',  'just',  'na',  'want',  'time',  'come'\",\" 'im',  'like',  'just',  'love',  'know',  'got',  'chorus',  'come',  'dont',  'dying'\",\" 'im',  'dont',  'know',  'got',  'like',  'just',  'na',  'want',  'time',  'come'\",\" 'im',  'dont',  'know',  'got',  'like',  'just',  'na',  'want',  'time',  'come'\",\" 'im',  'dont',  'know',  'got',  'like',  'just',  'na',  'want',  'time',  'come'\",\" 'im',  'like',  'just',  'love',  'know',  'got',  'chorus',  'come',  'dont',  'dying'\",\" 'time',  'life',  'away',  'im',  'feels',  'eyes',  'come',  'day',  'dying',  'living'\",\" 'im',  'dont',  'know',  'got',  'like',  'just',  'na',  'want',  'time',  'come'\",\" 'time',  'life',  'away',  'im',  'feels',  'eyes',  'come',  'day',  'dying',  'living'\",\" 'im',  'dont',  'know',  'got',  'like',  'just',  'na',  'want',  'time',  'come'\",\" 'im',  'like',  'just',  'love',  'know',  'got',  'chorus',  'come',  'dont',  'dying'\",\" 'love',  'ay',  'im',  'know',  'dont',  'oh',  'just',  'na',  'want',  'like'\",\" 'love',  'ay',  'im',  'know',  'dont',  'oh',  'just',  'na',  'want',  'like'\",\" 'im',  'like',  'just',  'love',  'know',  'got',  'chorus',  'come',  'dont',  'dying'\",\" 'im',  'dont',  'know',  'got',  'like',  'just',  'na',  'want',  'time',  'come'\",\" 'na',  'em',  'ta',  'shes',  'gon',  'gon',  'eyes',  'cause',  'wrong',  'chorus'\",\" 'im',  'like',  'just',  'love',  'know',  'got',  'chorus',  'come',  'dont',  'dying'\",\" 'im',  'dont',  'know',  'got',  'like',  'just',  'na',  'want',  'time',  'come'\",\" 'time',  'life',  'away',  'im',  'feels',  'eyes',  'come',  'day',  'dying',  'living'\",\" 'im',  'dont',  'know',  'got',  'like',  'just',  'na',  'want',  'time',  'come'\",\" 'love',  'ay',  'im',  'know',  'dont',  'oh',  'just',  'na',  'want',  'like'\",\" 'im',  'dont',  'know',  'got',  'like',  'just',  'na',  'want',  'time',  'come'\",\" 'im',  'dont',  'know',  'got',  'like',  'just',  'na',  'want',  'time',  'come'\",\" 'time',  'life',  'away',  'im',  'feels',  'eyes',  'come',  'day',  'dying',  'living'\",\" 'im',  'dont',  'know',  'got',  'like',  'just',  'na',  'want',  'time',  'come'\",\" 'time',  'life',  'away',  'im',  'feels',  'eyes',  'come',  'day',  'dying',  'living'\",\" 'sin',  'ya',  'why',  'sea',  'son',  'final',  'air',  'oh',  'colors',  'rock'\",\" 'im',  'like',  'just',  'love',  'know',  'got',  'chorus',  'come',  'dont',  'dying'\",\" 'time',  'life',  'away',  'im',  'feels',  'eyes',  'come',  'day',  'dying',  'living'\",\" 'come',  'many',  'let',  'youll',  'urning',  'ask',  'love',  'final',  'inside',  'like'\",\" 'im',  'like',  'just',  'love',  'know',  'got',  'chorus',  'come',  'dont',  'dying'\",\" 'time',  'life',  'away',  'im',  'feels',  'eyes',  'come',  'day',  'dying',  'living'\",\" 'im',  'like',  'just',  'love',  'know',  'got',  'chorus',  'come',  'dont',  'dying'\",\" 'im',  'dont',  'know',  'got',  'like',  'just',  'na',  'want',  'time',  'come'\",\" 'im',  'dont',  'know',  'got',  'like',  'just',  'na',  'want',  'time',  'come'\",\" 'love',  'ay',  'im',  'know',  'dont',  'oh',  'just',  'na',  'want',  'like'\",\" 'im',  'like',  'just',  'love',  'know',  'got',  'chorus',  'come',  'dont',  'dying'\",\" 'im',  'dont',  'know',  'got',  'like',  'just',  'na',  'want',  'time',  'come'\",\" 'time',  'life',  'away',  'im',  'feels',  'eyes',  'come',  'day',  'dying',  'living'\",\" 'im',  'like',  'just',  'love',  'know',  'got',  'chorus',  'come',  'dont',  'dying'\",\" 'im',  'like',  'just',  'love',  'know',  'got',  'chorus',  'come',  'dont',  'dying'\",\" 'love',  'ay',  'im',  'know',  'dont',  'oh',  'just',  'na',  'want',  'like'\",\" 'im',  'dont',  'know',  'got',  'like',  'just',  'na',  'want',  'time',  'come'\",\" 'love',  'ay',  'im',  'know',  'dont',  'oh',  'just',  'na',  'want',  'like'\",\" 'love',  'ay',  'im',  'know',  'dont',  'oh',  'just',  'na',  'want',  'like'\",\" 'im',  'like',  'just',  'love',  'know',  'got',  'chorus',  'come',  'dont',  'dying'\",\" 'im',  'dont',  'know',  'got',  'like',  'just',  'na',  'want',  'time',  'come'\",\" 'im',  'dont',  'know',  'got',  'like',  'just',  'na',  'want',  'time',  'come'\",\" 'oh',  'oh',  'im',  'hey',  'dont',  'shake',  'yeah',  'say',  'like',  'love'\",\" 'im',  'like',  'just',  'love',  'know',  'got',  'chorus',  'come',  'dont',  'dying'\",\" 'love',  'ay',  'im',  'know',  'dont',  'oh',  'just',  'na',  'want',  'like'\",\" 'love',  'ay',  'im',  'know',  'dont',  'oh',  'just',  'na',  'want',  'like'\",\" 'time',  'life',  'away',  'im',  'feels',  'eyes',  'come',  'day',  'dying',  'living'\",\" 'love',  'ay',  'im',  'know',  'dont',  'oh',  'just',  'na',  'want',  'like'\",\" 'love',  'ay',  'im',  'know',  'dont',  'oh',  'just',  'na',  'want',  'like'\",\" 'im',  'like',  'just',  'love',  'know',  'got',  'chorus',  'come',  'dont',  'dying'\",\" 'time',  'life',  'away',  'im',  'feels',  'eyes',  'come',  'day',  'dying',  'living'\",\" 'im',  'dont',  'know',  'got',  'like',  'just',  'na',  'want',  'time',  'come'\",\" 'time',  'life',  'away',  'im',  'feels',  'eyes',  'come',  'day',  'dying',  'living'\",\" 'im',  'dont',  'know',  'got',  'like',  'just',  'na',  'want',  'time',  'come'\",\" 'time',  'life',  'away',  'im',  'feels',  'eyes',  'come',  'day',  'dying',  'living'\",\" 'time',  'life',  'away',  'im',  'feels',  'eyes',  'come',  'day',  'dying',  'living'\",\" 'love',  'ay',  'im',  'know',  'dont',  'oh',  'just',  'na',  'want',  'like'\",\" 'im',  'dont',  'know',  'got',  'like',  'just',  'na',  'want',  'time',  'come'\",\" 'im',  'dont',  'know',  'got',  'like',  'just',  'na',  'want',  'time',  'come'\",\" 'im',  'like',  'just',  'love',  'know',  'got',  'chorus',  'come',  'dont',  'dying'\",\" 'time',  'life',  'away',  'im',  'feels',  'eyes',  'come',  'day',  'dying',  'living'\",\" 'time',  'life',  'away',  'im',  'feels',  'eyes',  'come',  'day',  'dying',  'living'\",\" 'im',  'dont',  'know',  'got',  'like',  'just',  'na',  'want',  'time',  'come'\",\" 'im',  'dont',  'know',  'got',  'like',  'just',  'na',  'want',  'time',  'come'\",\" 'time',  'life',  'away',  'im',  'feels',  'eyes',  'come',  'day',  'dying',  'living'\",\" 'im',  'like',  'just',  'love',  'know',  'got',  'chorus',  'come',  'dont',  'dying'\",\" 'come',  'many',  'let',  'youll',  'urning',  'ask',  'love',  'final',  'inside',  'like'\",\" 'im',  'dont',  'know',  'got',  'like',  'just',  'na',  'want',  'time',  'come'\",\" 'im',  'like',  'just',  'love',  'know',  'got',  'chorus',  'come',  'dont',  'dying'\",\" 'love',  'ay',  'im',  'know',  'dont',  'oh',  'just',  'na',  'want',  'like'\",\" 'oh',  'oh',  'im',  'hey',  'dont',  'shake',  'yeah',  'say',  'like',  'love'\",\" 'love',  'ay',  'im',  'know',  'dont',  'oh',  'just',  'na',  'want',  'like'\",\" 'time',  'life',  'away',  'im',  'feels',  'eyes',  'come',  'day',  'dying',  'living'\",\" 'im',  'like',  'just',  'love',  'know',  'got',  'chorus',  'come',  'dont',  'dying'\",\" 'im',  'dont',  'know',  'got',  'like',  'just',  'na',  'want',  'time',  'come'\",\" 'oh',  'oh',  'im',  'hey',  'dont',  'shake',  'yeah',  'say',  'like',  'love'\",\" 'im',  'like',  'just',  'love',  'know',  'got',  'chorus',  'come',  'dont',  'dying'\",\" 'sin',  'ya',  'why',  'sea',  'son',  'final',  'air',  'oh',  'colors',  'rock'\",\" 'love',  'ay',  'im',  'know',  'dont',  'oh',  'just',  'na',  'want',  'like'\",\" 'love',  'ay',  'im',  'know',  'dont',  'oh',  'just',  'na',  'want',  'like'\",\" 'na',  'em',  'ta',  'shes',  'gon',  'gon',  'eyes',  'cause',  'wrong',  'chorus'\",\" 'im',  'like',  'just',  'love',  'know',  'got',  'chorus',  'come',  'dont',  'dying'\",\" 'im',  'dont',  'know',  'got',  'like',  'just',  'na',  'want',  'time',  'come'\",\" 'time',  'life',  'away',  'im',  'feels',  'eyes',  'come',  'day',  'dying',  'living'\",\" 'time',  'life',  'away',  'im',  'feels',  'eyes',  'come',  'day',  'dying',  'living'\",\" 'time',  'life',  'away',  'im',  'feels',  'eyes',  'come',  'day',  'dying',  'living'\",\" 'oh',  'oh',  'im',  'hey',  'dont',  'shake',  'yeah',  'say',  'like',  'love'\",\" 'im',  'dont',  'know',  'got',  'like',  'just',  'na',  'want',  'time',  'come'\",\" 'im',  'dont',  'know',  'got',  'like',  'just',  'na',  'want',  'time',  'come'\",\" 'time',  'life',  'away',  'im',  'feels',  'eyes',  'come',  'day',  'dying',  'living'\",\" 'im',  'dont',  'know',  'got',  'like',  'just',  'na',  'want',  'time',  'come'\",\" 'time',  'life',  'away',  'im',  'feels',  'eyes',  'come',  'day',  'dying',  'living'\",\" 'time',  'life',  'away',  'im',  'feels',  'eyes',  'come',  'day',  'dying',  'living'\",\" 'im',  'like',  'just',  'love',  'know',  'got',  'chorus',  'come',  'dont',  'dying'\",\" 'im',  'dont',  'know',  'got',  'like',  'just',  'na',  'want',  'time',  'come'\",\" 'im',  'dont',  'know',  'got',  'like',  'just',  'na',  'want',  'time',  'come'\",\" 'na',  'em',  'ta',  'shes',  'gon',  'gon',  'eyes',  'cause',  'wrong',  'chorus'\",\" 'im',  'dont',  'know',  'got',  'like',  'just',  'na',  'want',  'time',  'come'\",\" 'im',  'like',  'just',  'love',  'know',  'got',  'chorus',  'come',  'dont',  'dying'\",\" 'love',  'ay',  'im',  'know',  'dont',  'oh',  'just',  'na',  'want',  'like'\",\" 'im',  'dont',  'know',  'got',  'like',  'just',  'na',  'want',  'time',  'come'\",\" 'im',  'like',  'just',  'love',  'know',  'got',  'chorus',  'come',  'dont',  'dying'\",\" 'im',  'dont',  'know',  'got',  'like',  'just',  'na',  'want',  'time',  'come'\",\" 'time',  'life',  'away',  'im',  'feels',  'eyes',  'come',  'day',  'dying',  'living'\",\" 'love',  'ay',  'im',  'know',  'dont',  'oh',  'just',  'na',  'want',  'like'\",\" 'love',  'ay',  'im',  'know',  'dont',  'oh',  'just',  'na',  'want',  'like'\",\" 'im',  'dont',  'know',  'got',  'like',  'just',  'na',  'want',  'time',  'come'\",\" 'im',  'dont',  'know',  'got',  'like',  'just',  'na',  'want',  'time',  'come'\",\" 'time',  'life',  'away',  'im',  'feels',  'eyes',  'come',  'day',  'dying',  'living'\",\" 'im',  'like',  'just',  'love',  'know',  'got',  'chorus',  'come',  'dont',  'dying'\",\" 'time',  'life',  'away',  'im',  'feels',  'eyes',  'come',  'day',  'dying',  'living'\",\" 'love',  'ay',  'im',  'know',  'dont',  'oh',  'just',  'na',  'want',  'like'\",\" 'na',  'em',  'ta',  'shes',  'gon',  'gon',  'eyes',  'cause',  'wrong',  'chorus'\",\" 'oh',  'oh',  'im',  'hey',  'dont',  'shake',  'yeah',  'say',  'like',  'love'\",\" 'im',  'like',  'just',  'love',  'know',  'got',  'chorus',  'come',  'dont',  'dying'\",\" 'im',  'like',  'just',  'love',  'know',  'got',  'chorus',  'come',  'dont',  'dying'\",\" 'love',  'ay',  'im',  'know',  'dont',  'oh',  'just',  'na',  'want',  'like'\",\" 'im',  'dont',  'know',  'got',  'like',  'just',  'na',  'want',  'time',  'come'\",\" 'im',  'like',  'just',  'love',  'know',  'got',  'chorus',  'come',  'dont',  'dying'\",\" 'im',  'like',  'just',  'love',  'know',  'got',  'chorus',  'come',  'dont',  'dying'\",\" 'love',  'ay',  'im',  'know',  'dont',  'oh',  'just',  'na',  'want',  'like'\",\" 'im',  'dont',  'know',  'got',  'like',  'just',  'na',  'want',  'time',  'come'\",\" 'im',  'like',  'just',  'love',  'know',  'got',  'chorus',  'come',  'dont',  'dying'\",\" 'love',  'ay',  'im',  'know',  'dont',  'oh',  'just',  'na',  'want',  'like'\",\" 'oh',  'oh',  'im',  'hey',  'dont',  'shake',  'yeah',  'say',  'like',  'love'\",\" 'love',  'ay',  'im',  'know',  'dont',  'oh',  'just',  'na',  'want',  'like'\",\" 'im',  'dont',  'know',  'got',  'like',  'just',  'na',  'want',  'time',  'come'\",\" 'im',  'like',  'just',  'love',  'know',  'got',  'chorus',  'come',  'dont',  'dying'\",\" 'love',  'ay',  'im',  'know',  'dont',  'oh',  'just',  'na',  'want',  'like'\",\" 'im',  'dont',  'know',  'got',  'like',  'just',  'na',  'want',  'time',  'come'\",\" 'im',  'like',  'just',  'love',  'know',  'got',  'chorus',  'come',  'dont',  'dying'\",\" 'im',  'dont',  'know',  'got',  'like',  'just',  'na',  'want',  'time',  'come'\",\" 'im',  'dont',  'know',  'got',  'like',  'just',  'na',  'want',  'time',  'come'\",\" 'sky',  'alone',  'ears',  'house',  'ecomes',  'silence',  'kind',  'sea',  'tree',  'wake'\",\" 'im',  'dont',  'know',  'got',  'like',  'just',  'na',  'want',  'time',  'come'\",\" 'love',  'ay',  'im',  'know',  'dont',  'oh',  'just',  'na',  'want',  'like'\",\" 'im',  'like',  'just',  'love',  'know',  'got',  'chorus',  'come',  'dont',  'dying'\",\" 'love',  'ay',  'im',  'know',  'dont',  'oh',  'just',  'na',  'want',  'like'\",\" 'love',  'ay',  'im',  'know',  'dont',  'oh',  'just',  'na',  'want',  'like'\",\" 'love',  'ay',  'im',  'know',  'dont',  'oh',  'just',  'na',  'want',  'like'\",\" 'im',  'like',  'just',  'love',  'know',  'got',  'chorus',  'come',  'dont',  'dying'\",\" 'love',  'ay',  'im',  'know',  'dont',  'oh',  'just',  'na',  'want',  'like'\",\" 'love',  'ay',  'im',  'know',  'dont',  'oh',  'just',  'na',  'want',  'like'\",\" 'im',  'like',  'just',  'love',  'know',  'got',  'chorus',  'come',  'dont',  'dying'\",\" 'im',  'like',  'just',  'love',  'know',  'got',  'chorus',  'come',  'dont',  'dying'\",\" 'oh',  'oh',  'im',  'hey',  'dont',  'shake',  'yeah',  'say',  'like',  'love'\",\" 'love',  'ay',  'im',  'know',  'dont',  'oh',  'just',  'na',  'want',  'like'\",\" 'im',  'dont',  'know',  'got',  'like',  'just',  'na',  'want',  'time',  'come'\",\" 'love',  'ay',  'im',  'know',  'dont',  'oh',  'just',  'na',  'want',  'like'\",\" 'im',  'like',  'just',  'love',  'know',  'got',  'chorus',  'come',  'dont',  'dying'\",\" 'im',  'like',  'just',  'love',  'know',  'got',  'chorus',  'come',  'dont',  'dying'\",\" 'im',  'like',  'just',  'love',  'know',  'got',  'chorus',  'come',  'dont',  'dying'\",\" 'im',  'like',  'just',  'love',  'know',  'got',  'chorus',  'come',  'dont',  'dying'\",\" 'im',  'like',  'just',  'love',  'know',  'got',  'chorus',  'come',  'dont',  'dying'\",\" 'im',  'dont',  'know',  'got',  'like',  'just',  'na',  'want',  'time',  'come'\",\" 'im',  'like',  'just',  'love',  'know',  'got',  'chorus',  'come',  'dont',  'dying'\",\" 'im',  'dont',  'know',  'got',  'like',  'just',  'na',  'want',  'time',  'come'\",\" 'time',  'life',  'away',  'im',  'feels',  'eyes',  'come',  'day',  'dying',  'living'\",\" 'na',  'em',  'ta',  'shes',  'gon',  'gon',  'eyes',  'cause',  'wrong',  'chorus'\",\" 'im',  'like',  'just',  'love',  'know',  'got',  'chorus',  'come',  'dont',  'dying'\",\" 'im',  'dont',  'know',  'got',  'like',  'just',  'na',  'want',  'time',  'come'\",\" 'oh',  'oh',  'im',  'hey',  'dont',  'shake',  'yeah',  'say',  'like',  'love'\",\" 'im',  'dont',  'know',  'got',  'like',  'just',  'na',  'want',  'time',  'come'\",\" 'time',  'life',  'away',  'im',  'feels',  'eyes',  'come',  'day',  'dying',  'living'\",\" 'im',  'dont',  'know',  'got',  'like',  'just',  'na',  'want',  'time',  'come'\",\" 'im',  'like',  'just',  'love',  'know',  'got',  'chorus',  'come',  'dont',  'dying'\",\" 'time',  'life',  'away',  'im',  'feels',  'eyes',  'come',  'day',  'dying',  'living'\",\" 'im',  'like',  'just',  'love',  'know',  'got',  'chorus',  'come',  'dont',  'dying'\",\" 'love',  'ay',  'im',  'know',  'dont',  'oh',  'just',  'na',  'want',  'like'\",\" 'im',  'dont',  'know',  'got',  'like',  'just',  'na',  'want',  'time',  'come'\",\" 'young',  'im',  'soul',  'want',  'say',  'dont',  'ive',  'time',  'just',  'friends'\",\" 'young',  'im',  'soul',  'want',  'say',  'dont',  'ive',  'time',  'just',  'friends'\",\" 'im',  'dont',  'know',  'got',  'like',  'just',  'na',  'want',  'time',  'come'\",\" 'im',  'dont',  'know',  'got',  'like',  'just',  'na',  'want',  'time',  'come'\",\" 'love',  'ay',  'im',  'know',  'dont',  'oh',  'just',  'na',  'want',  'like'\",\" 'im',  'dont',  'know',  'got',  'like',  'just',  'na',  'want',  'time',  'come'\",\" 'im',  'like',  'just',  'love',  'know',  'got',  'chorus',  'come',  'dont',  'dying'\",\" 'na',  'em',  'ta',  'shes',  'gon',  'gon',  'eyes',  'cause',  'wrong',  'chorus'\",\" 'im',  'dont',  'know',  'got',  'like',  'just',  'na',  'want',  'time',  'come'\",\" 'im',  'dont',  'know',  'got',  'like',  'just',  'na',  'want',  'time',  'come'\",\" 'time',  'life',  'away',  'im',  'feels',  'eyes',  'come',  'day',  'dying',  'living'\",\" 'im',  'dont',  'know',  'got',  'like',  'just',  'na',  'want',  'time',  'come'\",\" 'im',  'dont',  'know',  'got',  'like',  'just',  'na',  'want',  'time',  'come'\",\" 'love',  'ay',  'im',  'know',  'dont',  'oh',  'just',  'na',  'want',  'like'\",\" 'im',  'dont',  'know',  'got',  'like',  'just',  'na',  'want',  'time',  'come'\",\" 'im',  'dont',  'know',  'got',  'like',  'just',  'na',  'want',  'time',  'come'\",\" 'im',  'dont',  'know',  'got',  'like',  'just',  'na',  'want',  'time',  'come'\",\" 'im',  'like',  'just',  'love',  'know',  'got',  'chorus',  'come',  'dont',  'dying'\",\" 'im',  'dont',  'know',  'got',  'like',  'just',  'na',  'want',  'time',  'come'\",\" 'im',  'dont',  'know',  'got',  'like',  'just',  'na',  'want',  'time',  'come'\",\" 'love',  'ay',  'im',  'know',  'dont',  'oh',  'just',  'na',  'want',  'like'\",\" 'love',  'ay',  'im',  'know',  'dont',  'oh',  'just',  'na',  'want',  'like'\",\" 'sin',  'ya',  'why',  'sea',  'son',  'final',  'air',  'oh',  'colors',  'rock'\",\" 'love',  'ay',  'im',  'know',  'dont',  'oh',  'just',  'na',  'want',  'like'\",\" 'im',  'dont',  'know',  'got',  'like',  'just',  'na',  'want',  'time',  'come'\",\" 'im',  'like',  'just',  'love',  'know',  'got',  'chorus',  'come',  'dont',  'dying'\",\" 'im',  'dont',  'know',  'got',  'like',  'just',  'na',  'want',  'time',  'come'\",\" 'im',  'dont',  'know',  'got',  'like',  'just',  'na',  'want',  'time',  'come'\",\" 'im',  'dont',  'know',  'got',  'like',  'just',  'na',  'want',  'time',  'come'\",\" 'im',  'like',  'just',  'love',  'know',  'got',  'chorus',  'come',  'dont',  'dying'\",\" 'im',  'like',  'just',  'love',  'know',  'got',  'chorus',  'come',  'dont',  'dying'\",\" 'im',  'dont',  'know',  'got',  'like',  'just',  'na',  'want',  'time',  'come'\",\" 'sky',  'alone',  'ears',  'house',  'ecomes',  'silence',  'kind',  'sea',  'tree',  'wake'\",\" 'im',  'dont',  'know',  'got',  'like',  'just',  'na',  'want',  'time',  'come'\",\" 'oh',  'oh',  'im',  'hey',  'dont',  'shake',  'yeah',  'say',  'like',  'love'\",\" 'young',  'im',  'soul',  'want',  'say',  'dont',  'ive',  'time',  'just',  'friends'\",\" 'love',  'ay',  'im',  'know',  'dont',  'oh',  'just',  'na',  'want',  'like'\",\" 'im',  'dont',  'know',  'got',  'like',  'just',  'na',  'want',  'time',  'come'\",\" 'time',  'life',  'away',  'im',  'feels',  'eyes',  'come',  'day',  'dying',  'living'\",\" 'im',  'dont',  'know',  'got',  'like',  'just',  'na',  'want',  'time',  'come'\",\" 'im',  'like',  'just',  'love',  'know',  'got',  'chorus',  'come',  'dont',  'dying'\",\" 'time',  'life',  'away',  'im',  'feels',  'eyes',  'come',  'day',  'dying',  'living'\",\" 'im',  'like',  'just',  'love',  'know',  'got',  'chorus',  'come',  'dont',  'dying'\",\" 'time',  'life',  'away',  'im',  'feels',  'eyes',  'come',  'day',  'dying',  'living'\",\" 'im',  'dont',  'know',  'got',  'like',  'just',  'na',  'want',  'time',  'come'\",\" 'im',  'like',  'just',  'love',  'know',  'got',  'chorus',  'come',  'dont',  'dying'\",\" 'im',  'like',  'just',  'love',  'know',  'got',  'chorus',  'come',  'dont',  'dying'\",\" 'time',  'life',  'away',  'im',  'feels',  'eyes',  'come',  'day',  'dying',  'living'\",\" 'im',  'like',  'just',  'love',  'know',  'got',  'chorus',  'come',  'dont',  'dying'\",\" 'im',  'like',  'just',  'love',  'know',  'got',  'chorus',  'come',  'dont',  'dying'\",\" 'im',  'like',  'just',  'love',  'know',  'got',  'chorus',  'come',  'dont',  'dying'\",\" 'time',  'life',  'away',  'im',  'feels',  'eyes',  'come',  'day',  'dying',  'living'\",\" 'im',  'dont',  'know',  'got',  'like',  'just',  'na',  'want',  'time',  'come'\",\" 'im',  'dont',  'know',  'got',  'like',  'just',  'na',  'want',  'time',  'come'\",\" 'im',  'like',  'just',  'love',  'know',  'got',  'chorus',  'come',  'dont',  'dying'\",\" 'love',  'ay',  'im',  'know',  'dont',  'oh',  'just',  'na',  'want',  'like'\",\" 'im',  'like',  'just',  'love',  'know',  'got',  'chorus',  'come',  'dont',  'dying'\",\" 'im',  'dont',  'know',  'got',  'like',  'just',  'na',  'want',  'time',  'come'\",\" 'im',  'like',  'just',  'love',  'know',  'got',  'chorus',  'come',  'dont',  'dying'\",\" 'im',  'dont',  'know',  'got',  'like',  'just',  'na',  'want',  'time',  'come'\",\" 'im',  'dont',  'know',  'got',  'like',  'just',  'na',  'want',  'time',  'come'\",\" 'im',  'dont',  'know',  'got',  'like',  'just',  'na',  'want',  'time',  'come'\",\" 'im',  'dont',  'know',  'got',  'like',  'just',  'na',  'want',  'time',  'come'\",\" 'love',  'ay',  'im',  'know',  'dont',  'oh',  'just',  'na',  'want',  'like'\",\" 'time',  'life',  'away',  'im',  'feels',  'eyes',  'come',  'day',  'dying',  'living'\",\" 'im',  'dont',  'know',  'got',  'like',  'just',  'na',  'want',  'time',  'come'\",\" 'im',  'dont',  'know',  'got',  'like',  'just',  'na',  'want',  'time',  'come'\",\" 'im',  'dont',  'know',  'got',  'like',  'just',  'na',  'want',  'time',  'come'\",\" 'im',  'dont',  'know',  'got',  'like',  'just',  'na',  'want',  'time',  'come'\",\" 'im',  'like',  'just',  'love',  'know',  'got',  'chorus',  'come',  'dont',  'dying'\",\" 'im',  'dont',  'know',  'got',  'like',  'just',  'na',  'want',  'time',  'come'\",\" 'love',  'ay',  'im',  'know',  'dont',  'oh',  'just',  'na',  'want',  'like'\",\" 'time',  'life',  'away',  'im',  'feels',  'eyes',  'come',  'day',  'dying',  'living'\",\" 'im',  'dont',  'know',  'got',  'like',  'just',  'na',  'want',  'time',  'come'\",\" 'im',  'dont',  'know',  'got',  'like',  'just',  'na',  'want',  'time',  'come'\",\" 'love',  'ay',  'im',  'know',  'dont',  'oh',  'just',  'na',  'want',  'like'\",\" 'love',  'ay',  'im',  'know',  'dont',  'oh',  'just',  'na',  'want',  'like'\",\" 'oh',  'oh',  'im',  'hey',  'dont',  'shake',  'yeah',  'say',  'like',  'love'\",\" 'love',  'ay',  'im',  'know',  'dont',  'oh',  'just',  'na',  'want',  'like'\",\" 'love',  'ay',  'im',  'know',  'dont',  'oh',  'just',  'na',  'want',  'like'\",\" 'im',  'dont',  'know',  'got',  'like',  'just',  'na',  'want',  'time',  'come'\",\" 'im',  'like',  'just',  'love',  'know',  'got',  'chorus',  'come',  'dont',  'dying'\",\" 'im',  'dont',  'know',  'got',  'like',  'just',  'na',  'want',  'time',  'come'\",\" 'time',  'life',  'away',  'im',  'feels',  'eyes',  'come',  'day',  'dying',  'living'\",\" 'love',  'ay',  'im',  'know',  'dont',  'oh',  'just',  'na',  'want',  'like'\",\" 'im',  'like',  'just',  'love',  'know',  'got',  'chorus',  'come',  'dont',  'dying'\",\" 'love',  'ay',  'im',  'know',  'dont',  'oh',  'just',  'na',  'want',  'like'\",\" 'im',  'like',  'just',  'love',  'know',  'got',  'chorus',  'come',  'dont',  'dying'\",\" 'sin',  'ya',  'why',  'sea',  'son',  'final',  'air',  'oh',  'colors',  'rock'\",\" 'sky',  'alone',  'ears',  'house',  'ecomes',  'silence',  'kind',  'sea',  'tree',  'wake'\",\" 'love',  'ay',  'im',  'know',  'dont',  'oh',  'just',  'na',  'want',  'like'\",\" 'im',  'like',  'just',  'love',  'know',  'got',  'chorus',  'come',  'dont',  'dying'\",\" 'im',  'dont',  'know',  'got',  'like',  'just',  'na',  'want',  'time',  'come'\",\" 'time',  'life',  'away',  'im',  'feels',  'eyes',  'come',  'day',  'dying',  'living'\",\" 'love',  'ay',  'im',  'know',  'dont',  'oh',  'just',  'na',  'want',  'like'\",\" 'im',  'dont',  'know',  'got',  'like',  'just',  'na',  'want',  'time',  'come'\",\" 'love',  'ay',  'im',  'know',  'dont',  'oh',  'just',  'na',  'want',  'like'\",\" 'love',  'ay',  'im',  'know',  'dont',  'oh',  'just',  'na',  'want',  'like'\",\" 'im',  'dont',  'know',  'got',  'like',  'just',  'na',  'want',  'time',  'come'\",\" 'im',  'like',  'just',  'love',  'know',  'got',  'chorus',  'come',  'dont',  'dying'\",\" 'na',  'em',  'ta',  'shes',  'gon',  'gon',  'eyes',  'cause',  'wrong',  'chorus'\",\" 'love',  'ay',  'im',  'know',  'dont',  'oh',  'just',  'na',  'want',  'like'\",\" 'im',  'like',  'just',  'love',  'know',  'got',  'chorus',  'come',  'dont',  'dying'\",\" 'oh',  'oh',  'im',  'hey',  'dont',  'shake',  'yeah',  'say',  'like',  'love'\",\" 'na',  'em',  'ta',  'shes',  'gon',  'gon',  'eyes',  'cause',  'wrong',  'chorus'\",\" 'im',  'dont',  'know',  'got',  'like',  'just',  'na',  'want',  'time',  'come'\",\" 'im',  'like',  'just',  'love',  'know',  'got',  'chorus',  'come',  'dont',  'dying'\",\" 'im',  'dont',  'know',  'got',  'like',  'just',  'na',  'want',  'time',  'come'\",\" 'im',  'dont',  'know',  'got',  'like',  'just',  'na',  'want',  'time',  'come'\",\" 'im',  'dont',  'know',  'got',  'like',  'just',  'na',  'want',  'time',  'come'\",\" 'time',  'life',  'away',  'im',  'feels',  'eyes',  'come',  'day',  'dying',  'living'\",\" 'im',  'like',  'just',  'love',  'know',  'got',  'chorus',  'come',  'dont',  'dying'\",\" 'im',  'like',  'just',  'love',  'know',  'got',  'chorus',  'come',  'dont',  'dying'\",\" 'love',  'ay',  'im',  'know',  'dont',  'oh',  'just',  'na',  'want',  'like'\",\" 'im',  'like',  'just',  'love',  'know',  'got',  'chorus',  'come',  'dont',  'dying'\",\" 'im',  'dont',  'know',  'got',  'like',  'just',  'na',  'want',  'time',  'come'\",\" 'im',  'dont',  'know',  'got',  'like',  'just',  'na',  'want',  'time',  'come'\",\" 'im',  'dont',  'know',  'got',  'like',  'just',  'na',  'want',  'time',  'come'\",\" 'time',  'life',  'away',  'im',  'feels',  'eyes',  'come',  'day',  'dying',  'living'\",\" 'time',  'life',  'away',  'im',  'feels',  'eyes',  'come',  'day',  'dying',  'living'\",\" 'im',  'dont',  'know',  'got',  'like',  'just',  'na',  'want',  'time',  'come'\",\" 'im',  'like',  'just',  'love',  'know',  'got',  'chorus',  'come',  'dont',  'dying'\",\" 'im',  'dont',  'know',  'got',  'like',  'just',  'na',  'want',  'time',  'come'\",\" 'young',  'im',  'soul',  'want',  'say',  'dont',  'ive',  'time',  'just',  'friends'\",\" 'im',  'like',  'just',  'love',  'know',  'got',  'chorus',  'come',  'dont',  'dying'\",\" 'im',  'dont',  'know',  'got',  'like',  'just',  'na',  'want',  'time',  'come'\",\" 'im',  'like',  'just',  'love',  'know',  'got',  'chorus',  'come',  'dont',  'dying'\",\" 'im',  'dont',  'know',  'got',  'like',  'just',  'na',  'want',  'time',  'come'\",\" 'im',  'like',  'just',  'love',  'know',  'got',  'chorus',  'come',  'dont',  'dying'\",\" 'im',  'like',  'just',  'love',  'know',  'got',  'chorus',  'come',  'dont',  'dying'\",\" 'love',  'ay',  'im',  'know',  'dont',  'oh',  'just',  'na',  'want',  'like'\",\" 'time',  'life',  'away',  'im',  'feels',  'eyes',  'come',  'day',  'dying',  'living'\",\" 'im',  'dont',  'know',  'got',  'like',  'just',  'na',  'want',  'time',  'come'\",\" 'young',  'im',  'soul',  'want',  'say',  'dont',  'ive',  'time',  'just',  'friends'\"],\"x\":[-0.3028029733652068,-0.4382528220638915,-0.038535912989467465,-0.628956853026187,-0.10573132896370603,-0.031023707431319787,0.28645442890992473,-0.019901465480426556,0.39273525509161683,0.6150413601636874,0.35768465807378913,0.04807447340756583,0.16357081796022654,-0.3838539611193626,0.4254096221322194,0.047916104880780554,-0.1304189448046502,0.12225646171559808,0.22891644470575837,0.08691606078380809,0.5345234824660269,-0.21025122856665848,-0.6712003723003283,0.48357460460262464,-0.5955293465814114,0.15955244391628795,0.7528646117466246,-0.017388106634542943,0.40100994716997695,0.15961317783047924,-0.10254230453721823,0.6515497221176868,0.04648712464097631,0.8510161791034747,0.3118098893781665,0.45666697989570293,-0.1307553058006217,0.1262507757287593,0.37949608443724586,-0.43922695880355006,0.5951333330289201,0.13214497602607397,0.3104579691893796,0.44411608173726047,-0.020520286040794054,-0.10364862372588202,-0.096080682123503,0.1867940871006466,-0.3528218729636765,-0.24901155880080028,-0.43279045693057566,0.4700960917307885,-0.3118642550350074,-0.4807431290987698,0.5940784198469569,0.22280774839650036,0.7059891350055879,-0.24354810622894557,-0.07267116861618517,0.4436355933653674,-0.48658024580069065,-0.6926608134070215,0.3409351421901479,0.11355000040013594,0.3206546421900537,-0.23275819143951398,-0.060643639830728256,0.1555951110020408,0.0008907969086331986,0.36551999221659703,0.6205087850303586,0.0690244437012985,-0.39786036356239785,-0.31660209077931994,0.3365642693541466,-0.12608514846554192,-0.19605210109170254,-0.7137581095147819,-0.7406848177682899,0.0283204762345929,-0.07684558975157035,-0.27776143663682457,-0.36099037223256075,-0.44067498299142777,0.3121904840387736,-0.12117351321722518,0.3764182960287602,-0.06773275499132597,-0.3356692982999771,-0.6751719686777179,-0.2631622244192591,0.0682726066005821,0.40177148312220495,0.07183966966761055,0.34465797365708195,0.20554897694032062,0.41607087573641954,0.004447150400126147,-0.5567877408492727,-0.5122329728473354,0.41552345517878875,-0.21496072791100784,-0.19363362585025676,-0.6970838265362427,0.1470380678751302,0.32833282934151675,-0.47532255927763933,-0.6610204427279711,0.10700496721996347,0.2195758451077775,0.205872693420312,-0.17504004261913492,-0.37658870669804106,0.43904044781557733,-0.31923130800061544,-0.5335890279848732,0.28986653935634926,-0.5165312041760856,-0.4141491570415675,0.16933583102896643,0.0008996288979062705,0.15596796843523156,0.5314451900288297,0.018908452294367294,-0.06096273363040136,-0.18151769792465397,-0.2963458845659198,-0.40440539013243854,0.01772308322313478,0.03406795835600877,-0.25902837423206393,-0.1598135959419967,-0.013839992668121468,0.7765206476604258,-0.6137165757136788,0.29785561583873377,0.09181941728984822,0.6431363443676513,0.2647098022737505,0.04144875494153078,0.07935790940316807,0.4582592360750032,0.2664262803373872,-0.4654389889170527,0.5075901991266599,-0.22459432244942368,-0.029295938699369643,-0.35917620524122396,0.3359463660997278,-0.15756037911094753,-0.052945567663999986,0.89627196393227,-0.2206756307957886,0.194865699882963,0.2834848083933013,0.4850041720549884,0.062107329899678994,-0.665811470068708,0.23899354102169545,0.2111682345339673,-0.6757225813971348,-0.38627264793665866,-0.2908550994032967,-0.16515077521456797,0.08240679129161814,-0.10189097814293094,-0.42580218290157057,0.5179149876516042,-0.08717587353605058,0.3064236543889973,0.25103288929180817,0.22570319476687462,-0.1587503830108266,0.7454439591975828,-0.37096993750737794,0.26440232011335846,-0.25378845479917156,-0.01071154744969528,0.6048353201682283,0.09608264639177415,0.3038450813026295,0.6622185344192083,-0.12325214883038521,0.7439312033170349,-0.48262021730956245,-0.49945412959538704,-0.5298988052554819,-0.07465278382377308,-0.027948834414782065,0.06691106216660526,-0.1453609458003084,-0.40532930695171876,0.0981238043591969,-0.22616832583527824,0.3506880366586093,0.32867870915494934,-0.07715698027930891,0.5675409719167255,-0.6726568051595745,-0.23639518638742557,0.6803345548364896,0.02396049145974136,0.046948915507731996,0.039696830245111774,-0.6489393844237781,0.166202844709208,-0.3028268229765094,-0.11386674332906116,0.4915789834690518,0.3211492376081461,-0.5475631602784662,-0.054226769629387966,0.3424208559184966,-0.5559459208959234,-0.03353973002996699,-0.14029204742052012,0.587514265869559,0.3915603642908293,0.19702968678952895,0.31951979689579035,-0.22009224146533946,0.5268019628506362,0.0912120997322218,-0.4455021196427602,-0.3686399190451182,0.1656005239927181,-0.5570398605373462,0.06539300500817884,-0.29570605776715103,-0.504631711048071,0.2853879267194311,0.09832001973807529,0.00965586526765975,0.3385034799603934,-0.4188420170980766,-0.22706149272907622,0.1492193509867394,-0.3732860696795505,-0.49242407463974425,-0.7218754358488638,-0.673028388683148,-0.19974737390950967,-0.6195240180876165,0.4906732236930388,0.7600096798316939,0.11942441781869353,-0.40295048657735955,0.22621111639901342,-0.03410727918900278,0.5024743524148689,-0.5387135496524402,0.5298896972543475,0.48843433912456574,0.1968933880145074,0.7246643694113516,0.47960754263106753,-0.25795196464735837,-0.31503896100942985,-0.27618147709843444,-0.4145362110671346,0.7288417880804364,-0.09405860207219467,0.22166463026856556,-0.35648555188388914,-0.5151998468204314,-0.2761358855590948,-0.23200923173010085,0.31883139989830533,0.11360649972222332,0.12208206857963286,0.7163779594750641,0.18374614032001602,-0.3383000160267203,0.16717128112683136,-0.0732196488651456,0.1569569964796875,0.007797563607610971,-0.31401348151177266,0.06847340490133529,0.25650224926921794,-0.04004749587433896,0.18370372556516726,-0.5264226725080665,-0.4436260511123276,-0.187849870769585,-0.32864932119532997,0.4911927697174476,0.7276262319230945,-0.6890798034693885,0.7520488161037501,-0.07843289350981948,0.003485004950490499,0.3328668769031222,0.38407934713733327,0.05981009275548681,-0.21129392591263726,-0.2773419152543348,0.16278992017004507,0.4503417543841279,0.09134286183292513,0.025861811283972944,-0.054863759873153756,0.2074292650376056,0.13142141064166524,-0.7058535693134941,0.28596725951592483,-0.004136573503064056,-0.7713261496138651,-0.3258896666254792,0.13683266438220293,-0.8129961681156019,-0.2842148971093817,0.09881397375255394,0.0007338058665236115,0.46115304784711686,-0.09541919348273377,0.05116302470270067,0.10429899689241828,-0.029883224320597902,0.47525060139403014,-0.4415195514997953,-0.09194162984228703,-0.4136647306724107,-0.1478143994483892,0.11837999089417797,0.05915344555065343,-0.08129412365362418,0.6697627586639725,0.20459070883432723,0.6299486702893223,-0.2830320794254247,-0.17804223011385345,0.7511142790320087,-0.2406407936476421,0.11228147750708818,0.745813616566967,0.01717684508761403,-0.3171990138198554,-0.23429295543131642,-0.3227533076751705,-0.4066048678675316,0.60825523277043,0.23502021147845323,0.19403069414960156,0.0820410379011641,-0.47274104390490873,-0.05198469727771728,0.02627696534458609,-0.6359067733440263,0.010003096972664055,-0.8562271978566944,0.6638454266964313,0.017720468653872203,0.11040128314959836,-0.136215694102361,-0.21277811590966333,-0.35350774183369665,-0.04304149969882433,-0.041259372028275364,-0.0873172449470935,-0.28011135733506964,-0.3863753559786171,-0.09249391391853365,0.28894362962969505,-0.1267686349991556,-0.04515490810986479,0.3280151421881478,0.1556788935937234,0.10163629012582075,0.6596980738923539,0.3746794468020815,0.07498929616129014,0.15367518862758847,0.5414058819694554,-0.11505547789916543,-0.02251404424975704,0.23338204879813146,0.31650045312521197,0.7750809495244634,-0.5756693344606906,-0.034174252101588636,-0.2782338519608787,-0.20010145266086454,-0.2985022988998944,0.37406542014073446,-0.4740933617763581,0.5014494978210062,-0.2505647604205941,0.27640086928760904,0.39492963498436257,0.15574438199876656,-0.19525869869510684,-0.20958688618444854,0.5063016726787409,-0.22472146838572743,-0.27780322680696384,-0.1407456307959025,-0.026404053004212086,-0.7157252484179657,0.0601648299678928,0.5918380640850953,-0.12357980933140429,-0.05710845360565544,0.2979257626313423,-0.1220481298426898,0.4554466645886999,-0.08520065206749206,0.09752743920362336,-0.5133325684958057,-0.1480177291605712,-0.04800053079990318,0.24931258427099207,-0.36302118796401106,0.08187591404694687,0.12211138994082632,-0.18133045280271734,-0.30264651561470374,-0.04369339401819817,-0.27154616355034755,-0.6308320114365517,0.04885511525683882,0.44966192631280066,0.11997463372538689,-0.031821498753457356,0.023456102713789395,0.751202825072247,-0.09040761652209203,-0.26395859550989,0.5392265547726598,-0.427914574056711,0.44840653619197035,-0.33011286734356093,0.41466011779282985,-0.001206911298945018,-0.3466405342059222,-0.6517059492764692,0.05201428601628185,-0.16271536314253324,-0.17713245885282705,-0.2954064640443679,-0.005877737953745738,-0.06320318843596363,0.3744147593868712,0.30514502105368146,0.7328759155682325,0.3050056056113746,-0.014287061204381156,0.5184393983359848,0.6885110874235695,0.3670687412017621,0.2321279377227789,-0.15126152152336744,-0.12345454217604751,-0.0298452832344955,-0.360655366725592,-0.30181296777872646,-0.6296895868359694,0.35420763295423213,-0.5697563565568255,-0.1138719733846535,-0.18195815732081747,-0.17197218431149255,-0.1496617485978588,-0.34417609054645965,-0.07371585021888515,-0.8120272157022096,0.1507592141735359,-0.005922752139943411,-0.5377870566759078,0.04235264735729094,-0.47925642978661076,-0.10846050229086214,-0.5815243461283984,-0.09976928896714667,0.23179890956941276,-0.24730531162738886,0.138068672531092,-0.32904011883566137],\"y\":[0.06658155398341237,0.07185497796332076,-0.4172599016042194,-0.028299766644150442,0.31654738203831545,-0.009171541674865426,0.42418075459436316,0.3646041121116185,0.26777208398850777,-0.4730631095770762,0.33674735127399197,-0.0021751304266649585,-0.01507405168355211,0.2317814307508352,0.14806470473553768,0.2430246534866711,-0.18360678956321708,-0.4890724331958805,-0.09065327146313006,-0.08582948072919208,0.052100343974141095,0.23786544627601053,0.07963183729404563,-0.4499242633753392,-0.24815965286238334,-0.10258008738568129,0.29848655413359554,-0.8828746277747079,-0.7149079485706231,0.40667585764031555,0.20541695875088328,-0.46038228616185417,0.04460258182722291,-0.024495317054447907,0.06883316651419635,-0.6926524762405237,0.637034409698061,-0.43518150505785863,0.40981726800068974,0.45548367614851837,-0.14191649552919708,-0.6930056229811816,-0.13727580012541274,0.6475183674196828,0.2608027200938326,0.5142446318563764,0.4764010296441362,0.008077581797941874,-0.09002387569657079,0.24484833581745066,0.20910076535685787,-0.17123995983158147,0.16117839847131984,0.7642946306963505,0.4258720183074513,-0.6664636895204745,0.45515657046181723,0.20749063653644303,-0.013930143310050892,-0.516643501852547,-0.47260677387584354,-0.18330034443426793,0.43623204399555376,0.32772552714428227,-0.8000775653553343,0.2075753138306277,-0.3179504172883373,0.061442477576995655,-0.06653757567357033,0.20124998625848506,0.12748295664822135,-0.6566922520092195,0.37584985583545183,0.5569105920658157,0.03556208670987705,0.4918563582157121,0.33906600140653115,0.04500580143768241,-0.2429248171245894,-0.17468528521155063,-0.06343528861481605,0.5147050105208251,0.05260811822048123,-0.2834771637445902,0.270633984778301,0.007054428556551082,-0.7690753278234175,0.34972880316289784,-0.176711234344418,-0.11627316505439739,-0.22530832761880484,0.05895621256523053,0.05881533297808443,0.18476362377302402,0.7497235175338783,-0.4997718535309257,0.12915440891144733,0.22412227548175745,-0.3581222123146778,0.40281935989311546,-0.577001044921475,0.687522694171389,0.4107476436488799,0.22202130190942782,0.7835794871854027,-0.08540359015288455,-0.08639818290644906,0.5561030315117786,0.7013493896809402,0.0182771005203064,0.08034606621030824,0.6150914235160473,0.14242361730073014,0.5489079835694999,-0.357331240307288,0.32799227382556645,-0.18086982112793948,-0.26857053937934783,-0.08575411816464247,0.10492737074348941,0.0284416247342003,-0.16410440707148186,0.3118556012215093,0.09288839241550889,0.09635181619901649,0.015955602605659938,0.7118015042906651,0.5619655650379318,0.31068120331773097,0.0075890369303698866,0.08024589250000705,-0.07590950900734993,0.04197387314392791,-0.17958960496806037,-0.6445575895200933,-0.16412485586939835,0.2400210980383477,-0.05739276776470505,-0.812560297719332,-0.6155728050224162,0.48394287951269993,0.09219796234269569,0.1375353078580725,-0.01973985861378134,0.508542118053832,0.12333377494172917,-0.5217195286536042,-0.41274183983663676,-0.22779039543001026,-0.2161806679885552,0.2637376305490929,0.04912908362375294,-0.07902950293636878,0.09766107008755945,-0.5101275178884759,0.6386126177932535,-0.803472180083658,-0.08164767298249605,-0.5003402747619418,0.17945507720058604,0.16526320861499985,0.4598704475827737,-0.029062586875748878,0.08990349753796748,0.8119814540460861,0.35117103634731944,-0.48708240547129816,-0.36444374696529347,0.06366221994072972,-0.530819048077731,-0.11923528509871868,0.2351373311217937,-0.003447088692423958,0.0766278669203133,-0.3903986413946278,-0.2628585707092899,-0.4205946817057099,-0.34090250641189396,-0.28409882071584036,-0.025950769341242463,-0.07572962730327869,-0.057072856039515216,0.05968582543510073,0.38809441786024995,-0.6692225493210775,0.32280282672870875,-0.2454301269321723,-0.2831841697911791,0.003814232842979104,-0.2537752616006319,0.08833243177466053,-0.33647179850300357,0.08993750631721183,-0.46327904220318294,-0.7864311024126822,0.5678473470856228,-0.5084870808369415,0.06618370015723331,0.3664212928063358,-0.24576435302375058,0.5915904825176398,0.17722645708648405,0.12257040522805594,-0.12009513960307137,-0.4257554501138866,0.28202607315060296,-0.25157257915336684,-0.7187523901354123,-0.4403296369170587,0.13985556908576416,-0.002107225220659793,0.46021578989586165,-0.2672124425444337,0.20653274841778144,0.07924863254955533,-0.05988228062421217,-0.057028783046123445,-0.45010191250525006,-0.07887834636444493,-0.4288935358992133,-0.17494673128892665,-0.150305954960986,0.05772675669769557,0.3543766936038753,-0.3140390184905937,0.3675855728908478,-0.20724823790921285,0.0947966108457431,-0.15603283981135938,-0.012095576918388074,0.5979693994356358,0.4542510130109663,0.06572308171986493,-0.4067142837655866,-0.1981415404855625,-0.34510768765112493,-0.24958588551619534,0.024865342510927747,-0.15865649363483772,-0.27869149740741844,0.1968797226226464,0.27735780757625167,0.24696642070971728,-0.24634659485008184,-0.2199157406134342,0.040742867098869796,-0.5174518581112019,0.7437152117186848,0.136980966131166,-0.20022147343023097,-0.41601257844459943,-0.6592169691016512,0.3391953721854473,-0.36633325446531356,0.2811136096790231,-0.3709103748679374,0.04860412365689955,-0.4551252450817659,-0.1046460868702992,-0.02384452558180349,-0.1838314534700154,-0.040300629804226655,-0.29597278249942155,-0.1739209757053009,0.17913399202294006,-0.3967073287634336,-0.16075417011705023,0.6237519369625764,0.01309625492804174,0.22755468058469638,0.47204789111658374,0.2300324118443564,-0.5892553815725526,0.03005973735408927,0.06278412689839472,0.5848391091251212,-0.2646239616835122,-0.02029401728103334,0.28123618500737907,-0.24712443324173744,0.015650628435689515,-0.23701664084672253,-0.126080125262737,0.5086752060138997,-0.5411436106666799,0.35279925698206654,0.35939987087447733,-0.2741272149266009,0.41890075787476966,-0.3447482977011503,-0.08343602769416966,-0.12479273514549845,-0.6620309571658242,-0.34941713453129714,-0.08618916813698224,0.03135037297450642,-0.6838708284667323,0.009580800994446848,-0.12606600096443535,0.008544815458315818,0.540400026193856,0.6011739879398066,0.1923890330111669,0.24808680841411523,0.06582548092392405,0.10111537577873836,0.16191144384420617,-0.12263592540151166,0.269073226468503,-0.23033332489900465,0.3497459974530931,0.43935927906299743,-0.11126064004856685,-0.0064286537634152,0.383136038938342,0.13730891115037377,0.014215538569139227,-0.6117132986965675,-0.7040436839344736,-0.2231713670686105,-0.24184919043538294,0.0004080602363346633,-0.2988260504436584,-0.7083522907019499,-0.8551255487286312,-0.6353734589054983,-0.6617040817684152,-0.35356890265779284,0.04485510876174072,-0.20466674620771322,0.0016569971876857258,-0.12044844756620848,0.30277492842123366,-0.6645918503103907,0.18142025143272214,-0.29631409740734904,0.40997868036553436,-0.3613139604483819,-0.0411139450250484,0.623147060020617,-0.2589393854038305,0.6183001736924553,-0.06027651720765224,0.41835920078509753,0.571089412515293,0.17099557531201345,-0.24687930579296302,-0.4388166418057594,0.1279689954507878,-0.08938590711764494,-0.30613739575981247,0.07095538277856717,0.5977454325366931,0.11772624539596352,-0.3741608461926035,-0.1007316245042481,0.3879023344162313,0.6207594611685036,-0.12481944284303795,-0.22613336618582186,0.12436490380525643,0.5753644544004037,0.08185309857546764,0.5231562993139004,0.17198362398056466,-0.07425663237703858,-0.7780142983680945,-0.5791511683120278,-0.13133257646921484,-0.39757510458958123,0.006979399469054575,-0.02147475419908934,0.427518248151642,0.2290742540411823,0.8567087808490405,0.0944738143224837,0.7763867426728178,0.1524864396740737,-0.14087098606161988,0.17506115882727016,-0.02308855899605059,-0.02685402332381341,-0.11126382426126091,0.20467183595975713,0.44045641937875857,0.04253551133664657,-0.045675461891328165,-0.5191628279417821,0.010066941369708073,-0.5980360770225238,0.6520721830368694,-0.23218082840798696,-0.7539351116022083,0.005898233306397252,0.5895972709685223,-0.5144703008167112,0.0432245684953872,0.5620978269997523,-0.0034695567826481845,0.028436215355847075,0.2538157255613945,-0.02664762586885569,0.8915900474516362,0.39167498179307586,-0.141535808901677,0.27285329436324646,0.12249574496773587,-0.339251604634643,-0.2839130479204555,-0.011277882536985268,-0.15789662067199411,0.20230863382897582,0.11118833454628048,-0.5563066052975476,0.10290565907378672,0.29726652554734,-0.3829966445699066,0.06318943215355469,0.31017661310549877,0.06807883667824907,-0.4005703741279156,0.43406140946365196,0.03094162205466711,-0.19480489700201523,-0.22540441699747707,-0.1446457176472416,0.03647175671984691,-0.36342639984616626,0.1570083526186332,-0.43569990173575124,0.19452401305789796,0.8400106053209682,-0.7459968896408149,0.8739940448216195,-0.1391085446340019,-0.1585704808658245,0.10411968002170999,-0.39696666397547253,0.5379792936023038,0.4112677195941466,0.01033676220581518,-0.10926938819586991,-0.09644298985738804,-0.44450277262482896,0.29281120688970136,0.2825079181622257,0.6809961752148291,-0.13380614701928006,0.2850784138474794,-0.02994431934270226,0.491435383952419,0.17797162591522298,0.28907839453793444,-0.039052484411736504,-0.35530376080189574,-0.6299222339439241,0.4079752945690023,0.10142095815579427,0.5297786779010282,-0.073933181921975,0.1346273732330956,0.43742667177032923,-0.49473116306135606,-0.6773653377605617,0.17390752183821437,0.26996332685774993,0.14547603913062399,0.47038823421304643,-0.5159413228957279,0.13809265111397298,-0.5788951249926972,-0.2307601865008466,0.613951388281614,-0.7669342387433671,0.11104079825088621,-0.1235528395355227,0.43599975206079333,-0.8273820403107933]}},\"id\":\"758c2579-788e-4bfb-9d29-c097d8e9157c\",\"type\":\"ColumnDataSource\"},{\"attributes\":{},\"id\":\"5bf759da-8b83-481d-ae8d-c54451fd9a9f\",\"type\":\"LinearScale\"},{\"attributes\":{\"callback\":null},\"id\":\"0a139cec-3512-4cb2-a7ef-00aa7d03c603\",\"type\":\"DataRange1d\"},{\"attributes\":{},\"id\":\"625168df-b58f-4dd1-bddd-aec63a628022\",\"type\":\"PanTool\"},{\"attributes\":{\"formatter\":{\"id\":\"45760077-334f-458e-bed8-297870e19d37\",\"type\":\"BasicTickFormatter\"},\"plot\":{\"id\":\"3495e024-578a-4d3b-abcc-f95221c16aa6\",\"subtype\":\"Figure\",\"type\":\"Plot\"},\"ticker\":{\"id\":\"0b52091d-7a6a-48c0-959c-4bccab5828bd\",\"type\":\"BasicTicker\"}},\"id\":\"e4450173-4747-40a5-bb8a-a26176229cd5\",\"type\":\"LinearAxis\"},{\"attributes\":{\"fill_alpha\":{\"value\":0.5},\"fill_color\":{\"value\":\"lightgrey\"},\"level\":\"overlay\",\"line_alpha\":{\"value\":1.0},\"line_color\":{\"value\":\"black\"},\"line_dash\":[4,4],\"line_width\":{\"value\":2},\"plot\":null,\"xs_units\":\"screen\",\"ys_units\":\"screen\"},\"id\":\"3e4fa353-5e56-4961-b4f5-f3a0f02b6580\",\"type\":\"PolyAnnotation\"},{\"attributes\":{\"callback\":null},\"id\":\"44ee800b-4762-4811-91b1-20267e8382ce\",\"type\":\"DataRange1d\"},{\"attributes\":{\"dimension\":1,\"plot\":{\"id\":\"3495e024-578a-4d3b-abcc-f95221c16aa6\",\"subtype\":\"Figure\",\"type\":\"Plot\"},\"ticker\":{\"id\":\"7e66a8c5-8d23-4457-a35c-9108703e5577\",\"type\":\"BasicTicker\"}},\"id\":\"387a182b-1160-4793-b7d4-f2ca71b1b429\",\"type\":\"Grid\"},{\"attributes\":{},\"id\":\"e5ac35ea-3943-4258-a1ff-2e690fa2195a\",\"type\":\"LinearScale\"},{\"attributes\":{\"plot\":null,\"text\":\"Clustering Music Artists Based on Lyrics\"},\"id\":\"7042a0c1-0266-4bee-bb33-a64aaed062ce\",\"type\":\"Title\"},{\"attributes\":{\"overlay\":{\"id\":\"68028f15-7d8b-4033-a7b2-899d961cd053\",\"type\":\"BoxAnnotation\"}},\"id\":\"dff26fef-6bdf-4326-915a-2ead061bf7bf\",\"type\":\"BoxZoomTool\"},{\"attributes\":{},\"id\":\"7e66a8c5-8d23-4457-a35c-9108703e5577\",\"type\":\"BasicTicker\"},{\"attributes\":{\"callback\":null,\"tooltips\":[[\"Cluster\",\"@label\"]]},\"id\":\"137711c2-c663-415d-9f1e-ac3405e54bd5\",\"type\":\"HoverTool\"},{\"attributes\":{\"plot\":{\"id\":\"3495e024-578a-4d3b-abcc-f95221c16aa6\",\"subtype\":\"Figure\",\"type\":\"Plot\"},\"ticker\":{\"id\":\"0b52091d-7a6a-48c0-959c-4bccab5828bd\",\"type\":\"BasicTicker\"}},\"id\":\"cbdf21d0-b9d7-4195-ad7a-7dbad4df0ee7\",\"type\":\"Grid\"},{\"attributes\":{\"bottom_units\":\"screen\",\"fill_alpha\":{\"value\":0.5},\"fill_color\":{\"value\":\"lightgrey\"},\"left_units\":\"screen\",\"level\":\"overlay\",\"line_alpha\":{\"value\":1.0},\"line_color\":{\"value\":\"black\"},\"line_dash\":[4,4],\"line_width\":{\"value\":2},\"plot\":null,\"render_mode\":\"css\",\"right_units\":\"screen\",\"top_units\":\"screen\"},\"id\":\"68028f15-7d8b-4033-a7b2-899d961cd053\",\"type\":\"BoxAnnotation\"},{\"attributes\":{},\"id\":\"d9023d1b-d9e9-4703-a79e-ecad9f86922c\",\"type\":\"SaveTool\"},{\"attributes\":{\"data_source\":{\"id\":\"758c2579-788e-4bfb-9d29-c097d8e9157c\",\"type\":\"ColumnDataSource\"},\"glyph\":{\"id\":\"317445ea-3ce6-4ab0-a157-4f668315ff49\",\"type\":\"Circle\"},\"hover_glyph\":null,\"muted_glyph\":null,\"nonselection_glyph\":{\"id\":\"3c03ff87-b086-476a-986a-71950ebfcac8\",\"type\":\"Circle\"},\"selection_glyph\":null,\"view\":{\"id\":\"67f49316-9b90-48a8-b184-9352a7795213\",\"type\":\"CDSView\"}},\"id\":\"653a8764-cc73-46da-8e99-ee8491835857\",\"type\":\"GlyphRenderer\"},{\"attributes\":{\"active_drag\":\"auto\",\"active_inspect\":\"auto\",\"active_scroll\":\"auto\",\"active_tap\":\"auto\",\"tools\":[{\"id\":\"137711c2-c663-415d-9f1e-ac3405e54bd5\",\"type\":\"HoverTool\"},{\"id\":\"5f7d78c7-03b1-40ce-862b-3c8d78060e5e\",\"type\":\"LassoSelectTool\"},{\"id\":\"625168df-b58f-4dd1-bddd-aec63a628022\",\"type\":\"PanTool\"},{\"id\":\"24460109-a7e2-451c-9567-342ad35d14a8\",\"type\":\"WheelZoomTool\"},{\"id\":\"dff26fef-6bdf-4326-915a-2ead061bf7bf\",\"type\":\"BoxZoomTool\"},{\"id\":\"42e5c11e-eb14-403f-80ba-b499fe639fa0\",\"type\":\"ResetTool\"},{\"id\":\"d9023d1b-d9e9-4703-a79e-ecad9f86922c\",\"type\":\"SaveTool\"}]},\"id\":\"4e90341d-7d19-44a6-b315-853edc3ff471\",\"type\":\"Toolbar\"},{\"attributes\":{},\"id\":\"c0cb6e13-8649-43df-a332-73f106c0d574\",\"type\":\"BasicTickFormatter\"},{\"attributes\":{},\"id\":\"0b52091d-7a6a-48c0-959c-4bccab5828bd\",\"type\":\"BasicTicker\"},{\"attributes\":{},\"id\":\"42e5c11e-eb14-403f-80ba-b499fe639fa0\",\"type\":\"ResetTool\"},{\"attributes\":{\"below\":[{\"id\":\"e4450173-4747-40a5-bb8a-a26176229cd5\",\"type\":\"LinearAxis\"}],\"left\":[{\"id\":\"62fdedef-20d2-41f7-ad32-41fd9ae0e346\",\"type\":\"LinearAxis\"}],\"renderers\":[{\"id\":\"e4450173-4747-40a5-bb8a-a26176229cd5\",\"type\":\"LinearAxis\"},{\"id\":\"cbdf21d0-b9d7-4195-ad7a-7dbad4df0ee7\",\"type\":\"Grid\"},{\"id\":\"62fdedef-20d2-41f7-ad32-41fd9ae0e346\",\"type\":\"LinearAxis\"},{\"id\":\"387a182b-1160-4793-b7d4-f2ca71b1b429\",\"type\":\"Grid\"},{\"id\":\"3e4fa353-5e56-4961-b4f5-f3a0f02b6580\",\"type\":\"PolyAnnotation\"},{\"id\":\"68028f15-7d8b-4033-a7b2-899d961cd053\",\"type\":\"BoxAnnotation\"},{\"id\":\"653a8764-cc73-46da-8e99-ee8491835857\",\"type\":\"GlyphRenderer\"},{\"id\":\"d6d6a732-7dce-453c-b48a-6a3f8ef03831\",\"type\":\"LabelSet\"}],\"title\":{\"id\":\"7042a0c1-0266-4bee-bb33-a64aaed062ce\",\"type\":\"Title\"},\"toolbar\":{\"id\":\"4e90341d-7d19-44a6-b315-853edc3ff471\",\"type\":\"Toolbar\"},\"x_range\":{\"id\":\"44ee800b-4762-4811-91b1-20267e8382ce\",\"type\":\"DataRange1d\"},\"x_scale\":{\"id\":\"5bf759da-8b83-481d-ae8d-c54451fd9a9f\",\"type\":\"LinearScale\"},\"y_range\":{\"id\":\"0a139cec-3512-4cb2-a7ef-00aa7d03c603\",\"type\":\"DataRange1d\"},\"y_scale\":{\"id\":\"e5ac35ea-3943-4258-a1ff-2e690fa2195a\",\"type\":\"LinearScale\"}},\"id\":\"3495e024-578a-4d3b-abcc-f95221c16aa6\",\"subtype\":\"Figure\",\"type\":\"Plot\"},{\"attributes\":{},\"id\":\"24460109-a7e2-451c-9567-342ad35d14a8\",\"type\":\"WheelZoomTool\"},{\"attributes\":{\"fill_alpha\":{\"value\":0.1},\"fill_color\":{\"value\":\"#1f77b4\"},\"line_alpha\":{\"value\":0.1},\"line_color\":{\"value\":\"#1f77b4\"},\"x\":{\"field\":\"x\"},\"y\":{\"field\":\"y\"}},\"id\":\"3c03ff87-b086-476a-986a-71950ebfcac8\",\"type\":\"Circle\"},{\"attributes\":{\"callback\":null,\"overlay\":{\"id\":\"3e4fa353-5e56-4961-b4f5-f3a0f02b6580\",\"type\":\"PolyAnnotation\"}},\"id\":\"5f7d78c7-03b1-40ce-862b-3c8d78060e5e\",\"type\":\"LassoSelectTool\"},{\"attributes\":{\"source\":{\"id\":\"758c2579-788e-4bfb-9d29-c097d8e9157c\",\"type\":\"ColumnDataSource\"}},\"id\":\"67f49316-9b90-48a8-b184-9352a7795213\",\"type\":\"CDSView\"},{\"attributes\":{\"fill_alpha\":{\"value\":0.6},\"fill_color\":{\"value\":\"#8724B5\"},\"line_color\":{\"value\":null},\"x\":{\"field\":\"x\"},\"y\":{\"field\":\"y\"}},\"id\":\"317445ea-3ce6-4ab0-a157-4f668315ff49\",\"type\":\"Circle\"},{\"attributes\":{},\"id\":\"45760077-334f-458e-bed8-297870e19d37\",\"type\":\"BasicTickFormatter\"},{\"attributes\":{\"plot\":{\"id\":\"3495e024-578a-4d3b-abcc-f95221c16aa6\",\"subtype\":\"Figure\",\"type\":\"Plot\"},\"source\":{\"id\":\"758c2579-788e-4bfb-9d29-c097d8e9157c\",\"type\":\"ColumnDataSource\"},\"text\":{\"field\":\"artist\"},\"text_align\":\"center\",\"text_color\":{\"field\":\"color\"},\"text_font_size\":{\"value\":\"6pt\"},\"x\":{\"field\":\"x\"},\"y\":{\"field\":\"y\"},\"y_offset\":{\"value\":8}},\"id\":\"d6d6a732-7dce-453c-b48a-6a3f8ef03831\",\"type\":\"LabelSet\"}],\"root_ids\":[\"3495e024-578a-4d3b-abcc-f95221c16aa6\"]},\"title\":\"Bokeh Application\",\"version\":\"0.12.7\"}};\n",
       "            var render_items = [{\"docid\":\"32a3f2aa-ffa5-4ed8-b68c-909713189378\",\"elementid\":\"0d739966-ec0f-41d5-bc05-4b406c6ba5b7\",\"modelid\":\"3495e024-578a-4d3b-abcc-f95221c16aa6\"}];\n",
       "            \n",
       "            Bokeh.embed.embed_items(docs_json, render_items);\n",
       "          };\n",
       "          if (document.readyState != \"loading\") fn();\n",
       "          else document.addEventListener(\"DOMContentLoaded\", fn);\n",
       "        })();\n",
       "      },\n",
       "      function(Bokeh) {\n",
       "      }\n",
       "    ];\n",
       "  \n",
       "    function run_inline_js() {\n",
       "      \n",
       "      if ((root.Bokeh !== undefined) || (force === true)) {\n",
       "        for (var i = 0; i < inline_js.length; i++) {\n",
       "          inline_js[i].call(root, root.Bokeh);\n",
       "        }if (force === true) {\n",
       "          display_loaded();\n",
       "        }} else if (Date.now() < root._bokeh_timeout) {\n",
       "        setTimeout(run_inline_js, 100);\n",
       "      } else if (!root._bokeh_failed_load) {\n",
       "        console.log(\"Bokeh: BokehJS failed to load within specified timeout.\");\n",
       "        root._bokeh_failed_load = true;\n",
       "      } else if (force !== true) {\n",
       "        var cell = $(document.getElementById(\"0d739966-ec0f-41d5-bc05-4b406c6ba5b7\")).parents('.cell').data().cell;\n",
       "        cell.output_area.append_execute_result(NB_LOAD_WARNING)\n",
       "      }\n",
       "  \n",
       "    }\n",
       "  \n",
       "    if (root._bokeh_is_loading === 0) {\n",
       "      console.log(\"Bokeh: BokehJS loaded, going straight to plotting\");\n",
       "      run_inline_js();\n",
       "    } else {\n",
       "      load_libs(js_urls, function() {\n",
       "        console.log(\"Bokeh: BokehJS plotting callback run at\", now());\n",
       "        run_inline_js();\n",
       "      });\n",
       "    }\n",
       "  }(window));\n",
       "</script>"
      ]
     },
     "metadata": {},
     "output_type": "display_data"
    },
    {
     "name": "stderr",
     "output_type": "stream",
     "text": [
      "E-1010 (CDSVIEW_SOURCE_DOESNT_MATCH): CDSView used by Glyph renderer must have a source that matches the Glyph renderer's data source: GlyphRenderer(id='32a1249e-8b95-49bf-8f81-09648fe59e1a', ...)\n",
      "E-1010 (CDSVIEW_SOURCE_DOESNT_MATCH): CDSView used by Glyph renderer must have a source that matches the Glyph renderer's data source: GlyphRenderer(id='3f6f3386-5e8f-4153-b012-629833002c07', ...)\n",
      "E-1010 (CDSVIEW_SOURCE_DOESNT_MATCH): CDSView used by Glyph renderer must have a source that matches the Glyph renderer's data source: GlyphRenderer(id='6b72a981-97dd-4f65-9f92-51abed943fd0', ...)\n",
      "E-1010 (CDSVIEW_SOURCE_DOESNT_MATCH): CDSView used by Glyph renderer must have a source that matches the Glyph renderer's data source: GlyphRenderer(id='7aa9ae67-656a-46e2-a7b9-ca941776c34a', ...)\n",
      "E-1010 (CDSVIEW_SOURCE_DOESNT_MATCH): CDSView used by Glyph renderer must have a source that matches the Glyph renderer's data source: GlyphRenderer(id='b577c7bf-ab50-4e37-841f-1e5f4a05eef4', ...)\n"
     ]
    }
   ],
   "source": [
    "show(p)"
   ]
  },
  {
   "cell_type": "code",
   "execution_count": 525,
   "metadata": {},
   "outputs": [
    {
     "data": {
      "text/plain": [
       "6    164\n",
       "3    120\n",
       "1     88\n",
       "5     54\n",
       "8     17\n",
       "9     10\n",
       "4     10\n",
       "2      7\n",
       "0      5\n",
       "7      3\n",
       "Name: label, dtype: int64"
      ]
     },
     "execution_count": 525,
     "metadata": {},
     "output_type": "execute_result"
    }
   ],
   "source": [
    "counts = df['label'].value_counts()\n",
    "counts"
   ]
  },
  {
   "cell_type": "code",
   "execution_count": 526,
   "metadata": {
    "collapsed": true
   },
   "outputs": [],
   "source": [
    "counts = list(counts.values)"
   ]
  },
  {
   "cell_type": "code",
   "execution_count": 527,
   "metadata": {},
   "outputs": [
    {
     "data": {
      "text/html": [
       "\n",
       "\n",
       "    <div class=\"bk-root\">\n",
       "        <div class=\"bk-plotdiv\" id=\"5d40bf78-264c-4f3a-80d5-6388abc355d1\"></div>\n",
       "    </div>\n",
       "<script type=\"text/javascript\">\n",
       "  \n",
       "  (function(root) {\n",
       "    function now() {\n",
       "      return new Date();\n",
       "    }\n",
       "  \n",
       "    var force = false;\n",
       "  \n",
       "    if (typeof (root._bokeh_onload_callbacks) === \"undefined\" || force === true) {\n",
       "      root._bokeh_onload_callbacks = [];\n",
       "      root._bokeh_is_loading = undefined;\n",
       "    }\n",
       "  \n",
       "  \n",
       "    \n",
       "    if (typeof (root._bokeh_timeout) === \"undefined\" || force === true) {\n",
       "      root._bokeh_timeout = Date.now() + 0;\n",
       "      root._bokeh_failed_load = false;\n",
       "    }\n",
       "  \n",
       "    var NB_LOAD_WARNING = {'data': {'text/html':\n",
       "       \"<div style='background-color: #fdd'>\\n\"+\n",
       "       \"<p>\\n\"+\n",
       "       \"BokehJS does not appear to have successfully loaded. If loading BokehJS from CDN, this \\n\"+\n",
       "       \"may be due to a slow or bad network connection. Possible fixes:\\n\"+\n",
       "       \"</p>\\n\"+\n",
       "       \"<ul>\\n\"+\n",
       "       \"<li>re-rerun `output_notebook()` to attempt to load from CDN again, or</li>\\n\"+\n",
       "       \"<li>use INLINE resources instead, as so:</li>\\n\"+\n",
       "       \"</ul>\\n\"+\n",
       "       \"<code>\\n\"+\n",
       "       \"from bokeh.resources import INLINE\\n\"+\n",
       "       \"output_notebook(resources=INLINE)\\n\"+\n",
       "       \"</code>\\n\"+\n",
       "       \"</div>\"}};\n",
       "  \n",
       "    function display_loaded() {\n",
       "      if (root.Bokeh !== undefined) {\n",
       "        var el = document.getElementById(\"5d40bf78-264c-4f3a-80d5-6388abc355d1\");\n",
       "        if (el != null) {\n",
       "          el.textContent = \"BokehJS \" + Bokeh.version + \" successfully loaded.\";\n",
       "        }\n",
       "      } else if (Date.now() < root._bokeh_timeout) {\n",
       "        setTimeout(display_loaded, 100)\n",
       "      }\n",
       "    }\n",
       "  \n",
       "  \n",
       "    function run_callbacks() {\n",
       "      try {\n",
       "        root._bokeh_onload_callbacks.forEach(function(callback) { callback() });\n",
       "      }\n",
       "      finally {\n",
       "        delete root._bokeh_onload_callbacks\n",
       "      }\n",
       "      console.info(\"Bokeh: all callbacks have finished\");\n",
       "    }\n",
       "  \n",
       "    function load_libs(js_urls, callback) {\n",
       "      root._bokeh_onload_callbacks.push(callback);\n",
       "      if (root._bokeh_is_loading > 0) {\n",
       "        console.log(\"Bokeh: BokehJS is being loaded, scheduling callback at\", now());\n",
       "        return null;\n",
       "      }\n",
       "      if (js_urls == null || js_urls.length === 0) {\n",
       "        run_callbacks();\n",
       "        return null;\n",
       "      }\n",
       "      console.log(\"Bokeh: BokehJS not loaded, scheduling load and callback at\", now());\n",
       "      root._bokeh_is_loading = js_urls.length;\n",
       "      for (var i = 0; i < js_urls.length; i++) {\n",
       "        var url = js_urls[i];\n",
       "        var s = document.createElement('script');\n",
       "        s.src = url;\n",
       "        s.async = false;\n",
       "        s.onreadystatechange = s.onload = function() {\n",
       "          root._bokeh_is_loading--;\n",
       "          if (root._bokeh_is_loading === 0) {\n",
       "            console.log(\"Bokeh: all BokehJS libraries loaded\");\n",
       "            run_callbacks()\n",
       "          }\n",
       "        };\n",
       "        s.onerror = function() {\n",
       "          console.warn(\"failed to load library \" + url);\n",
       "        };\n",
       "        console.log(\"Bokeh: injecting script tag for BokehJS library: \", url);\n",
       "        document.getElementsByTagName(\"head\")[0].appendChild(s);\n",
       "      }\n",
       "    };var element = document.getElementById(\"5d40bf78-264c-4f3a-80d5-6388abc355d1\");\n",
       "    if (element == null) {\n",
       "      console.log(\"Bokeh: ERROR: autoload.js configured with elementid '5d40bf78-264c-4f3a-80d5-6388abc355d1' but no matching script tag was found. \")\n",
       "      return false;\n",
       "    }\n",
       "  \n",
       "    var js_urls = [];\n",
       "  \n",
       "    var inline_js = [\n",
       "      function(Bokeh) {\n",
       "        (function() {\n",
       "          var fn = function() {\n",
       "            var docs_json = {\"e722a64a-c2f9-419d-b2d0-8a0b141b9167\":{\"roots\":{\"references\":[{\"attributes\":{},\"id\":\"d16ddc46-4b00-47bd-9793-c6269b6c797e\",\"type\":\"BasicTickFormatter\"},{\"attributes\":{\"callback\":null,\"column_names\":[\"x\",\"top\"],\"data\":{\"top\":[28,6,72,14,9,7,34,2,2,26],\"x\":[\"0\",\"1\",\"2\",\"3\",\"4\",\"5\",\"6\",\"7\",\"8\",\"9\"]}},\"id\":\"061c7205-7192-4bcf-89b9-dc82a199097b\",\"type\":\"ColumnDataSource\"},{\"attributes\":{\"callback\":null,\"factors\":[\"0\",\"1\",\"2\",\"3\",\"4\",\"5\",\"6\",\"7\",\"8\",\"9\"]},\"id\":\"a1338e53-1f11-4364-8a9a-e5fe08578bba\",\"type\":\"FactorRange\"},{\"attributes\":{},\"id\":\"84b19ad8-0c27-470a-b186-3062e8a4bd84\",\"type\":\"CategoricalTickFormatter\"},{\"attributes\":{\"axis_label\":\"Number of Artists\",\"formatter\":{\"id\":\"d16ddc46-4b00-47bd-9793-c6269b6c797e\",\"type\":\"BasicTickFormatter\"},\"plot\":{\"id\":\"03549626-52a6-47cb-b8e2-e53fbcfcf68f\",\"subtype\":\"Figure\",\"type\":\"Plot\"},\"ticker\":{\"id\":\"7465103e-847c-46a7-bd07-fab6c8e1c078\",\"type\":\"BasicTicker\"}},\"id\":\"ac268e75-e777-4128-ae3f-f5b58e85f707\",\"type\":\"LinearAxis\"},{\"attributes\":{\"fill_color\":{\"value\":\"#1f77b4\"},\"line_color\":{\"value\":\"#1f77b4\"},\"top\":{\"field\":\"top\"},\"width\":{\"value\":0.9},\"x\":{\"field\":\"x\"}},\"id\":\"ce6cedce-7e7a-418e-91a5-418eab2eb626\",\"type\":\"VBar\"},{\"attributes\":{\"plot\":null,\"text\":\"Number of artists in each cluster\"},\"id\":\"3f248293-708c-4938-be8c-99e585f5d25a\",\"type\":\"Title\"},{\"attributes\":{},\"id\":\"ffe48500-7ede-4742-a5f4-b4f72adafeda\",\"type\":\"CategoricalScale\"},{\"attributes\":{\"bottom_units\":\"screen\",\"fill_alpha\":{\"value\":0.5},\"fill_color\":{\"value\":\"lightgrey\"},\"left_units\":\"screen\",\"level\":\"overlay\",\"line_alpha\":{\"value\":1.0},\"line_color\":{\"value\":\"black\"},\"line_dash\":[4,4],\"line_width\":{\"value\":2},\"plot\":null,\"render_mode\":\"css\",\"right_units\":\"screen\",\"top_units\":\"screen\"},\"id\":\"15009864-4e22-4904-ad77-7aeeae14e0a5\",\"type\":\"BoxAnnotation\"},{\"attributes\":{\"active_drag\":\"auto\",\"active_inspect\":\"auto\",\"active_scroll\":\"auto\",\"active_tap\":\"auto\",\"tools\":[{\"id\":\"b8961185-3c07-4112-83b8-728cf118349d\",\"type\":\"PanTool\"},{\"id\":\"512dca7c-3301-403b-a0f5-fa47006e6e45\",\"type\":\"WheelZoomTool\"},{\"id\":\"e4347229-5add-40d7-8660-f6927db67752\",\"type\":\"BoxZoomTool\"},{\"id\":\"e5dd3157-dbb2-4877-900e-e3a3c5a5f5f5\",\"type\":\"SaveTool\"},{\"id\":\"35d36c1e-8b03-4ee2-80a5-83b2db919777\",\"type\":\"ResetTool\"},{\"id\":\"511b448a-52b2-4c59-a785-169974dfd84e\",\"type\":\"HelpTool\"}]},\"id\":\"259b9c5e-3eb2-4deb-899b-2c2d23ede70a\",\"type\":\"Toolbar\"},{\"attributes\":{\"data_source\":{\"id\":\"061c7205-7192-4bcf-89b9-dc82a199097b\",\"type\":\"ColumnDataSource\"},\"glyph\":{\"id\":\"ce6cedce-7e7a-418e-91a5-418eab2eb626\",\"type\":\"VBar\"},\"hover_glyph\":null,\"muted_glyph\":null,\"nonselection_glyph\":{\"id\":\"a506cebc-32f3-4a6b-8455-9c6e482b4f2c\",\"type\":\"VBar\"},\"selection_glyph\":null,\"view\":{\"id\":\"ee52fefa-d505-46a8-a7a9-55d74ce18d2a\",\"type\":\"CDSView\"}},\"id\":\"9de37b08-3384-4c8c-a6bd-80bf38e17fc0\",\"type\":\"GlyphRenderer\"},{\"attributes\":{},\"id\":\"b8961185-3c07-4112-83b8-728cf118349d\",\"type\":\"PanTool\"},{\"attributes\":{\"overlay\":{\"id\":\"15009864-4e22-4904-ad77-7aeeae14e0a5\",\"type\":\"BoxAnnotation\"}},\"id\":\"e4347229-5add-40d7-8660-f6927db67752\",\"type\":\"BoxZoomTool\"},{\"attributes\":{\"callback\":null,\"start\":0},\"id\":\"f30dc111-1c33-4d23-b6e1-8ecda6b471c1\",\"type\":\"DataRange1d\"},{\"attributes\":{},\"id\":\"512dca7c-3301-403b-a0f5-fa47006e6e45\",\"type\":\"WheelZoomTool\"},{\"attributes\":{\"axis_label\":\"Cluster ID\",\"formatter\":{\"id\":\"84b19ad8-0c27-470a-b186-3062e8a4bd84\",\"type\":\"CategoricalTickFormatter\"},\"plot\":{\"id\":\"03549626-52a6-47cb-b8e2-e53fbcfcf68f\",\"subtype\":\"Figure\",\"type\":\"Plot\"},\"ticker\":{\"id\":\"5a1c2c7f-0a70-46db-961c-cd7ef9ac2c69\",\"type\":\"CategoricalTicker\"}},\"id\":\"68caf712-dcb6-4d14-83bb-9e14adc304fc\",\"type\":\"CategoricalAxis\"},{\"attributes\":{},\"id\":\"e5dd3157-dbb2-4877-900e-e3a3c5a5f5f5\",\"type\":\"SaveTool\"},{\"attributes\":{\"fill_alpha\":{\"value\":0.1},\"fill_color\":{\"value\":\"#1f77b4\"},\"line_alpha\":{\"value\":0.1},\"line_color\":{\"value\":\"#1f77b4\"},\"top\":{\"field\":\"top\"},\"width\":{\"value\":0.9},\"x\":{\"field\":\"x\"}},\"id\":\"a506cebc-32f3-4a6b-8455-9c6e482b4f2c\",\"type\":\"VBar\"},{\"attributes\":{},\"id\":\"e59496e6-55bd-4bd1-981e-c9fecf5dabdc\",\"type\":\"LinearScale\"},{\"attributes\":{},\"id\":\"35d36c1e-8b03-4ee2-80a5-83b2db919777\",\"type\":\"ResetTool\"},{\"attributes\":{\"source\":{\"id\":\"061c7205-7192-4bcf-89b9-dc82a199097b\",\"type\":\"ColumnDataSource\"}},\"id\":\"ee52fefa-d505-46a8-a7a9-55d74ce18d2a\",\"type\":\"CDSView\"},{\"attributes\":{},\"id\":\"511b448a-52b2-4c59-a785-169974dfd84e\",\"type\":\"HelpTool\"},{\"attributes\":{},\"id\":\"5a1c2c7f-0a70-46db-961c-cd7ef9ac2c69\",\"type\":\"CategoricalTicker\"},{\"attributes\":{},\"id\":\"7465103e-847c-46a7-bd07-fab6c8e1c078\",\"type\":\"BasicTicker\"},{\"attributes\":{\"grid_line_color\":{\"value\":null},\"plot\":{\"id\":\"03549626-52a6-47cb-b8e2-e53fbcfcf68f\",\"subtype\":\"Figure\",\"type\":\"Plot\"},\"ticker\":{\"id\":\"5a1c2c7f-0a70-46db-961c-cd7ef9ac2c69\",\"type\":\"CategoricalTicker\"}},\"id\":\"c25df16b-22eb-437a-90f2-aa6cfdd804fc\",\"type\":\"Grid\"},{\"attributes\":{\"dimension\":1,\"plot\":{\"id\":\"03549626-52a6-47cb-b8e2-e53fbcfcf68f\",\"subtype\":\"Figure\",\"type\":\"Plot\"},\"ticker\":{\"id\":\"7465103e-847c-46a7-bd07-fab6c8e1c078\",\"type\":\"BasicTicker\"}},\"id\":\"d0e61923-fee1-40d6-b2a1-54af8263a79d\",\"type\":\"Grid\"},{\"attributes\":{\"below\":[{\"id\":\"68caf712-dcb6-4d14-83bb-9e14adc304fc\",\"type\":\"CategoricalAxis\"}],\"left\":[{\"id\":\"ac268e75-e777-4128-ae3f-f5b58e85f707\",\"type\":\"LinearAxis\"}],\"plot_height\":500,\"renderers\":[{\"id\":\"68caf712-dcb6-4d14-83bb-9e14adc304fc\",\"type\":\"CategoricalAxis\"},{\"id\":\"c25df16b-22eb-437a-90f2-aa6cfdd804fc\",\"type\":\"Grid\"},{\"id\":\"ac268e75-e777-4128-ae3f-f5b58e85f707\",\"type\":\"LinearAxis\"},{\"id\":\"d0e61923-fee1-40d6-b2a1-54af8263a79d\",\"type\":\"Grid\"},{\"id\":\"15009864-4e22-4904-ad77-7aeeae14e0a5\",\"type\":\"BoxAnnotation\"},{\"id\":\"9de37b08-3384-4c8c-a6bd-80bf38e17fc0\",\"type\":\"GlyphRenderer\"}],\"title\":{\"id\":\"3f248293-708c-4938-be8c-99e585f5d25a\",\"type\":\"Title\"},\"toolbar\":{\"id\":\"259b9c5e-3eb2-4deb-899b-2c2d23ede70a\",\"type\":\"Toolbar\"},\"x_range\":{\"id\":\"a1338e53-1f11-4364-8a9a-e5fe08578bba\",\"type\":\"FactorRange\"},\"x_scale\":{\"id\":\"ffe48500-7ede-4742-a5f4-b4f72adafeda\",\"type\":\"CategoricalScale\"},\"y_range\":{\"id\":\"f30dc111-1c33-4d23-b6e1-8ecda6b471c1\",\"type\":\"DataRange1d\"},\"y_scale\":{\"id\":\"e59496e6-55bd-4bd1-981e-c9fecf5dabdc\",\"type\":\"LinearScale\"}},\"id\":\"03549626-52a6-47cb-b8e2-e53fbcfcf68f\",\"subtype\":\"Figure\",\"type\":\"Plot\"}],\"root_ids\":[\"03549626-52a6-47cb-b8e2-e53fbcfcf68f\"]},\"title\":\"Bokeh Application\",\"version\":\"0.12.7\"}};\n",
       "            var render_items = [{\"docid\":\"e722a64a-c2f9-419d-b2d0-8a0b141b9167\",\"elementid\":\"5d40bf78-264c-4f3a-80d5-6388abc355d1\",\"modelid\":\"03549626-52a6-47cb-b8e2-e53fbcfcf68f\"}];\n",
       "            \n",
       "            Bokeh.embed.embed_items(docs_json, render_items);\n",
       "          };\n",
       "          if (document.readyState != \"loading\") fn();\n",
       "          else document.addEventListener(\"DOMContentLoaded\", fn);\n",
       "        })();\n",
       "      },\n",
       "      function(Bokeh) {\n",
       "      }\n",
       "    ];\n",
       "  \n",
       "    function run_inline_js() {\n",
       "      \n",
       "      if ((root.Bokeh !== undefined) || (force === true)) {\n",
       "        for (var i = 0; i < inline_js.length; i++) {\n",
       "          inline_js[i].call(root, root.Bokeh);\n",
       "        }if (force === true) {\n",
       "          display_loaded();\n",
       "        }} else if (Date.now() < root._bokeh_timeout) {\n",
       "        setTimeout(run_inline_js, 100);\n",
       "      } else if (!root._bokeh_failed_load) {\n",
       "        console.log(\"Bokeh: BokehJS failed to load within specified timeout.\");\n",
       "        root._bokeh_failed_load = true;\n",
       "      } else if (force !== true) {\n",
       "        var cell = $(document.getElementById(\"5d40bf78-264c-4f3a-80d5-6388abc355d1\")).parents('.cell').data().cell;\n",
       "        cell.output_area.append_execute_result(NB_LOAD_WARNING)\n",
       "      }\n",
       "  \n",
       "    }\n",
       "  \n",
       "    if (root._bokeh_is_loading === 0) {\n",
       "      console.log(\"Bokeh: BokehJS loaded, going straight to plotting\");\n",
       "      run_inline_js();\n",
       "    } else {\n",
       "      load_libs(js_urls, function() {\n",
       "        console.log(\"Bokeh: BokehJS plotting callback run at\", now());\n",
       "        run_inline_js();\n",
       "      });\n",
       "    }\n",
       "  }(window));\n",
       "</script>"
      ]
     },
     "metadata": {},
     "output_type": "display_data"
    },
    {
     "name": "stderr",
     "output_type": "stream",
     "text": [
      "E-1010 (CDSVIEW_SOURCE_DOESNT_MATCH): CDSView used by Glyph renderer must have a source that matches the Glyph renderer's data source: GlyphRenderer(id='32a1249e-8b95-49bf-8f81-09648fe59e1a', ...)\n",
      "E-1010 (CDSVIEW_SOURCE_DOESNT_MATCH): CDSView used by Glyph renderer must have a source that matches the Glyph renderer's data source: GlyphRenderer(id='3f6f3386-5e8f-4153-b012-629833002c07', ...)\n",
      "E-1010 (CDSVIEW_SOURCE_DOESNT_MATCH): CDSView used by Glyph renderer must have a source that matches the Glyph renderer's data source: GlyphRenderer(id='6b72a981-97dd-4f65-9f92-51abed943fd0', ...)\n",
      "E-1010 (CDSVIEW_SOURCE_DOESNT_MATCH): CDSView used by Glyph renderer must have a source that matches the Glyph renderer's data source: GlyphRenderer(id='7aa9ae67-656a-46e2-a7b9-ca941776c34a', ...)\n",
      "E-1010 (CDSVIEW_SOURCE_DOESNT_MATCH): CDSView used by Glyph renderer must have a source that matches the Glyph renderer's data source: GlyphRenderer(id='b577c7bf-ab50-4e37-841f-1e5f4a05eef4', ...)\n"
     ]
    }
   ],
   "source": [
    "from bokeh.io import show, output_file\n",
    "from bokeh.plotting import figure\n",
    "\n",
    "clusters = ['0','1','2','3','4','5','6','7','8','9']\n",
    "\n",
    "p = figure(x_range=clusters, plot_height=500, title=\"Number of artists in each cluster\")\n",
    "p.vbar(x=clusters, top=[28,6,72,14,9,7,34,2,2,26], width=0.9)\n",
    "\n",
    "p.xgrid.grid_line_color = None\n",
    "p.y_range.start = 0\n",
    "p.xaxis.axis_label = \"Cluster ID\"\n",
    "p.yaxis.axis_label = \"Number of Artists\"\n",
    "\n",
    "show(p)"
   ]
  }
 ],
 "metadata": {
  "kernelspec": {
   "display_name": "Python 3",
   "language": "python",
   "name": "python3"
  },
  "language_info": {
   "codemirror_mode": {
    "name": "ipython",
    "version": 3
   },
   "file_extension": ".py",
   "mimetype": "text/x-python",
   "name": "python",
   "nbconvert_exporter": "python",
   "pygments_lexer": "ipython3",
   "version": "3.6.1"
  }
 },
 "nbformat": 4,
 "nbformat_minor": 2
}
