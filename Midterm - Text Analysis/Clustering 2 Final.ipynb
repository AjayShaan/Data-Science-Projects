{
 "cells": [
  {
   "cell_type": "markdown",
   "metadata": {},
   "source": [
    "# Clustering analysis - Part 2:\n",
    "\n",
    "\n",
    "In this notebook, we extend our clustering to genres, grouping them based on their words and lyrical structure.\n",
    "\n",
    "\n",
    "## Inferences:\n",
    "\n",
    "#### Clusters for genre were as follows \n",
    "\n",
    "\n",
    "Cluster 4 words: b'holy', b'holy', b'think', b'country', b'belong', b'wherever', b'belong', b'always', b'e', b'ways',\n",
    "\n",
    "Cluster 4 genres: Country,\n",
    "\n",
    "Country songs depict religion and a sense of rustic belongingness.\n",
    "\n",
    "\n",
    "Cluster 1 words: b'wi', b'glen', b'tm', b'lad', b'na', b'aye', b'ye', b'sae', b'weavers', b'neer',\n",
    "\n",
    "Cluster 1 genres: Folk\n",
    "\n",
    "Folk songs depict usage of old-fashioned English words like 'aye' and 'lad'.\n",
    "\n"
   ]
  },
  {
   "cell_type": "code",
   "execution_count": 130,
   "metadata": {
    "collapsed": true
   },
   "outputs": [],
   "source": [
    "import numpy as np\n",
    "import pandas as pd\n",
    "import nltk\n",
    "from nltk.stem.snowball import SnowballStemmer\n",
    "from bs4 import BeautifulSoup\n",
    "import re\n",
    "import os\n",
    "import codecs\n",
    "from sklearn import feature_extraction"
   ]
  },
  {
   "cell_type": "code",
   "execution_count": 131,
   "metadata": {},
   "outputs": [
    {
     "name": "stderr",
     "output_type": "stream",
     "text": [
      "D:\\Anaconda\\lib\\site-packages\\IPython\\core\\interactiveshell.py:2698: DtypeWarning: Columns (0,1,2,3,4,5) have mixed types. Specify dtype option on import or set low_memory=False.\n",
      "  interactivity=interactivity, compiler=compiler, result=result)\n"
     ]
    },
    {
     "data": {
      "text/plain": [
       "(356467, 6)"
      ]
     },
     "execution_count": 131,
     "metadata": {},
     "output_type": "execute_result"
    }
   ],
   "source": [
    "##Importing data and dropping unnecessary columns\n",
    "\n",
    "data = pd.read_csv('lyrics.csv')\n",
    "data.head(10)\n",
    "data.shape"
   ]
  },
  {
   "cell_type": "code",
   "execution_count": 132,
   "metadata": {
    "collapsed": true
   },
   "outputs": [],
   "source": [
    "data = data.dropna()"
   ]
  },
  {
   "cell_type": "code",
   "execution_count": 133,
   "metadata": {
    "collapsed": true
   },
   "outputs": [],
   "source": [
    "data = data.iloc[:10000]"
   ]
  },
  {
   "cell_type": "code",
   "execution_count": 134,
   "metadata": {
    "collapsed": true
   },
   "outputs": [],
   "source": [
    "data = data.drop('index',axis=1)"
   ]
  },
  {
   "cell_type": "code",
   "execution_count": 135,
   "metadata": {
    "collapsed": true
   },
   "outputs": [],
   "source": [
    "data = data.drop('year',axis=1)"
   ]
  },
  {
   "cell_type": "code",
   "execution_count": 136,
   "metadata": {
    "collapsed": true
   },
   "outputs": [],
   "source": [
    "data = data.drop('artist',axis=1)"
   ]
  },
  {
   "cell_type": "code",
   "execution_count": 137,
   "metadata": {
    "collapsed": true
   },
   "outputs": [],
   "source": [
    "##Removing punctuations\n",
    "\n",
    "lyrics_list = []\n",
    "\n",
    "for ix,row in data.iterrows():\n",
    "    chars_rm = ['\\n',',','[',']','.','?','!','(',')',':']\n",
    "    ly = row['lyrics']\n",
    "    for char in ly:\n",
    "        if char in chars_rm:\n",
    "            ly = ly.replace(char,' ')\n",
    "        elif char=='\\'':\n",
    "            ly = ly.replace(char,'')\n",
    "    lyrics_list.append(ly)"
   ]
  },
  {
   "cell_type": "code",
   "execution_count": 138,
   "metadata": {
    "collapsed": true
   },
   "outputs": [],
   "source": [
    "data['lyrics'] = lyrics_list"
   ]
  },
  {
   "cell_type": "code",
   "execution_count": 139,
   "metadata": {
    "collapsed": true
   },
   "outputs": [],
   "source": [
    "#Accumulating words based on genre\n",
    "\n",
    "vocab = {}\n",
    "\n",
    "for ix,row in data.iterrows():\n",
    "    genre = row['genre']\n",
    "    if genre in vocab:\n",
    "        vocab[genre] += row['lyrics']\n",
    "    else:\n",
    "        vocab[genre] = row['lyrics']\n",
    "    "
   ]
  },
  {
   "cell_type": "code",
   "execution_count": 140,
   "metadata": {
    "scrolled": true
   },
   "outputs": [
    {
     "data": {
      "text/plain": [
       "10"
      ]
     },
     "execution_count": 140,
     "metadata": {},
     "output_type": "execute_result"
    }
   ],
   "source": [
    "len(vocab)"
   ]
  },
  {
   "cell_type": "code",
   "execution_count": 141,
   "metadata": {},
   "outputs": [
    {
     "data": {
      "text/html": [
       "<div>\n",
       "<style>\n",
       "    .dataframe thead tr:only-child th {\n",
       "        text-align: right;\n",
       "    }\n",
       "\n",
       "    .dataframe thead th {\n",
       "        text-align: left;\n",
       "    }\n",
       "\n",
       "    .dataframe tbody tr th {\n",
       "        vertical-align: top;\n",
       "    }\n",
       "</style>\n",
       "<table border=\"1\" class=\"dataframe\">\n",
       "  <thead>\n",
       "    <tr style=\"text-align: right;\">\n",
       "      <th></th>\n",
       "      <th>Genre</th>\n",
       "      <th>Lyrics</th>\n",
       "    </tr>\n",
       "  </thead>\n",
       "  <tbody>\n",
       "    <tr>\n",
       "      <th>0</th>\n",
       "      <td>Pop</td>\n",
       "      <td>Oh baby  how you doing  You know Im gonna cut ...</td>\n",
       "    </tr>\n",
       "    <tr>\n",
       "      <th>1</th>\n",
       "      <td>Country</td>\n",
       "      <td>Verse 1  When the last  breath of life Is gone...</td>\n",
       "    </tr>\n",
       "    <tr>\n",
       "      <th>2</th>\n",
       "      <td>Jazz</td>\n",
       "      <td>If Ive had my way Id leave here today Id leave...</td>\n",
       "    </tr>\n",
       "    <tr>\n",
       "      <th>3</th>\n",
       "      <td>Hip-Hop</td>\n",
       "      <td>horns      chorus  Timbo- When you hit me on ...</td>\n",
       "    </tr>\n",
       "    <tr>\n",
       "      <th>4</th>\n",
       "      <td>Folk</td>\n",
       "      <td>Rise and fall  like the tide My hand goes with...</td>\n",
       "    </tr>\n",
       "    <tr>\n",
       "      <th>5</th>\n",
       "      <td>Metal</td>\n",
       "      <td>Gods Of The Mountains Sky  Forest And Seas Lan...</td>\n",
       "    </tr>\n",
       "    <tr>\n",
       "      <th>6</th>\n",
       "      <td>Electronic</td>\n",
       "      <td>Reverse  Behold the finite set of thirteen co...</td>\n",
       "    </tr>\n",
       "    <tr>\n",
       "      <th>7</th>\n",
       "      <td>R&amp;B</td>\n",
       "      <td>Little wallflower on the shelf  standing by h...</td>\n",
       "    </tr>\n",
       "    <tr>\n",
       "      <th>8</th>\n",
       "      <td>Indie</td>\n",
       "      <td>Dont feel so bad  Its just the way the wheel t...</td>\n",
       "    </tr>\n",
       "    <tr>\n",
       "      <th>9</th>\n",
       "      <td>Rock</td>\n",
       "      <td>A lot of cats are hatin  slandering makin bad ...</td>\n",
       "    </tr>\n",
       "  </tbody>\n",
       "</table>\n",
       "</div>"
      ],
      "text/plain": [
       "        Genre                                             Lyrics\n",
       "0         Pop  Oh baby  how you doing  You know Im gonna cut ...\n",
       "1     Country  Verse 1  When the last  breath of life Is gone...\n",
       "2        Jazz  If Ive had my way Id leave here today Id leave...\n",
       "3     Hip-Hop   horns      chorus  Timbo- When you hit me on ...\n",
       "4        Folk  Rise and fall  like the tide My hand goes with...\n",
       "5       Metal  Gods Of The Mountains Sky  Forest And Seas Lan...\n",
       "6  Electronic   Reverse  Behold the finite set of thirteen co...\n",
       "7         R&B   Little wallflower on the shelf  standing by h...\n",
       "8       Indie  Dont feel so bad  Its just the way the wheel t...\n",
       "9        Rock  A lot of cats are hatin  slandering makin bad ..."
      ]
     },
     "execution_count": 141,
     "metadata": {},
     "output_type": "execute_result"
    }
   ],
   "source": [
    "cleaned_data = pd.DataFrame({'Genre':list(set(data['genre'].tolist())), 'Lyrics':[vocab[genre] for genre in set(data['genre'].tolist())]})\n",
    "cleaned_data.head(10)"
   ]
  },
  {
   "cell_type": "code",
   "execution_count": 142,
   "metadata": {},
   "outputs": [
    {
     "data": {
      "text/plain": [
       "(10, 2)"
      ]
     },
     "execution_count": 142,
     "metadata": {},
     "output_type": "execute_result"
    }
   ],
   "source": [
    "cleaned_data.shape"
   ]
  },
  {
   "cell_type": "code",
   "execution_count": 143,
   "metadata": {},
   "outputs": [
    {
     "name": "stdout",
     "output_type": "stream",
     "text": [
      "showing info https://raw.githubusercontent.com/nltk/nltk_data/gh-pages/index.xml\n"
     ]
    },
    {
     "data": {
      "text/plain": [
       "True"
      ]
     },
     "execution_count": 143,
     "metadata": {},
     "output_type": "execute_result"
    }
   ],
   "source": [
    "## Please download nltk packages\n",
    "\n",
    "nltk.download()"
   ]
  },
  {
   "cell_type": "code",
   "execution_count": 144,
   "metadata": {
    "collapsed": true
   },
   "outputs": [],
   "source": [
    "stopwords = nltk.corpus.stopwords.words('english')"
   ]
  },
  {
   "cell_type": "code",
   "execution_count": 145,
   "metadata": {
    "collapsed": true
   },
   "outputs": [],
   "source": [
    "stemmer = SnowballStemmer(\"english\")"
   ]
  },
  {
   "cell_type": "code",
   "execution_count": 146,
   "metadata": {
    "collapsed": true
   },
   "outputs": [],
   "source": [
    "#tokenizing and stemming\n",
    "\n",
    "def tokenize_and_stem(text):\n",
    "    # first tokenize by sentence, then by word to ensure that punctuation is caught as it's own token\n",
    "    tokens = [word for sent in nltk.sent_tokenize(text) for word in nltk.word_tokenize(sent)]\n",
    "    filtered_tokens = []\n",
    "    # filter out any tokens not containing letters (e.g., numeric tokens, raw punctuation)\n",
    "    for token in tokens:\n",
    "        if re.search('[a-zA-Z]', token):\n",
    "            filtered_tokens.append(token)\n",
    "    stems = [stemmer.stem(t) for t in filtered_tokens]\n",
    "    return stems"
   ]
  },
  {
   "cell_type": "code",
   "execution_count": 147,
   "metadata": {
    "collapsed": true
   },
   "outputs": [],
   "source": [
    "\n",
    "def tokenize_only(text):\n",
    "    # first tokenize by sentence, then by word to ensure that punctuation is caught as it's own token\n",
    "    tokens = [word.lower() for sent in nltk.sent_tokenize(text) for word in nltk.word_tokenize(sent)]\n",
    "    filtered_tokens = []\n",
    "    # filter out any tokens not containing letters (e.g., numeric tokens, raw punctuation)\n",
    "    for token in tokens:\n",
    "        if re.search('[a-zA-Z]', token):\n",
    "            filtered_tokens.append(token)\n",
    "    return filtered_tokens"
   ]
  },
  {
   "cell_type": "code",
   "execution_count": 148,
   "metadata": {
    "collapsed": true
   },
   "outputs": [],
   "source": [
    "totalvocab_stemmed = []\n",
    "totalvocab_tokenized = []\n",
    "\n",
    "lyrics_sample = cleaned_data['Lyrics'].iloc[0:500].tolist()\n",
    "genres_sample = cleaned_data['Genre'].iloc[0:500].tolist()\n",
    "\n",
    "for l in lyrics_sample:\n",
    "    allwords_stemmed = tokenize_and_stem(l) # for each item in 'synopses', tokenize/stem\n",
    "    totalvocab_stemmed.extend(allwords_stemmed) # extend the 'totalvocab_stemmed' list\n",
    "    \n",
    "    allwords_tokenized = tokenize_only(l)\n",
    "    totalvocab_tokenized.extend(allwords_tokenized)"
   ]
  },
  {
   "cell_type": "code",
   "execution_count": 149,
   "metadata": {},
   "outputs": [
    {
     "data": {
      "text/plain": [
       "2191326"
      ]
     },
     "execution_count": 149,
     "metadata": {},
     "output_type": "execute_result"
    }
   ],
   "source": [
    "len(totalvocab_stemmed)"
   ]
  },
  {
   "cell_type": "code",
   "execution_count": 150,
   "metadata": {},
   "outputs": [
    {
     "name": "stdout",
     "output_type": "stream",
     "text": [
      "there are 2191326 items in vocab_frame\n",
      "      words\n",
      "oh       oh\n",
      "babi   baby\n",
      "how     how\n",
      "you     you\n",
      "do    doing\n"
     ]
    }
   ],
   "source": [
    "vocab_frame = pd.DataFrame({'words': totalvocab_tokenized}, index = totalvocab_stemmed)\n",
    "print('there are ' + str(vocab_frame.shape[0]) + ' items in vocab_frame')\n",
    "print(vocab_frame.head())"
   ]
  },
  {
   "cell_type": "code",
   "execution_count": 151,
   "metadata": {},
   "outputs": [
    {
     "name": "stdout",
     "output_type": "stream",
     "text": [
      "Wall time: 47.2 s\n",
      "(10, 85709)\n"
     ]
    },
    {
     "data": {
      "text/plain": [
       "85709"
      ]
     },
     "execution_count": 151,
     "metadata": {},
     "output_type": "execute_result"
    }
   ],
   "source": [
    "# Note that the result of this block takes a while to show\n",
    "from sklearn.feature_extraction.text import TfidfVectorizer\n",
    "\n",
    "#define vectorizer parameters\n",
    "tfidf_vectorizer = TfidfVectorizer(max_df=0.8, max_features=200000,\n",
    "                                 min_df=0.2, stop_words='english',\n",
    "                                 use_idf=True, tokenizer=tokenize_and_stem, ngram_range=(1,3))\n",
    "\n",
    "%time tfidf_matrix = tfidf_vectorizer.fit_transform(lyrics_sample) #fit the vectorizer to synopses\n",
    "\n",
    "# (100, 563) means the matrix has 100 rows and 563 columns\n",
    "print(tfidf_matrix.shape)\n",
    "terms = tfidf_vectorizer.get_feature_names()\n",
    "len(terms)"
   ]
  },
  {
   "cell_type": "code",
   "execution_count": 152,
   "metadata": {
    "collapsed": true
   },
   "outputs": [],
   "source": [
    "from sklearn.metrics.pairwise import cosine_similarity\n",
    "\n",
    "similarity_matrix = cosine_similarity(tfidf_matrix)"
   ]
  },
  {
   "cell_type": "code",
   "execution_count": 153,
   "metadata": {},
   "outputs": [
    {
     "name": "stdout",
     "output_type": "stream",
     "text": [
      "Wall time: 3.19 s\n"
     ]
    }
   ],
   "source": [
    "from sklearn.cluster import KMeans\n",
    "\n",
    "num_clusters = 6\n",
    "\n",
    "km = KMeans(n_clusters=num_clusters)\n",
    "\n",
    "%time km.fit(tfidf_matrix)\n",
    "\n",
    "clusters = km.labels_.tolist()"
   ]
  },
  {
   "cell_type": "code",
   "execution_count": 154,
   "metadata": {},
   "outputs": [
    {
     "data": {
      "text/plain": [
       "10"
      ]
     },
     "execution_count": 154,
     "metadata": {},
     "output_type": "execute_result"
    }
   ],
   "source": [
    "len(clusters)"
   ]
  },
  {
   "cell_type": "code",
   "execution_count": 155,
   "metadata": {},
   "outputs": [
    {
     "data": {
      "text/plain": [
       "2    4\n",
       "5    2\n",
       "4    1\n",
       "3    1\n",
       "1    1\n",
       "0    1\n",
       "Name: cluster, dtype: int64"
      ]
     },
     "execution_count": 155,
     "metadata": {},
     "output_type": "execute_result"
    }
   ],
   "source": [
    "songs = { 'Genre': genres_sample, 'Lyrics': lyrics_sample, 'cluster': clusters }\n",
    "\n",
    "frame = pd.DataFrame(songs, index = [clusters] , columns = ['Genre', 'cluster'])\n",
    "\n",
    "frame['cluster'].value_counts() #number of genres per cluster (clusters from 0 to 4)\n"
   ]
  },
  {
   "cell_type": "code",
   "execution_count": 156,
   "metadata": {},
   "outputs": [
    {
     "name": "stdout",
     "output_type": "stream",
     "text": [
      "Top terms per cluster:\n",
      "\n",
      "Cluster 0 words:"
     ]
    },
    {
     "name": "stderr",
     "output_type": "stream",
     "text": [
      "D:\\Anaconda\\lib\\site-packages\\ipykernel_launcher.py:15: DeprecationWarning: \n",
      ".ix is deprecated. Please use\n",
      ".loc for label based indexing or\n",
      ".iloc for positional indexing\n",
      "\n",
      "See the documentation here:\n",
      "http://pandas.pydata.org/pandas-docs/stable/indexing.html#ix-indexer-is-deprecated\n",
      "  from ipykernel import kernelapp as app\n"
     ]
    },
    {
     "name": "stdout",
     "output_type": "stream",
     "text": [
      " b'holy', b'holy', b'doggin', b'think', b'country', b'bow', b'bout', b'belong', b'e', b'belong',\n",
      "\n",
      "Cluster 0 genres: Country,"
     ]
    },
    {
     "name": "stderr",
     "output_type": "stream",
     "text": [
      "D:\\Anaconda\\lib\\site-packages\\ipykernel_launcher.py:24: DeprecationWarning: \n",
      ".ix is deprecated. Please use\n",
      ".loc for label based indexing or\n",
      ".iloc for positional indexing\n",
      "\n",
      "See the documentation here:\n",
      "http://pandas.pydata.org/pandas-docs/stable/indexing.html#ix-indexer-is-deprecated\n"
     ]
    },
    {
     "name": "stdout",
     "output_type": "stream",
     "text": [
      "\n",
      "\n",
      "Cluster 1 words: b'nigga', b'shit', b'bitch', b'niggaz', b'cent', b'yo', b'hood', b'gangstas', b'hoes', b'tha',\n",
      "\n",
      "Cluster 1 genres: Hip-Hop,\n",
      "\n",
      "Cluster 2 words: b'que', b'y', b'el', b'en', b'mi', b'te', b'se', b'tu', b'je', b'por',\n",
      "\n",
      "Cluster 2 genres: Pop, Metal, Indie, Rock,\n",
      "\n",
      "Cluster 3 words: b'wi', b'o', b'bau', b'glen', b'lad', b'tm', b'gon', b'na', b'na', b'aye',\n",
      "\n",
      "Cluster 3 genres: Folk,\n",
      "\n",
      "Cluster 4 words: b'dem', b'mi', b'di', b'fi', b'nuh', b'gyal', b'seh', b'pon', b'inna', b'nah',\n",
      "\n",
      "Cluster 4 genres: Electronic,\n",
      "\n",
      "Cluster 5 words: b'boiler', b'homicide', b'la', b'la', b'confusing', b'oh', b'lets', b'somebody', b'uh', b'dont',\n",
      "\n",
      "Cluster 5 genres: Jazz, R&B,\n",
      "\n"
     ]
    }
   ],
   "source": [
    "from __future__ import print_function\n",
    "\n",
    "print(\"Top terms per cluster:\")\n",
    "print() #add whitespace\n",
    "\n",
    "top_terms_final = []\n",
    "\n",
    "#sort cluster centers by proximity to centroid\n",
    "order_centroids = km.cluster_centers_.argsort()[:, ::-1] \n",
    "\n",
    "for i in range(num_clusters):\n",
    "    print(\"Cluster %d words:\" % i, end='')\n",
    "    top_terms = []\n",
    "    for ind in order_centroids[i, :10]:\n",
    "        print(' %s' % vocab_frame.ix[terms[ind].split(' ')].values.tolist()[0][0].encode('utf-8', 'ignore'), end=',')\n",
    "        top_terms.append((' %s' % vocab_frame.ix[terms[ind].split(' ')].values.tolist()[0][0].encode('utf-8', 'ignore')))\n",
    "        \n",
    "    print() #add whitespace\n",
    "    print() #add whitespace\n",
    "    \n",
    "    top_terms_final.append(top_terms)\n",
    "    \n",
    "    print(\"Cluster %d genres:\" % i, end='')\n",
    "    if type(frame.ix[i]['Genre'])!=str:\n",
    "        for title in frame.ix[i]['Genre'].values.tolist():\n",
    "            print(' %s,' % title, end='')\n",
    "    else:\n",
    "        print(' %s,' % frame.ix[i]['Genre'], end='')\n",
    "    print() #add whitespace\n",
    "    print() #add whitespace"
   ]
  },
  {
   "cell_type": "code",
   "execution_count": 157,
   "metadata": {},
   "outputs": [
    {
     "name": "stdout",
     "output_type": "stream",
     "text": [
      "<class 'numpy.ndarray'>\n"
     ]
    }
   ],
   "source": [
    "similarity_distance = 1 - cosine_similarity(tfidf_matrix)\n",
    "print(type(similarity_distance))"
   ]
  },
  {
   "cell_type": "code",
   "execution_count": 158,
   "metadata": {},
   "outputs": [
    {
     "name": "stdout",
     "output_type": "stream",
     "text": [
      "Wall time: 14.5 ms\n",
      "(10, 2)\n",
      "<class 'numpy.ndarray'>\n"
     ]
    }
   ],
   "source": [
    "import os  # for os.path.basename\n",
    "\n",
    "import matplotlib.pyplot as plt\n",
    "import matplotlib as mpl\n",
    "\n",
    "from sklearn.manifold import MDS\n",
    "\n",
    "# convert two components as we're plotting points in a two-dimensional plane\n",
    "# \"precomputed\" because we provide a distance matrix\n",
    "# we will also specify `random_state` so the plot is reproducible.\n",
    "mds = MDS(n_components=2, dissimilarity=\"precomputed\", random_state=1)\n",
    "\n",
    "%time pos = mds.fit_transform(similarity_distance)  # shape (n_components, n_samples)\n",
    "\n",
    "print(pos.shape)\n",
    "\n",
    "xs, ys = pos[:, 0], pos[:, 1]\n",
    "print(type(xs))"
   ]
  },
  {
   "cell_type": "code",
   "execution_count": null,
   "metadata": {
    "collapsed": true
   },
   "outputs": [],
   "source": []
  },
  {
   "cell_type": "code",
   "execution_count": 159,
   "metadata": {
    "collapsed": true
   },
   "outputs": [],
   "source": [
    "#set up colors per clusters using a dict\n",
    "cluster_colors = {0: '#a50026', 1: '#d73027', 2: '#f46d43', 3: '#fdae61', 4: '#fee08b', 5: '#d9ef8b', 6: '#a6d96a', 7: '#66bd63', 8: '#1a9850', 9: '#006837'}\n",
    "\n",
    "cluster_names = {}\n",
    "\n",
    "for i in range(0,6):\n",
    "    cluster_names[i] = str(top_terms_final[i]).replace('b','').replace('\"','').replace('[','').replace(']','')\n"
   ]
  },
  {
   "cell_type": "code",
   "execution_count": 160,
   "metadata": {},
   "outputs": [
    {
     "name": "stdout",
     "output_type": "stream",
     "text": [
      "        genre  label         x         y\n",
      "1     Country      0 -0.611834 -0.313061\n",
      "2        Jazz      5 -0.016958 -0.594096\n",
      "3     Hip-Hop      1 -0.342277 -0.222395\n",
      "4        Folk      3  0.470785 -0.508500\n",
      "5       Metal      2  0.370956  0.338517\n",
      "6  Electronic      4 -0.128430  0.651392\n",
      "7         R&B      5 -0.613150  0.344314\n",
      "8       Indie      2  0.534487  0.208684\n",
      "9        Rock      2  0.108034 -0.056882\n"
     ]
    }
   ],
   "source": [
    "#some ipython magic to show the matplotlib plots inline\n",
    "%matplotlib inline \n",
    "\n",
    "#create data frame that has the result of the MDS plus the cluster numbers and titles\n",
    "df = pd.DataFrame(dict(x=xs, y=ys, label=clusters, genre=genres_sample)) \n",
    "\n",
    "print(df[1:10])\n"
   ]
  },
  {
   "cell_type": "code",
   "execution_count": 161,
   "metadata": {
    "collapsed": true
   },
   "outputs": [],
   "source": [
    "clus_ids = []\n",
    "for ix,row in df.iterrows():\n",
    "    clus_ids.append(cluster_names[row['label']])"
   ]
  },
  {
   "cell_type": "code",
   "execution_count": 162,
   "metadata": {
    "collapsed": true
   },
   "outputs": [],
   "source": [
    "colormap = {0: '#a50026', 1: '#d73027', 2: '#f46d43', 3: '#fdae61', 4: '#fee08b', 5: '#d9ef8b', 6: '#a6d96a', 7: '#66bd63', 8: '#1a9850', 9: '#006837'}\n",
    "colors = [colormap[x] for x in df['label']]\n",
    "df['color'] = colors"
   ]
  },
  {
   "cell_type": "code",
   "execution_count": 165,
   "metadata": {},
   "outputs": [
    {
     "data": {
      "text/html": [
       "\n",
       "    <div class=\"bk-root\">\n",
       "        <a href=\"https://bokeh.pydata.org\" target=\"_blank\" class=\"bk-logo bk-logo-small bk-logo-notebook\"></a>\n",
       "        <span id=\"14d7ce9a-bb9f-4a69-892b-05e21cc86843\">Loading BokehJS ...</span>\n",
       "    </div>"
      ]
     },
     "metadata": {},
     "output_type": "display_data"
    },
    {
     "data": {
      "application/javascript": [
       "\n",
       "(function(root) {\n",
       "  function now() {\n",
       "    return new Date();\n",
       "  }\n",
       "\n",
       "  var force = true;\n",
       "\n",
       "  if (typeof (root._bokeh_onload_callbacks) === \"undefined\" || force === true) {\n",
       "    root._bokeh_onload_callbacks = [];\n",
       "    root._bokeh_is_loading = undefined;\n",
       "  }\n",
       "\n",
       "\n",
       "  \n",
       "  if (typeof (root._bokeh_timeout) === \"undefined\" || force === true) {\n",
       "    root._bokeh_timeout = Date.now() + 5000;\n",
       "    root._bokeh_failed_load = false;\n",
       "  }\n",
       "\n",
       "  var NB_LOAD_WARNING = {'data': {'text/html':\n",
       "     \"<div style='background-color: #fdd'>\\n\"+\n",
       "     \"<p>\\n\"+\n",
       "     \"BokehJS does not appear to have successfully loaded. If loading BokehJS from CDN, this \\n\"+\n",
       "     \"may be due to a slow or bad network connection. Possible fixes:\\n\"+\n",
       "     \"</p>\\n\"+\n",
       "     \"<ul>\\n\"+\n",
       "     \"<li>re-rerun `output_notebook()` to attempt to load from CDN again, or</li>\\n\"+\n",
       "     \"<li>use INLINE resources instead, as so:</li>\\n\"+\n",
       "     \"</ul>\\n\"+\n",
       "     \"<code>\\n\"+\n",
       "     \"from bokeh.resources import INLINE\\n\"+\n",
       "     \"output_notebook(resources=INLINE)\\n\"+\n",
       "     \"</code>\\n\"+\n",
       "     \"</div>\"}};\n",
       "\n",
       "  function display_loaded() {\n",
       "    if (root.Bokeh !== undefined) {\n",
       "      var el = document.getElementById(\"14d7ce9a-bb9f-4a69-892b-05e21cc86843\");\n",
       "      if (el != null) {\n",
       "        el.textContent = \"BokehJS \" + Bokeh.version + \" successfully loaded.\";\n",
       "      }\n",
       "    } else if (Date.now() < root._bokeh_timeout) {\n",
       "      setTimeout(display_loaded, 100)\n",
       "    }\n",
       "  }\n",
       "\n",
       "\n",
       "  function run_callbacks() {\n",
       "    try {\n",
       "      root._bokeh_onload_callbacks.forEach(function(callback) { callback() });\n",
       "    }\n",
       "    finally {\n",
       "      delete root._bokeh_onload_callbacks\n",
       "    }\n",
       "    console.info(\"Bokeh: all callbacks have finished\");\n",
       "  }\n",
       "\n",
       "  function load_libs(js_urls, callback) {\n",
       "    root._bokeh_onload_callbacks.push(callback);\n",
       "    if (root._bokeh_is_loading > 0) {\n",
       "      console.log(\"Bokeh: BokehJS is being loaded, scheduling callback at\", now());\n",
       "      return null;\n",
       "    }\n",
       "    if (js_urls == null || js_urls.length === 0) {\n",
       "      run_callbacks();\n",
       "      return null;\n",
       "    }\n",
       "    console.log(\"Bokeh: BokehJS not loaded, scheduling load and callback at\", now());\n",
       "    root._bokeh_is_loading = js_urls.length;\n",
       "    for (var i = 0; i < js_urls.length; i++) {\n",
       "      var url = js_urls[i];\n",
       "      var s = document.createElement('script');\n",
       "      s.src = url;\n",
       "      s.async = false;\n",
       "      s.onreadystatechange = s.onload = function() {\n",
       "        root._bokeh_is_loading--;\n",
       "        if (root._bokeh_is_loading === 0) {\n",
       "          console.log(\"Bokeh: all BokehJS libraries loaded\");\n",
       "          run_callbacks()\n",
       "        }\n",
       "      };\n",
       "      s.onerror = function() {\n",
       "        console.warn(\"failed to load library \" + url);\n",
       "      };\n",
       "      console.log(\"Bokeh: injecting script tag for BokehJS library: \", url);\n",
       "      document.getElementsByTagName(\"head\")[0].appendChild(s);\n",
       "    }\n",
       "  };var element = document.getElementById(\"14d7ce9a-bb9f-4a69-892b-05e21cc86843\");\n",
       "  if (element == null) {\n",
       "    console.log(\"Bokeh: ERROR: autoload.js configured with elementid '14d7ce9a-bb9f-4a69-892b-05e21cc86843' but no matching script tag was found. \")\n",
       "    return false;\n",
       "  }\n",
       "\n",
       "  var js_urls = [\"https://cdn.pydata.org/bokeh/release/bokeh-0.12.7.min.js\", \"https://cdn.pydata.org/bokeh/release/bokeh-widgets-0.12.7.min.js\", \"https://cdn.pydata.org/bokeh/release/bokeh-tables-0.12.7.min.js\", \"https://cdn.pydata.org/bokeh/release/bokeh-gl-0.12.7.min.js\"];\n",
       "\n",
       "  var inline_js = [\n",
       "    function(Bokeh) {\n",
       "      Bokeh.set_log_level(\"info\");\n",
       "    },\n",
       "    \n",
       "    function(Bokeh) {\n",
       "      \n",
       "    },\n",
       "    \n",
       "    function(Bokeh) {\n",
       "      \n",
       "      document.getElementById(\"14d7ce9a-bb9f-4a69-892b-05e21cc86843\").textContent = \"BokehJS is loading...\";\n",
       "    },\n",
       "    function(Bokeh) {\n",
       "      console.log(\"Bokeh: injecting CSS: https://cdn.pydata.org/bokeh/release/bokeh-0.12.7.min.css\");\n",
       "      Bokeh.embed.inject_css(\"https://cdn.pydata.org/bokeh/release/bokeh-0.12.7.min.css\");\n",
       "      console.log(\"Bokeh: injecting CSS: https://cdn.pydata.org/bokeh/release/bokeh-widgets-0.12.7.min.css\");\n",
       "      Bokeh.embed.inject_css(\"https://cdn.pydata.org/bokeh/release/bokeh-widgets-0.12.7.min.css\");\n",
       "      console.log(\"Bokeh: injecting CSS: https://cdn.pydata.org/bokeh/release/bokeh-tables-0.12.7.min.css\");\n",
       "      Bokeh.embed.inject_css(\"https://cdn.pydata.org/bokeh/release/bokeh-tables-0.12.7.min.css\");\n",
       "    }\n",
       "  ];\n",
       "\n",
       "  function run_inline_js() {\n",
       "    \n",
       "    if ((root.Bokeh !== undefined) || (force === true)) {\n",
       "      for (var i = 0; i < inline_js.length; i++) {\n",
       "        inline_js[i].call(root, root.Bokeh);\n",
       "      }if (force === true) {\n",
       "        display_loaded();\n",
       "      }} else if (Date.now() < root._bokeh_timeout) {\n",
       "      setTimeout(run_inline_js, 100);\n",
       "    } else if (!root._bokeh_failed_load) {\n",
       "      console.log(\"Bokeh: BokehJS failed to load within specified timeout.\");\n",
       "      root._bokeh_failed_load = true;\n",
       "    } else if (force !== true) {\n",
       "      var cell = $(document.getElementById(\"14d7ce9a-bb9f-4a69-892b-05e21cc86843\")).parents('.cell').data().cell;\n",
       "      cell.output_area.append_execute_result(NB_LOAD_WARNING)\n",
       "    }\n",
       "\n",
       "  }\n",
       "\n",
       "  if (root._bokeh_is_loading === 0) {\n",
       "    console.log(\"Bokeh: BokehJS loaded, going straight to plotting\");\n",
       "    run_inline_js();\n",
       "  } else {\n",
       "    load_libs(js_urls, function() {\n",
       "      console.log(\"Bokeh: BokehJS plotting callback run at\", now());\n",
       "      run_inline_js();\n",
       "    });\n",
       "  }\n",
       "}(window));"
      ]
     },
     "metadata": {},
     "output_type": "display_data"
    }
   ],
   "source": [
    "import pandas as pd\n",
    "import numpy as np\n",
    "from bokeh.io import output_notebook, show, curdoc, push_notebook\n",
    "from bokeh.models import ColumnDataSource,HoverTool,ColorBar,LabelSet\n",
    "from bokeh.plotting import figure, show, output_notebook\n",
    "from sklearn.cluster import KMeans\n",
    "import matplotlib.pyplot as plt\n",
    "from bokeh.layouts import layout\n",
    "from bokeh.layouts import row\n",
    "from ipywidgets import interact\n",
    "import ipywidgets as widgets\n",
    "from ipywidgets import interact, interactive, fixed, interact_manual, IntSlider\n",
    "\n",
    "output_notebook()\n",
    "\n",
    "colormap = {0: 'red', 1: 'blue', 2: 'green', 3: 'yellow', 4: 'orange', 5: 'black', 6: 'navy', 7: 'pink', 8: 'magenta', 9: 'brown'}\n",
    "colors = [colormap[x] for x in df['label'].tolist()]\n",
    "\n",
    "p = figure(title = \"Clustering Music Genres Based on Lyrics\",tools=\"hover,lasso_select,pan,wheel_zoom,box_zoom,reset,save\")\n",
    "\n",
    "xs = list(xs)\n",
    "ys = list(ys)\n",
    "\n",
    "source = ColumnDataSource(dict(\n",
    "    x=xs,\n",
    "    y=ys,\n",
    "    color=colors,\n",
    "    label=clus_ids,\n",
    "    genre = [i for i in df['genre'].tolist()]\n",
    "))\n",
    "\n",
    "# scatter plot\n",
    "t = p.scatter('x', 'y', source=source, fill_alpha=0.6,\n",
    "              fill_color=\"#8724B5\",\n",
    "              line_color=None)\n",
    "\n",
    "# text labels\n",
    "labels = LabelSet(x='x', y='y', text='genre', y_offset=8,\n",
    "                      text_font_size=\"6pt\", text_color=\"color\",\n",
    "                      source=source, text_align='center')\n",
    "#r = p.text(x='x', y='y', text_color='color', text = 'artist', text_alpha=0.8, text_font_size='5pt', source=source, legend = 'artist')\n",
    "\n",
    "p.select_one(HoverTool).tooltips = [('Cluster', '@label')]\n",
    "p.add_layout(labels)\n",
    "#p.add_tools(HoverTool(tooltips=[(\"Cluster\", \"@label\")]))\n"
   ]
  },
  {
   "cell_type": "code",
   "execution_count": 166,
   "metadata": {
    "scrolled": false
   },
   "outputs": [
    {
     "data": {
      "text/html": [
       "\n",
       "\n",
       "    <div class=\"bk-root\">\n",
       "        <div class=\"bk-plotdiv\" id=\"97b34643-5f3c-4f5e-835e-4076c339f734\"></div>\n",
       "    </div>\n",
       "<script type=\"text/javascript\">\n",
       "  \n",
       "  (function(root) {\n",
       "    function now() {\n",
       "      return new Date();\n",
       "    }\n",
       "  \n",
       "    var force = false;\n",
       "  \n",
       "    if (typeof (root._bokeh_onload_callbacks) === \"undefined\" || force === true) {\n",
       "      root._bokeh_onload_callbacks = [];\n",
       "      root._bokeh_is_loading = undefined;\n",
       "    }\n",
       "  \n",
       "  \n",
       "    \n",
       "    if (typeof (root._bokeh_timeout) === \"undefined\" || force === true) {\n",
       "      root._bokeh_timeout = Date.now() + 0;\n",
       "      root._bokeh_failed_load = false;\n",
       "    }\n",
       "  \n",
       "    var NB_LOAD_WARNING = {'data': {'text/html':\n",
       "       \"<div style='background-color: #fdd'>\\n\"+\n",
       "       \"<p>\\n\"+\n",
       "       \"BokehJS does not appear to have successfully loaded. If loading BokehJS from CDN, this \\n\"+\n",
       "       \"may be due to a slow or bad network connection. Possible fixes:\\n\"+\n",
       "       \"</p>\\n\"+\n",
       "       \"<ul>\\n\"+\n",
       "       \"<li>re-rerun `output_notebook()` to attempt to load from CDN again, or</li>\\n\"+\n",
       "       \"<li>use INLINE resources instead, as so:</li>\\n\"+\n",
       "       \"</ul>\\n\"+\n",
       "       \"<code>\\n\"+\n",
       "       \"from bokeh.resources import INLINE\\n\"+\n",
       "       \"output_notebook(resources=INLINE)\\n\"+\n",
       "       \"</code>\\n\"+\n",
       "       \"</div>\"}};\n",
       "  \n",
       "    function display_loaded() {\n",
       "      if (root.Bokeh !== undefined) {\n",
       "        var el = document.getElementById(\"97b34643-5f3c-4f5e-835e-4076c339f734\");\n",
       "        if (el != null) {\n",
       "          el.textContent = \"BokehJS \" + Bokeh.version + \" successfully loaded.\";\n",
       "        }\n",
       "      } else if (Date.now() < root._bokeh_timeout) {\n",
       "        setTimeout(display_loaded, 100)\n",
       "      }\n",
       "    }\n",
       "  \n",
       "  \n",
       "    function run_callbacks() {\n",
       "      try {\n",
       "        root._bokeh_onload_callbacks.forEach(function(callback) { callback() });\n",
       "      }\n",
       "      finally {\n",
       "        delete root._bokeh_onload_callbacks\n",
       "      }\n",
       "      console.info(\"Bokeh: all callbacks have finished\");\n",
       "    }\n",
       "  \n",
       "    function load_libs(js_urls, callback) {\n",
       "      root._bokeh_onload_callbacks.push(callback);\n",
       "      if (root._bokeh_is_loading > 0) {\n",
       "        console.log(\"Bokeh: BokehJS is being loaded, scheduling callback at\", now());\n",
       "        return null;\n",
       "      }\n",
       "      if (js_urls == null || js_urls.length === 0) {\n",
       "        run_callbacks();\n",
       "        return null;\n",
       "      }\n",
       "      console.log(\"Bokeh: BokehJS not loaded, scheduling load and callback at\", now());\n",
       "      root._bokeh_is_loading = js_urls.length;\n",
       "      for (var i = 0; i < js_urls.length; i++) {\n",
       "        var url = js_urls[i];\n",
       "        var s = document.createElement('script');\n",
       "        s.src = url;\n",
       "        s.async = false;\n",
       "        s.onreadystatechange = s.onload = function() {\n",
       "          root._bokeh_is_loading--;\n",
       "          if (root._bokeh_is_loading === 0) {\n",
       "            console.log(\"Bokeh: all BokehJS libraries loaded\");\n",
       "            run_callbacks()\n",
       "          }\n",
       "        };\n",
       "        s.onerror = function() {\n",
       "          console.warn(\"failed to load library \" + url);\n",
       "        };\n",
       "        console.log(\"Bokeh: injecting script tag for BokehJS library: \", url);\n",
       "        document.getElementsByTagName(\"head\")[0].appendChild(s);\n",
       "      }\n",
       "    };var element = document.getElementById(\"97b34643-5f3c-4f5e-835e-4076c339f734\");\n",
       "    if (element == null) {\n",
       "      console.log(\"Bokeh: ERROR: autoload.js configured with elementid '97b34643-5f3c-4f5e-835e-4076c339f734' but no matching script tag was found. \")\n",
       "      return false;\n",
       "    }\n",
       "  \n",
       "    var js_urls = [];\n",
       "  \n",
       "    var inline_js = [\n",
       "      function(Bokeh) {\n",
       "        (function() {\n",
       "          var fn = function() {\n",
       "            var docs_json = {\"38dc0e6b-ae7c-450d-8f4c-4bab9c81e825\":{\"roots\":{\"references\":[{\"attributes\":{\"formatter\":{\"id\":\"56a9d24f-01d8-4259-ba60-63b21a699890\",\"type\":\"BasicTickFormatter\"},\"plot\":{\"id\":\"5bc96384-1383-4a3e-b7a9-cb5254bdf1b4\",\"subtype\":\"Figure\",\"type\":\"Plot\"},\"ticker\":{\"id\":\"3ea3c800-f671-40ad-ac6f-914e33d5f2f5\",\"type\":\"BasicTicker\"}},\"id\":\"af8bd966-9216-426a-9b4c-c509cc5be5b9\",\"type\":\"LinearAxis\"},{\"attributes\":{},\"id\":\"3ea3c800-f671-40ad-ac6f-914e33d5f2f5\",\"type\":\"BasicTicker\"},{\"attributes\":{\"dimension\":1,\"plot\":{\"id\":\"5bc96384-1383-4a3e-b7a9-cb5254bdf1b4\",\"subtype\":\"Figure\",\"type\":\"Plot\"},\"ticker\":{\"id\":\"3ea3c800-f671-40ad-ac6f-914e33d5f2f5\",\"type\":\"BasicTicker\"}},\"id\":\"28e68d39-b631-44f5-aa64-ab3197ade211\",\"type\":\"Grid\"},{\"attributes\":{\"source\":{\"id\":\"5beffc5d-9514-43f2-8ef2-3ba4a5326f37\",\"type\":\"ColumnDataSource\"}},\"id\":\"43c138ec-a27f-4e50-9a30-ac12b63db878\",\"type\":\"CDSView\"},{\"attributes\":{\"fill_alpha\":{\"value\":0.5},\"fill_color\":{\"value\":\"lightgrey\"},\"level\":\"overlay\",\"line_alpha\":{\"value\":1.0},\"line_color\":{\"value\":\"black\"},\"line_dash\":[4,4],\"line_width\":{\"value\":2},\"plot\":null,\"xs_units\":\"screen\",\"ys_units\":\"screen\"},\"id\":\"366515ab-2339-4c29-8aa6-e25d7e317a49\",\"type\":\"PolyAnnotation\"},{\"attributes\":{\"callback\":null},\"id\":\"ab207f18-6574-4d33-b734-344b50f3d119\",\"type\":\"DataRange1d\"},{\"attributes\":{\"callback\":null},\"id\":\"9b89cef5-a017-43f9-a4d1-fed3dcc0fa96\",\"type\":\"DataRange1d\"},{\"attributes\":{},\"id\":\"42267fd7-5947-4f13-869a-21585ac850db\",\"type\":\"ResetTool\"},{\"attributes\":{\"active_drag\":\"auto\",\"active_inspect\":\"auto\",\"active_scroll\":\"auto\",\"active_tap\":\"auto\",\"tools\":[{\"id\":\"165b3a80-fb62-45b8-9566-dd796fc366a4\",\"type\":\"HoverTool\"},{\"id\":\"05b9ea11-eb0d-44b5-b0e3-fd8f72f58e7f\",\"type\":\"LassoSelectTool\"},{\"id\":\"c2dd34d1-96d9-421a-8211-79dfd597f14d\",\"type\":\"PanTool\"},{\"id\":\"00ff1612-de3f-49b2-baa7-4537e44d9134\",\"type\":\"WheelZoomTool\"},{\"id\":\"586fdb2b-8c56-4366-8bee-abe5030856f8\",\"type\":\"BoxZoomTool\"},{\"id\":\"42267fd7-5947-4f13-869a-21585ac850db\",\"type\":\"ResetTool\"},{\"id\":\"23813e58-c6a9-4226-b81b-7bbb74bbf565\",\"type\":\"SaveTool\"}]},\"id\":\"13e709db-c78d-43ab-8a51-b5262ecc24da\",\"type\":\"Toolbar\"},{\"attributes\":{\"data_source\":{\"id\":\"5beffc5d-9514-43f2-8ef2-3ba4a5326f37\",\"type\":\"ColumnDataSource\"},\"glyph\":{\"id\":\"c29dcd3f-52ac-48a9-b8c3-480996b11a98\",\"type\":\"Circle\"},\"hover_glyph\":null,\"muted_glyph\":null,\"nonselection_glyph\":{\"id\":\"cd385e5f-482d-4ff1-b7a0-e9b4b660a26b\",\"type\":\"Circle\"},\"selection_glyph\":null,\"view\":{\"id\":\"43c138ec-a27f-4e50-9a30-ac12b63db878\",\"type\":\"CDSView\"}},\"id\":\"bb4d8398-b457-4161-a961-0d00d20df7a5\",\"type\":\"GlyphRenderer\"},{\"attributes\":{},\"id\":\"7cd10805-a530-47c6-a51a-b3b89e73bc2f\",\"type\":\"LinearScale\"},{\"attributes\":{},\"id\":\"c2dd34d1-96d9-421a-8211-79dfd597f14d\",\"type\":\"PanTool\"},{\"attributes\":{},\"id\":\"23813e58-c6a9-4226-b81b-7bbb74bbf565\",\"type\":\"SaveTool\"},{\"attributes\":{\"callback\":null,\"column_names\":[\"x\",\"y\",\"color\",\"label\",\"genre\"],\"data\":{\"color\":[\"green\",\"red\",\"black\",\"blue\",\"yellow\",\"green\",\"orange\",\"black\",\"green\",\"green\"],\"genre\":[\"Pop\",\"Country\",\"Jazz\",\"Hip-Hop\",\"Folk\",\"Metal\",\"Electronic\",\"R&B\",\"Indie\",\"Rock\"],\"label\":[\" 'que',  'y',  'el',  'en',  'mi',  'te',  'se',  'tu',  'je',  'por'\",\" 'holy',  'holy',  'doggin',  'think',  'country',  'ow',  'out',  'elong',  'e',  'elong'\",\" 'oiler',  'homicide',  'la',  'la',  'confusing',  'oh',  'lets',  'someody',  'uh',  'dont'\",\" 'nigga',  'shit',  'itch',  'niggaz',  'cent',  'yo',  'hood',  'gangstas',  'hoes',  'tha'\",\" 'wi',  'o',  'au',  'glen',  'lad',  'tm',  'gon',  'na',  'na',  'aye'\",\" 'que',  'y',  'el',  'en',  'mi',  'te',  'se',  'tu',  'je',  'por'\",\" 'dem',  'mi',  'di',  'fi',  'nuh',  'gyal',  'seh',  'pon',  'inna',  'nah'\",\" 'oiler',  'homicide',  'la',  'la',  'confusing',  'oh',  'lets',  'someody',  'uh',  'dont'\",\" 'que',  'y',  'el',  'en',  'mi',  'te',  'se',  'tu',  'je',  'por'\",\" 'que',  'y',  'el',  'en',  'mi',  'te',  'se',  'tu',  'je',  'por'\"],\"x\":[0.2283864949336174,-0.6118341268854528,-0.016958260383729606,-0.34227684872523556,0.4707853637667972,0.37095579595519923,-0.12842964431320872,-0.6131503106990486,0.5344874213749273,0.10803411497613402],\"y\":[0.1520270548863536,-0.3130610603895438,-0.5940962128111494,-0.22239488546449288,-0.5084996194522569,0.33851686783882123,0.6513921020500941,0.34431411152231955,0.20868408711596192,-0.05688244529610771]}},\"id\":\"5beffc5d-9514-43f2-8ef2-3ba4a5326f37\",\"type\":\"ColumnDataSource\"},{\"attributes\":{},\"id\":\"fe99e860-ab65-4105-97ba-3c9334bd8b52\",\"type\":\"BasicTicker\"},{\"attributes\":{},\"id\":\"3f75f35f-cd06-477c-94bb-555d15c6a0be\",\"type\":\"LinearScale\"},{\"attributes\":{\"callback\":null,\"tooltips\":[[\"Cluster\",\"@label\"]]},\"id\":\"165b3a80-fb62-45b8-9566-dd796fc366a4\",\"type\":\"HoverTool\"},{\"attributes\":{\"below\":[{\"id\":\"bf6050d7-e0d6-46aa-9ccf-9e7e311e12b1\",\"type\":\"LinearAxis\"}],\"left\":[{\"id\":\"af8bd966-9216-426a-9b4c-c509cc5be5b9\",\"type\":\"LinearAxis\"}],\"renderers\":[{\"id\":\"bf6050d7-e0d6-46aa-9ccf-9e7e311e12b1\",\"type\":\"LinearAxis\"},{\"id\":\"617ba76f-6d97-4709-9ef9-0815d8b89211\",\"type\":\"Grid\"},{\"id\":\"af8bd966-9216-426a-9b4c-c509cc5be5b9\",\"type\":\"LinearAxis\"},{\"id\":\"28e68d39-b631-44f5-aa64-ab3197ade211\",\"type\":\"Grid\"},{\"id\":\"366515ab-2339-4c29-8aa6-e25d7e317a49\",\"type\":\"PolyAnnotation\"},{\"id\":\"dfc15d28-46d0-43e7-848d-d88b239f57a6\",\"type\":\"BoxAnnotation\"},{\"id\":\"bb4d8398-b457-4161-a961-0d00d20df7a5\",\"type\":\"GlyphRenderer\"},{\"id\":\"7037b5e9-33ac-44a1-9477-f67dbe77c4b5\",\"type\":\"LabelSet\"}],\"title\":{\"id\":\"22e8f384-5c1c-47e0-b1f9-93d112776293\",\"type\":\"Title\"},\"toolbar\":{\"id\":\"13e709db-c78d-43ab-8a51-b5262ecc24da\",\"type\":\"Toolbar\"},\"x_range\":{\"id\":\"ab207f18-6574-4d33-b734-344b50f3d119\",\"type\":\"DataRange1d\"},\"x_scale\":{\"id\":\"7cd10805-a530-47c6-a51a-b3b89e73bc2f\",\"type\":\"LinearScale\"},\"y_range\":{\"id\":\"9b89cef5-a017-43f9-a4d1-fed3dcc0fa96\",\"type\":\"DataRange1d\"},\"y_scale\":{\"id\":\"3f75f35f-cd06-477c-94bb-555d15c6a0be\",\"type\":\"LinearScale\"}},\"id\":\"5bc96384-1383-4a3e-b7a9-cb5254bdf1b4\",\"subtype\":\"Figure\",\"type\":\"Plot\"},{\"attributes\":{\"plot\":{\"id\":\"5bc96384-1383-4a3e-b7a9-cb5254bdf1b4\",\"subtype\":\"Figure\",\"type\":\"Plot\"},\"ticker\":{\"id\":\"fe99e860-ab65-4105-97ba-3c9334bd8b52\",\"type\":\"BasicTicker\"}},\"id\":\"617ba76f-6d97-4709-9ef9-0815d8b89211\",\"type\":\"Grid\"},{\"attributes\":{\"callback\":null,\"overlay\":{\"id\":\"366515ab-2339-4c29-8aa6-e25d7e317a49\",\"type\":\"PolyAnnotation\"}},\"id\":\"05b9ea11-eb0d-44b5-b0e3-fd8f72f58e7f\",\"type\":\"LassoSelectTool\"},{\"attributes\":{\"fill_alpha\":{\"value\":0.6},\"fill_color\":{\"value\":\"#8724B5\"},\"line_color\":{\"value\":null},\"x\":{\"field\":\"x\"},\"y\":{\"field\":\"y\"}},\"id\":\"c29dcd3f-52ac-48a9-b8c3-480996b11a98\",\"type\":\"Circle\"},{\"attributes\":{\"fill_alpha\":{\"value\":0.1},\"fill_color\":{\"value\":\"#1f77b4\"},\"line_alpha\":{\"value\":0.1},\"line_color\":{\"value\":\"#1f77b4\"},\"x\":{\"field\":\"x\"},\"y\":{\"field\":\"y\"}},\"id\":\"cd385e5f-482d-4ff1-b7a0-e9b4b660a26b\",\"type\":\"Circle\"},{\"attributes\":{\"plot\":null,\"text\":\"Clustering Music Genres Based on Lyrics\"},\"id\":\"22e8f384-5c1c-47e0-b1f9-93d112776293\",\"type\":\"Title\"},{\"attributes\":{\"bottom_units\":\"screen\",\"fill_alpha\":{\"value\":0.5},\"fill_color\":{\"value\":\"lightgrey\"},\"left_units\":\"screen\",\"level\":\"overlay\",\"line_alpha\":{\"value\":1.0},\"line_color\":{\"value\":\"black\"},\"line_dash\":[4,4],\"line_width\":{\"value\":2},\"plot\":null,\"render_mode\":\"css\",\"right_units\":\"screen\",\"top_units\":\"screen\"},\"id\":\"dfc15d28-46d0-43e7-848d-d88b239f57a6\",\"type\":\"BoxAnnotation\"},{\"attributes\":{\"overlay\":{\"id\":\"dfc15d28-46d0-43e7-848d-d88b239f57a6\",\"type\":\"BoxAnnotation\"}},\"id\":\"586fdb2b-8c56-4366-8bee-abe5030856f8\",\"type\":\"BoxZoomTool\"},{\"attributes\":{\"formatter\":{\"id\":\"67b30ef7-6019-4934-8791-7f64a7130146\",\"type\":\"BasicTickFormatter\"},\"plot\":{\"id\":\"5bc96384-1383-4a3e-b7a9-cb5254bdf1b4\",\"subtype\":\"Figure\",\"type\":\"Plot\"},\"ticker\":{\"id\":\"fe99e860-ab65-4105-97ba-3c9334bd8b52\",\"type\":\"BasicTicker\"}},\"id\":\"bf6050d7-e0d6-46aa-9ccf-9e7e311e12b1\",\"type\":\"LinearAxis\"},{\"attributes\":{\"plot\":{\"id\":\"5bc96384-1383-4a3e-b7a9-cb5254bdf1b4\",\"subtype\":\"Figure\",\"type\":\"Plot\"},\"source\":{\"id\":\"5beffc5d-9514-43f2-8ef2-3ba4a5326f37\",\"type\":\"ColumnDataSource\"},\"text\":{\"field\":\"genre\"},\"text_align\":\"center\",\"text_color\":{\"field\":\"color\"},\"text_font_size\":{\"value\":\"6pt\"},\"x\":{\"field\":\"x\"},\"y\":{\"field\":\"y\"},\"y_offset\":{\"value\":8}},\"id\":\"7037b5e9-33ac-44a1-9477-f67dbe77c4b5\",\"type\":\"LabelSet\"},{\"attributes\":{},\"id\":\"67b30ef7-6019-4934-8791-7f64a7130146\",\"type\":\"BasicTickFormatter\"},{\"attributes\":{},\"id\":\"56a9d24f-01d8-4259-ba60-63b21a699890\",\"type\":\"BasicTickFormatter\"},{\"attributes\":{},\"id\":\"00ff1612-de3f-49b2-baa7-4537e44d9134\",\"type\":\"WheelZoomTool\"}],\"root_ids\":[\"5bc96384-1383-4a3e-b7a9-cb5254bdf1b4\"]},\"title\":\"Bokeh Application\",\"version\":\"0.12.7\"}};\n",
       "            var render_items = [{\"docid\":\"38dc0e6b-ae7c-450d-8f4c-4bab9c81e825\",\"elementid\":\"97b34643-5f3c-4f5e-835e-4076c339f734\",\"modelid\":\"5bc96384-1383-4a3e-b7a9-cb5254bdf1b4\"}];\n",
       "            \n",
       "            Bokeh.embed.embed_items(docs_json, render_items);\n",
       "          };\n",
       "          if (document.readyState != \"loading\") fn();\n",
       "          else document.addEventListener(\"DOMContentLoaded\", fn);\n",
       "        })();\n",
       "      },\n",
       "      function(Bokeh) {\n",
       "      }\n",
       "    ];\n",
       "  \n",
       "    function run_inline_js() {\n",
       "      \n",
       "      if ((root.Bokeh !== undefined) || (force === true)) {\n",
       "        for (var i = 0; i < inline_js.length; i++) {\n",
       "          inline_js[i].call(root, root.Bokeh);\n",
       "        }if (force === true) {\n",
       "          display_loaded();\n",
       "        }} else if (Date.now() < root._bokeh_timeout) {\n",
       "        setTimeout(run_inline_js, 100);\n",
       "      } else if (!root._bokeh_failed_load) {\n",
       "        console.log(\"Bokeh: BokehJS failed to load within specified timeout.\");\n",
       "        root._bokeh_failed_load = true;\n",
       "      } else if (force !== true) {\n",
       "        var cell = $(document.getElementById(\"97b34643-5f3c-4f5e-835e-4076c339f734\")).parents('.cell').data().cell;\n",
       "        cell.output_area.append_execute_result(NB_LOAD_WARNING)\n",
       "      }\n",
       "  \n",
       "    }\n",
       "  \n",
       "    if (root._bokeh_is_loading === 0) {\n",
       "      console.log(\"Bokeh: BokehJS loaded, going straight to plotting\");\n",
       "      run_inline_js();\n",
       "    } else {\n",
       "      load_libs(js_urls, function() {\n",
       "        console.log(\"Bokeh: BokehJS plotting callback run at\", now());\n",
       "        run_inline_js();\n",
       "      });\n",
       "    }\n",
       "  }(window));\n",
       "</script>"
      ]
     },
     "metadata": {},
     "output_type": "display_data"
    }
   ],
   "source": [
    "show(p)"
   ]
  },
  {
   "cell_type": "code",
   "execution_count": null,
   "metadata": {
    "collapsed": true
   },
   "outputs": [],
   "source": []
  }
 ],
 "metadata": {
  "kernelspec": {
   "display_name": "Python 3",
   "language": "python",
   "name": "python3"
  },
  "language_info": {
   "codemirror_mode": {
    "name": "ipython",
    "version": 3
   },
   "file_extension": ".py",
   "mimetype": "text/x-python",
   "name": "python",
   "nbconvert_exporter": "python",
   "pygments_lexer": "ipython3",
   "version": "3.6.1"
  }
 },
 "nbformat": 4,
 "nbformat_minor": 2
}
