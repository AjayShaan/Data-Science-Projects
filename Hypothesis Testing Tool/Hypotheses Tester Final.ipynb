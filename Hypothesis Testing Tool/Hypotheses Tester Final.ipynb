{
 "cells": [
  {
   "cell_type": "code",
   "execution_count": 2,
   "metadata": {},
   "outputs": [],
   "source": [
    "import math\n",
    "import numpy as np\n",
    "import scipy.stats as st\n",
    "\n",
    "\n",
    "def hypothesis_test(test, num_tails):\n",
    "    \n",
    "    if test == 'Z':\n",
    "        \n",
    "        mean = float(input('Enter baseline mean '))\n",
    "        std = float(input('Enter baseline standard deviation '))\n",
    "        sample_size = int(input('Enter sample size '))\n",
    "        observed_sample_mean = float(input('Enter mean of observed sample '))\n",
    "        confidence = float(input('Enter percentage of confidence threshold for determining statistical significance '))/100\n",
    "        sample_distribution_std = std / math.sqrt(sample_size)\n",
    "        sample_distribution_mean = mean\n",
    "        z_score = (observed_sample_mean - sample_distribution_mean) / sample_distribution_std\n",
    "        if observed_sample_mean > mean:\n",
    "            p_value = 1 - st.norm.cdf(z_score)\n",
    "        else:\n",
    "            p_value = st.norm.cdf(z_score)\n",
    "        \n",
    "        if num_tails == 1:\n",
    "            if p_value < (1-confidence):\n",
    "                print('The null hypothesis has been proved false with ' + str((1-p_value)*100) +'% confidence. Therefore the alternative hypothesis holds true.' )\n",
    "            else:\n",
    "                print('The null hypothesis could not be proved false with ' + str((1-p_value)*100) +'% confidence. Therefore, there is insufficient evidence to refute the null hypothesis. Try using bigger samples.' )\n",
    "        \n",
    "        elif num_tails == 2:\n",
    "            print('Elevated confidence threshold owing to two-tailedness ' + str((confidence+((1-confidence)/2))*100))\n",
    "            if p_value < ((1-confidence)/2):\n",
    "                print('The null hypothesis has been proved false with ' + str((1-p_value)*100) +'% confidence. Therefore the alternative hypothesis holds true.' )\n",
    "            else:\n",
    "                print('The null hypothesis could not be proved false with ' + str((1-p_value)*100) +'% confidence. Therefore, there is insufficient evidence to refute the null hypothesis. Try using bigger samples.' )\n",
    "    \n",
    "    \n",
    "    if test == 'T':\n",
    "        \n",
    "        mean = float(input('Enter baseline mean '))\n",
    "        sample_observations = input('Enter observations from sample separated by commas ')\n",
    "        sample_observations = sample_observations.split(',')\n",
    "        sample_observations = [float(x) for x in sample_observations]\n",
    "        observed_sample_std = np.std(sample_observations)\n",
    "        observed_sample_mean = np.mean(sample_observations)\n",
    "        degrees_of_freedom = len(sample_observations) - 1\n",
    "        confidence = float(input('Enter percentage of confidence threshold for determining statistical significance '))/100\n",
    "        t_score = (observed_sample_mean - mean) / (observed_sample_std/math.sqrt(degrees_of_freedom))\n",
    "        \n",
    "        if num_tails == 1:\n",
    "            t_critical = abs(st.t.ppf(1-confidence, degrees_of_freedom))\n",
    "            _, p_value = st.ttest_1samp(sample_observations, mean)\n",
    "            if observed_sample_mean > mean:\n",
    "                if t_score > t_critical:\n",
    "                    print('The null hypothesis has been proved false with ' + str((1-p_value)*100) +'% confidence. Therefore the alternative hypothesis holds true.' )\n",
    "                else:\n",
    "                    print('The null hypothesis could not be proved false with ' + str((1-p_value)*100) +'% confidence. Therefore, there is insufficient evidence to refute the null hypothesis. Try using bigger samples.' )\n",
    "            else:\n",
    "                if t_score < (-1 * t_critical):\n",
    "                    print('The null hypothesis has been proved false with ' + str((1-p_value)*100) +'% confidence. Therefore the alternative hypothesis holds true.' )\n",
    "                else:\n",
    "                    print('The null hypothesis could not be proved false with ' + str((1-p_value)*100) +'% confidence. Therefore, there is insufficient evidence to refute the null hypothesis. Try using bigger samples.' )\n",
    "            \n",
    "        elif num_tails == 2:\n",
    "            print('Elevated confidence threshold owing to two-tailedness ' + str((confidence+((1-confidence)/2))*100))\n",
    "            t_critical = abs(st.t.ppf((1-confidence)/2, degrees_of_freedom))\n",
    "            _, p_value = st.ttest_1samp(sample_observations, mean)\n",
    "            if observed_sample_mean > mean:\n",
    "                if t_score > t_critical:\n",
    "                    print('The null hypothesis has been proved false with ' + str((1-p_value)*100) +'% confidence. Therefore the alternative hypothesis holds true.' )\n",
    "                else:\n",
    "                    print('The null hypothesis could not be proved false with ' + str((1-p_value)*100) +'% confidence. Therefore, there is insufficient evidence to refute the null hypothesis. Try using bigger samples.' )\n",
    "            else:\n",
    "                if t_score < (-1 * t_critical):\n",
    "                    print('The null hypothesis has been proved false with ' + str((1-p_value)*100) +'% confidence. Therefore the alternative hypothesis holds true.' )\n",
    "                else:\n",
    "                    print('The null hypothesis could not be proved false with ' + str((1-p_value)*100) +'% confidence. Therefore, there is insufficient evidence to refute the null hypothesis. Try using bigger samples.' )\n",
    "\n",
    "    \n",
    "    \n",
    "    if test == 'Zprop':\n",
    "        \n",
    "        prop = float(input('Enter baseline proportion '))/100\n",
    "        std = np.sqrt(prop*(1-prop))\n",
    "        sample_size = int(input('Enter sample size '))\n",
    "        observed_sample_prop = float(input('Enter proportion in observed sample '))/100\n",
    "        confidence = float(input('Enter percentage of confidence threshold for determining statistical significance '))/100\n",
    "        \n",
    "        if (sample_size*observed_sample_prop <= 10) or (sample_size*(1-observed_sample_prop) <= 10):\n",
    "            print('There should be more than 10 observations of both proportions in the sample')\n",
    "            return None\n",
    "        \n",
    "        sample_distribution_std = std / math.sqrt(sample_size)\n",
    "        z_score = (observed_sample_prop - prop) / sample_distribution_std\n",
    "        if observed_sample_prop > prop:\n",
    "            p_value = 1 - st.norm.cdf(z_score)\n",
    "        else:\n",
    "            p_value = st.norm.cdf(z_score)\n",
    "        \n",
    "        if num_tails == 1:\n",
    "            if p_value < (1-confidence):\n",
    "                print('The null hypothesis has been proved false with ' + str((1-p_value)*100) +'% confidence. Therefore the alternative hypothesis holds true.' )\n",
    "            else:\n",
    "                print('The null hypothesis could not be proved false with ' + str((1-p_value)*100) +'% confidence. Therefore, there is insufficient evidence to refute the null hypothesis. Try using bigger samples.' )\n",
    "        \n",
    "        elif num_tails == 2:\n",
    "            print('Elevated confidence threshold owing to two-tailedness ' + str((confidence+((1-confidence)/2))*100))\n",
    "            if p_value < ((1-confidence)/2):\n",
    "                print('The null hypothesis has been proved false with ' + str((1-p_value)*100) +'% confidence. Therefore the alternative hypothesis holds true.' )\n",
    "            else:\n",
    "                print('The null hypothesis could not be proved false with ' + str((1-p_value)*100) +'% confidence. Therefore, there is insufficient evidence to refute the null hypothesis. Try using bigger samples.' )\n",
    "\n"
   ]
  },
  {
   "cell_type": "code",
   "execution_count": 3,
   "metadata": {},
   "outputs": [
    {
     "name": "stdout",
     "output_type": "stream",
     "text": [
      "Enter baseline mean 60\n",
      "Enter baseline standard deviation 30\n",
      "Enter sample size 50\n",
      "Enter mean of observed sample 75\n",
      "Enter percentage of confidence threshold for determining statistical significance 95\n",
      "The null hypothesis has been proved false with 99.97965239912774% confidence. Therefore the alternative hypothesis holds true.\n"
     ]
    }
   ],
   "source": [
    "hypothesis_test('Z',1)"
   ]
  },
  {
   "cell_type": "code",
   "execution_count": 3,
   "metadata": {},
   "outputs": [
    {
     "name": "stdout",
     "output_type": "stream",
     "text": [
      "Enter baseline mean 60\n",
      "Enter baseline standard deviation 30\n",
      "Enter sample size 50\n",
      "Enter mean of observed sample 75\n",
      "Enter percentage of confidence threshold for determining statistical significance 95\n",
      "Elevated confidence threshold owing to two-tailedness 97.5\n",
      "The null hypothesis has been proved false with 99.9796523991% confidence. Therefore the alternative hypothesis holds true.\n"
     ]
    }
   ],
   "source": [
    "hypothesis_test('Z',2)"
   ]
  },
  {
   "cell_type": "code",
   "execution_count": 13,
   "metadata": {},
   "outputs": [
    {
     "name": "stdout",
     "output_type": "stream",
     "text": [
      "Enter baseline mean 100\n",
      "Enter observations from sample separated by commas 85, 110, 150, 95, 120, 115, 90, 85, 140, 90, 135, 75, 125, 150, 85, 175, 90, 110, 140, 95, 110, 150, 125, 110, 145, 200, 100, 95, 160, 180\n",
      "Enter percentage of confidence threshold for determining statistical significance 95\n",
      "The null hypothesis has been proved false with 99.8827622925% confidence. Therefore the alternative hypothesis holds true.\n"
     ]
    }
   ],
   "source": [
    "hypothesis_test('T',1)"
   ]
  },
  {
   "cell_type": "code",
   "execution_count": 14,
   "metadata": {},
   "outputs": [
    {
     "name": "stdout",
     "output_type": "stream",
     "text": [
      "Enter baseline mean 100\n",
      "Enter observations from sample separated by commas 85, 110, 150, 95, 120, 115, 90, 85, 140, 90, 135, 75, 125, 150, 85, 175, 90, 110, 140, 95, 110, 150, 125, 110, 145, 200, 100, 95, 160, 180\n",
      "Enter percentage of confidence threshold for determining statistical significance 95\n",
      "Elevated confidence threshold owing to two-tailedness 97.5\n",
      "The null hypothesis has been proved false with 99.8827622925% confidence. Therefore the alternative hypothesis holds true.\n"
     ]
    }
   ],
   "source": [
    "hypothesis_test('T',2)"
   ]
  },
  {
   "cell_type": "code",
   "execution_count": 16,
   "metadata": {},
   "outputs": [
    {
     "name": "stdout",
     "output_type": "stream",
     "text": [
      "Enter baseline proportion 70\n",
      "Enter sample size 100\n",
      "Enter proportion in observed sample 85\n",
      "Enter percentage of confidence threshold for determining statistical significance 95\n",
      "The null hypothesis has been proved false with 99.9468442541% confidence. Therefore the alternative hypothesis holds true.\n"
     ]
    }
   ],
   "source": [
    "hypothesis_test('Zprop',1)"
   ]
  },
  {
   "cell_type": "code",
   "execution_count": 17,
   "metadata": {},
   "outputs": [
    {
     "name": "stdout",
     "output_type": "stream",
     "text": [
      "Enter baseline proportion 70\n",
      "Enter sample size 100\n",
      "Enter proportion in observed sample 85\n",
      "Enter percentage of confidence threshold for determining statistical significance 95\n",
      "Elevated confidence threshold owing to two-tailedness 97.5\n",
      "The null hypothesis has been proved false with 99.9468442541% confidence. Therefore the alternative hypothesis holds true.\n"
     ]
    }
   ],
   "source": [
    "hypothesis_test('Zprop',2)"
   ]
  },
  {
   "cell_type": "code",
   "execution_count": null,
   "metadata": {},
   "outputs": [],
   "source": []
  }
 ],
 "metadata": {
  "kernelspec": {
   "display_name": "Python 3",
   "language": "python",
   "name": "python3"
  },
  "language_info": {
   "codemirror_mode": {
    "name": "ipython",
    "version": 3
   },
   "file_extension": ".py",
   "mimetype": "text/x-python",
   "name": "python",
   "nbconvert_exporter": "python",
   "pygments_lexer": "ipython3",
   "version": "3.6.5"
  }
 },
 "nbformat": 4,
 "nbformat_minor": 2
}
